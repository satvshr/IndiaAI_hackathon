{
 "cells": [
  {
   "cell_type": "code",
   "execution_count": 1,
   "id": "d52cfe97",
   "metadata": {
    "execution": {
     "iopub.execute_input": "2024-11-16T18:33:23.486705Z",
     "iopub.status.busy": "2024-11-16T18:33:23.485852Z",
     "iopub.status.idle": "2024-11-16T18:33:23.490915Z",
     "shell.execute_reply": "2024-11-16T18:33:23.490014Z"
    },
    "papermill": {
     "duration": 0.025212,
     "end_time": "2024-11-16T18:33:23.492783",
     "exception": false,
     "start_time": "2024-11-16T18:33:23.467571",
     "status": "completed"
    },
    "tags": []
   },
   "outputs": [],
   "source": [
    "# !pip install wordninja autocorrect"
   ]
  },
  {
   "cell_type": "code",
   "execution_count": 2,
   "id": "c54c319a",
   "metadata": {
    "_cell_guid": "b1076dfc-b9ad-4769-8c92-a6c4dae69d19",
    "_uuid": "8f2839f25d086af736a60e9eeb907d3b93b6e0e5",
    "execution": {
     "iopub.execute_input": "2024-11-16T18:33:23.524066Z",
     "iopub.status.busy": "2024-11-16T18:33:23.523767Z",
     "iopub.status.idle": "2024-11-16T18:33:25.921293Z",
     "shell.execute_reply": "2024-11-16T18:33:25.920288Z"
    },
    "papermill": {
     "duration": 2.41554,
     "end_time": "2024-11-16T18:33:25.923559",
     "exception": false,
     "start_time": "2024-11-16T18:33:23.508019",
     "status": "completed"
    },
    "tags": []
   },
   "outputs": [
    {
     "name": "stdout",
     "output_type": "stream",
     "text": [
      "/kaggle/input/cyberguard-ai-hackathon/train.csv\n",
      "/kaggle/input/cyberguard-ai-hackathon/test.csv\n"
     ]
    }
   ],
   "source": [
    "# This Python 3 environment comes with many helpful analytics libraries installed\n",
    "# It is defined by the kaggle/python Docker image: https://github.com/kaggle/docker-python\n",
    "# For example, here's several helpful packages to load\n",
    "\n",
    "import numpy as np # linear algebra\n",
    "import pandas as pd # data processing, CSV file I/O (e.g. pd.read_csv)\n",
    "import re\n",
    "import string\n",
    "from nltk.corpus import stopwords\n",
    "import pprint\n",
    "\n",
    "# from autocorrect import Speller\n",
    "\n",
    "# Input data files are available in the read-only \"../input/\" directory\n",
    "# For example, running this (by clicking run or pressing Shift+Enter) will list all files under the input directory\n",
    "\n",
    "import os\n",
    "for dirname, _, filenames in os.walk('/kaggle/input'):\n",
    "    for filename in filenames:\n",
    "        print(os.path.join(dirname, filename))\n",
    "\n",
    "# You can write up to 20GB to the current directory (/kaggle/working/) that gets preserved as output when you create a version using \"Save & Run All\" \n",
    "# You can also write temporary files to /kaggle/temp/, but they won't be saved outside of the current session"
   ]
  },
  {
   "cell_type": "code",
   "execution_count": 3,
   "id": "1079de0f",
   "metadata": {
    "execution": {
     "iopub.execute_input": "2024-11-16T18:33:25.956130Z",
     "iopub.status.busy": "2024-11-16T18:33:25.955723Z",
     "iopub.status.idle": "2024-11-16T18:33:27.145682Z",
     "shell.execute_reply": "2024-11-16T18:33:27.144815Z"
    },
    "papermill": {
     "duration": 1.209584,
     "end_time": "2024-11-16T18:33:27.148213",
     "exception": false,
     "start_time": "2024-11-16T18:33:25.938629",
     "status": "completed"
    },
    "tags": []
   },
   "outputs": [],
   "source": [
    "train = pd.read_csv('/kaggle/input/cyberguard-ai-hackathon/train.csv')\n",
    "test = pd.read_csv('/kaggle/input/cyberguard-ai-hackathon/test.csv')"
   ]
  },
  {
   "cell_type": "code",
   "execution_count": 4,
   "id": "86dfa1c4",
   "metadata": {
    "execution": {
     "iopub.execute_input": "2024-11-16T18:33:27.180580Z",
     "iopub.status.busy": "2024-11-16T18:33:27.179970Z",
     "iopub.status.idle": "2024-11-16T18:33:27.235119Z",
     "shell.execute_reply": "2024-11-16T18:33:27.234018Z"
    },
    "papermill": {
     "duration": 0.07305,
     "end_time": "2024-11-16T18:33:27.237102",
     "exception": false,
     "start_time": "2024-11-16T18:33:27.164052",
     "status": "completed"
    },
    "tags": []
   },
   "outputs": [
    {
     "name": "stdout",
     "output_type": "stream",
     "text": [
      "<class 'pandas.core.frame.DataFrame'>\n",
      "RangeIndex: 93686 entries, 0 to 93685\n",
      "Data columns (total 3 columns):\n",
      " #   Column              Non-Null Count  Dtype \n",
      "---  ------              --------------  ----- \n",
      " 0   category            93686 non-null  object\n",
      " 1   sub_category        87095 non-null  object\n",
      " 2   crimeaditionalinfo  93665 non-null  object\n",
      "dtypes: object(3)\n",
      "memory usage: 2.1+ MB\n"
     ]
    }
   ],
   "source": [
    "train.info()"
   ]
  },
  {
   "cell_type": "code",
   "execution_count": 5,
   "id": "a226c285",
   "metadata": {
    "execution": {
     "iopub.execute_input": "2024-11-16T18:33:27.268932Z",
     "iopub.status.busy": "2024-11-16T18:33:27.268371Z",
     "iopub.status.idle": "2024-11-16T18:33:27.287114Z",
     "shell.execute_reply": "2024-11-16T18:33:27.286011Z"
    },
    "papermill": {
     "duration": 0.036926,
     "end_time": "2024-11-16T18:33:27.289313",
     "exception": false,
     "start_time": "2024-11-16T18:33:27.252387",
     "status": "completed"
    },
    "tags": []
   },
   "outputs": [
    {
     "name": "stdout",
     "output_type": "stream",
     "text": [
      "<class 'pandas.core.frame.DataFrame'>\n",
      "RangeIndex: 31229 entries, 0 to 31228\n",
      "Data columns (total 3 columns):\n",
      " #   Column              Non-Null Count  Dtype \n",
      "---  ------              --------------  ----- \n",
      " 0   category            31229 non-null  object\n",
      " 1   sub_category        28993 non-null  object\n",
      " 2   crimeaditionalinfo  31222 non-null  object\n",
      "dtypes: object(3)\n",
      "memory usage: 732.1+ KB\n"
     ]
    }
   ],
   "source": [
    "test.info()"
   ]
  },
  {
   "cell_type": "code",
   "execution_count": 6,
   "id": "0f793021",
   "metadata": {
    "execution": {
     "iopub.execute_input": "2024-11-16T18:33:27.320440Z",
     "iopub.status.busy": "2024-11-16T18:33:27.320132Z",
     "iopub.status.idle": "2024-11-16T18:33:27.324139Z",
     "shell.execute_reply": "2024-11-16T18:33:27.323317Z"
    },
    "papermill": {
     "duration": 0.021766,
     "end_time": "2024-11-16T18:33:27.325915",
     "exception": false,
     "start_time": "2024-11-16T18:33:27.304149",
     "status": "completed"
    },
    "tags": []
   },
   "outputs": [],
   "source": [
    "pd.options.display.max_columns = None\n",
    "pd.options.display.max_colwidth = None"
   ]
  },
  {
   "cell_type": "code",
   "execution_count": 7,
   "id": "32fe59fe",
   "metadata": {
    "execution": {
     "iopub.execute_input": "2024-11-16T18:33:27.357086Z",
     "iopub.status.busy": "2024-11-16T18:33:27.356520Z",
     "iopub.status.idle": "2024-11-16T18:33:27.369835Z",
     "shell.execute_reply": "2024-11-16T18:33:27.368982Z"
    },
    "papermill": {
     "duration": 0.031391,
     "end_time": "2024-11-16T18:33:27.372166",
     "exception": false,
     "start_time": "2024-11-16T18:33:27.340775",
     "status": "completed"
    },
    "tags": []
   },
   "outputs": [
    {
     "data": {
      "text/html": [
       "<div>\n",
       "<style scoped>\n",
       "    .dataframe tbody tr th:only-of-type {\n",
       "        vertical-align: middle;\n",
       "    }\n",
       "\n",
       "    .dataframe tbody tr th {\n",
       "        vertical-align: top;\n",
       "    }\n",
       "\n",
       "    .dataframe thead th {\n",
       "        text-align: right;\n",
       "    }\n",
       "</style>\n",
       "<table border=\"1\" class=\"dataframe\">\n",
       "  <thead>\n",
       "    <tr style=\"text-align: right;\">\n",
       "      <th></th>\n",
       "      <th>category</th>\n",
       "      <th>sub_category</th>\n",
       "      <th>crimeaditionalinfo</th>\n",
       "    </tr>\n",
       "  </thead>\n",
       "  <tbody>\n",
       "    <tr>\n",
       "      <th>0</th>\n",
       "      <td>Online and Social Media Related Crime</td>\n",
       "      <td>Cyber Bullying  Stalking  Sexting</td>\n",
       "      <td>I had continue received random calls and abusive messages in my whatsapp Someone added my number in a unknown facebook group name with  Only Girls  and still getting calls from unknown numbers pls help me and sort out the issue  as soon as possible Thank you</td>\n",
       "    </tr>\n",
       "    <tr>\n",
       "      <th>1</th>\n",
       "      <td>Online Financial Fraud</td>\n",
       "      <td>Fraud CallVishing</td>\n",
       "      <td>The above fraudster is continuously messaging me and Asking me to pay him money or he will send fake  cropped nude photos of me to my other contacts through WhatsApp\\r\\n\\r\\nI am unaware how he has recieved my contacts list from my phone\\r\\n\\r\\nPlease help</td>\n",
       "    </tr>\n",
       "    <tr>\n",
       "      <th>2</th>\n",
       "      <td>Online Gambling  Betting</td>\n",
       "      <td>Online Gambling  Betting</td>\n",
       "      <td>He is acting like a police and demanding for money by adding sections in the text messages \\r\\nI request you to take an immediate action on him Frequently he is harassing with these messages For reference please find attached files</td>\n",
       "    </tr>\n",
       "    <tr>\n",
       "      <th>3</th>\n",
       "      <td>Online and Social Media Related Crime</td>\n",
       "      <td>Online Job Fraud</td>\n",
       "      <td>In apna Job I have applied for job interview for telecalling and the resource management wrote that twelve hundred will be charged for security amount of laptop and work from home when I have given interview on the given address next day they charged twelve hundred and six hundred more money in the name of insurance after that they have referred me to the job calling there is no work of laptop neither a work from home kindly please take action against it as soon as possible and if possible please help me to recover my financial loss</td>\n",
       "    </tr>\n",
       "    <tr>\n",
       "      <th>4</th>\n",
       "      <td>Online Financial Fraud</td>\n",
       "      <td>Fraud CallVishing</td>\n",
       "      <td>I received a call from lady stating that she will send new phone of vivo and I received that parcel through post on  th February to Kurnool head post office  where I have not received any mobile</td>\n",
       "    </tr>\n",
       "  </tbody>\n",
       "</table>\n",
       "</div>"
      ],
      "text/plain": [
       "                                category                       sub_category  \\\n",
       "0  Online and Social Media Related Crime  Cyber Bullying  Stalking  Sexting   \n",
       "1                 Online Financial Fraud                  Fraud CallVishing   \n",
       "2               Online Gambling  Betting           Online Gambling  Betting   \n",
       "3  Online and Social Media Related Crime                   Online Job Fraud   \n",
       "4                 Online Financial Fraud                  Fraud CallVishing   \n",
       "\n",
       "                                                                                                                                                                                                                                                                                                                                                                                                                                                                                                                                           crimeaditionalinfo  \n",
       "0                                                                                                                                                                                                                                                                                          I had continue received random calls and abusive messages in my whatsapp Someone added my number in a unknown facebook group name with  Only Girls  and still getting calls from unknown numbers pls help me and sort out the issue  as soon as possible Thank you  \n",
       "1                                                                                                                                                                                                                                                                                             The above fraudster is continuously messaging me and Asking me to pay him money or he will send fake  cropped nude photos of me to my other contacts through WhatsApp\\r\\n\\r\\nI am unaware how he has recieved my contacts list from my phone\\r\\n\\r\\nPlease help  \n",
       "2                                                                                                                                                                                                                                                                                                                     He is acting like a police and demanding for money by adding sections in the text messages \\r\\nI request you to take an immediate action on him Frequently he is harassing with these messages For reference please find attached files  \n",
       "3  In apna Job I have applied for job interview for telecalling and the resource management wrote that twelve hundred will be charged for security amount of laptop and work from home when I have given interview on the given address next day they charged twelve hundred and six hundred more money in the name of insurance after that they have referred me to the job calling there is no work of laptop neither a work from home kindly please take action against it as soon as possible and if possible please help me to recover my financial loss  \n",
       "4                                                                                                                                                                                                                                                                                                                                                          I received a call from lady stating that she will send new phone of vivo and I received that parcel through post on  th February to Kurnool head post office  where I have not received any mobile  "
      ]
     },
     "execution_count": 7,
     "metadata": {},
     "output_type": "execute_result"
    }
   ],
   "source": [
    "train.head()"
   ]
  },
  {
   "cell_type": "code",
   "execution_count": 8,
   "id": "494f374b",
   "metadata": {
    "execution": {
     "iopub.execute_input": "2024-11-16T18:33:27.404584Z",
     "iopub.status.busy": "2024-11-16T18:33:27.404270Z",
     "iopub.status.idle": "2024-11-16T18:33:27.449360Z",
     "shell.execute_reply": "2024-11-16T18:33:27.448242Z"
    },
    "papermill": {
     "duration": 0.063651,
     "end_time": "2024-11-16T18:33:27.451477",
     "exception": false,
     "start_time": "2024-11-16T18:33:27.387826",
     "status": "completed"
    },
    "tags": []
   },
   "outputs": [
    {
     "name": "stdout",
     "output_type": "stream",
     "text": [
      "category\n",
      "Online Financial Fraud                                  57434\n",
      "Online and Social Media Related Crime                   12140\n",
      "Any Other Cyber Crime                                   10878\n",
      "Cyber Attack/ Dependent Crimes                           3608\n",
      "RapeGang Rape RGRSexually Abusive Content                2822\n",
      "Sexually Obscene material                                1838\n",
      "Hacking  Damage to computercomputer system etc           1710\n",
      "Sexually Explicit Act                                    1552\n",
      "Cryptocurrency Crime                                      480\n",
      "Online Gambling  Betting                                  444\n",
      "Child Pornography CPChild Sexual Abuse Material CSAM      379\n",
      "Online Cyber Trafficking                                  183\n",
      "Cyber Terrorism                                           161\n",
      "Ransomware                                                 56\n",
      "Report Unlawful Content                                     1\n",
      "Name: count, dtype: int64\n",
      "15\n",
      "sub_category\n",
      "UPI Related Frauds                                                      26856\n",
      "Other                                                                   10878\n",
      "DebitCredit Card FraudSim Swap Fraud                                    10805\n",
      "Internet Banking Related Fraud                                           8872\n",
      "Fraud CallVishing                                                        5803\n",
      "Cyber Bullying  Stalking  Sexting                                        4089\n",
      "EWallet Related Fraud                                                    4047\n",
      "FakeImpersonating Profile                                                2299\n",
      "Profile Hacking Identity Theft                                           2073\n",
      "Cheating by Impersonation                                                1988\n",
      "Unauthorised AccessData Breach                                           1114\n",
      "Online Job Fraud                                                          912\n",
      "DematDepository Fraud                                                     761\n",
      "Tampering with computer source documents                                  567\n",
      "Hacking/Defacement                                                        540\n",
      "Ransomware Attack                                                         534\n",
      "Malware Attack                                                            521\n",
      "SQL Injection                                                             508\n",
      "Denial of Service (DoS)/Distributed Denial of Service (DDOS) attacks      504\n",
      "Data Breach/Theft                                                         484\n",
      "Cryptocurrency Fraud                                                      480\n",
      "Online Gambling  Betting                                                  444\n",
      "Provocative Speech for unlawful acts                                      417\n",
      "Email Hacking                                                             349\n",
      "Business Email CompromiseEmail Takeover                                   290\n",
      "Online Trafficking                                                        183\n",
      "Cyber Terrorism                                                           161\n",
      "EMail Phishing                                                            157\n",
      "Online Matrimonial Fraud                                                  132\n",
      "Damage to computer computer systems etc                                   108\n",
      "Website DefacementHacking                                                  89\n",
      "Ransomware                                                                 56\n",
      "Impersonating Email                                                        44\n",
      "Intimidating Email                                                         29\n",
      "Against Interest of sovereignty or integrity of India                       1\n",
      "Name: count, dtype: int64\n",
      "36\n"
     ]
    }
   ],
   "source": [
    "print(train['category'].value_counts())\n",
    "print(len(train['category'].unique()))\n",
    "print(train['sub_category'].value_counts())\n",
    "print(len(train['sub_category'].unique()))"
   ]
  },
  {
   "cell_type": "code",
   "execution_count": 9,
   "id": "034d4739",
   "metadata": {
    "execution": {
     "iopub.execute_input": "2024-11-16T18:33:27.483374Z",
     "iopub.status.busy": "2024-11-16T18:33:27.483052Z",
     "iopub.status.idle": "2024-11-16T18:33:27.502263Z",
     "shell.execute_reply": "2024-11-16T18:33:27.501295Z"
    },
    "papermill": {
     "duration": 0.037456,
     "end_time": "2024-11-16T18:33:27.504316",
     "exception": false,
     "start_time": "2024-11-16T18:33:27.466860",
     "status": "completed"
    },
    "tags": []
   },
   "outputs": [
    {
     "name": "stdout",
     "output_type": "stream",
     "text": [
      "category\n",
      "Online Financial Fraud                                  18896\n",
      "Online and Social Media Related Crime                    4139\n",
      "Any Other Cyber Crime                                    3670\n",
      "Cyber Attack/ Dependent Crimes                           1261\n",
      "RapeGang Rape RGRSexually Abusive Content                 912\n",
      "Sexually Obscene material                                 666\n",
      "Hacking  Damage to computercomputer system etc            592\n",
      "Sexually Explicit Act                                     535\n",
      "Cryptocurrency Crime                                      166\n",
      "Online Gambling  Betting                                  134\n",
      "Child Pornography CPChild Sexual Abuse Material CSAM      123\n",
      "Online Cyber Trafficking                                   61\n",
      "Cyber Terrorism                                            52\n",
      "Ransomware                                                 18\n",
      "Crime Against Women & Children                              4\n",
      "Name: count, dtype: int64\n",
      "15\n",
      "sub_category\n",
      "UPI Related Frauds                                                      8890\n",
      "Other                                                                   3670\n",
      "DebitCredit Card FraudSim Swap Fraud                                    3556\n",
      "Internet Banking Related Fraud                                          2973\n",
      "Fraud CallVishing                                                       1827\n",
      "Cyber Bullying  Stalking  Sexting                                       1366\n",
      "EWallet Related Fraud                                                   1338\n",
      "FakeImpersonating Profile                                                763\n",
      "Profile Hacking Identity Theft                                           751\n",
      "Cheating by Impersonation                                                719\n",
      "Unauthorised AccessData Breach                                           370\n",
      "Online Job Fraud                                                         294\n",
      "DematDepository Fraud                                                    222\n",
      "Hacking/Defacement                                                       200\n",
      "Tampering with computer source documents                                 194\n",
      "Denial of Service (DoS)/Distributed Denial of Service (DDOS) attacks     187\n",
      "Ransomware Attack                                                        186\n",
      "Data Breach/Theft                                                        171\n",
      "Malware Attack                                                           170\n",
      "SQL Injection                                                            167\n",
      "Cryptocurrency Fraud                                                     166\n",
      "Online Gambling  Betting                                                 134\n",
      "Provocative Speech for unlawful acts                                     130\n",
      "Email Hacking                                                            130\n",
      "Business Email CompromiseEmail Takeover                                   90\n",
      "Online Trafficking                                                        61\n",
      "EMail Phishing                                                            54\n",
      "Cyber Terrorism                                                           52\n",
      "Damage to computer computer systems etc                                   39\n",
      "Website DefacementHacking                                                 39\n",
      "Online Matrimonial Fraud                                                  38\n",
      "Ransomware                                                                18\n",
      "Impersonating Email                                                       13\n",
      "Intimidating Email                                                        11\n",
      "Computer Generated CSAM/CSEM                                               2\n",
      "Cyber Blackmailing & Threatening                                           1\n",
      "Sexual Harassment                                                          1\n",
      "Name: count, dtype: int64\n",
      "38\n"
     ]
    }
   ],
   "source": [
    "print(test['category'].value_counts())\n",
    "print(len(test['category'].unique()))\n",
    "print(test['sub_category'].value_counts())\n",
    "print(len(test['sub_category'].unique()))"
   ]
  },
  {
   "cell_type": "code",
   "execution_count": 10,
   "id": "719635fd",
   "metadata": {
    "execution": {
     "iopub.execute_input": "2024-11-16T18:33:27.537405Z",
     "iopub.status.busy": "2024-11-16T18:33:27.537093Z",
     "iopub.status.idle": "2024-11-16T18:33:27.562956Z",
     "shell.execute_reply": "2024-11-16T18:33:27.562120Z"
    },
    "papermill": {
     "duration": 0.044384,
     "end_time": "2024-11-16T18:33:27.564871",
     "exception": false,
     "start_time": "2024-11-16T18:33:27.520487",
     "status": "completed"
    },
    "tags": []
   },
   "outputs": [
    {
     "data": {
      "text/html": [
       "<div>\n",
       "<style scoped>\n",
       "    .dataframe tbody tr th:only-of-type {\n",
       "        vertical-align: middle;\n",
       "    }\n",
       "\n",
       "    .dataframe tbody tr th {\n",
       "        vertical-align: top;\n",
       "    }\n",
       "\n",
       "    .dataframe thead th {\n",
       "        text-align: right;\n",
       "    }\n",
       "</style>\n",
       "<table border=\"1\" class=\"dataframe\">\n",
       "  <thead>\n",
       "    <tr style=\"text-align: right;\">\n",
       "      <th></th>\n",
       "      <th>category</th>\n",
       "      <th>sub_category</th>\n",
       "      <th>crimeaditionalinfo</th>\n",
       "    </tr>\n",
       "  </thead>\n",
       "  <tbody>\n",
       "    <tr>\n",
       "      <th>9</th>\n",
       "      <td>Any Other Cyber Crime</td>\n",
       "      <td>Other</td>\n",
       "      <td>Details entered in pdf file Person posing as Army officer msg us that he want our place on rent and for that to confirm the account he wants us to transfer Re  in his account and once confirmed he will transfer back</td>\n",
       "    </tr>\n",
       "    <tr>\n",
       "      <th>11</th>\n",
       "      <td>Any Other Cyber Crime</td>\n",
       "      <td>Other</td>\n",
       "      <td>Someone changed my email id nd contact number by using anydesk app nd now he had ordered  k product from my account through emi my contact number is nd he changed to this number nd email id also hve been changed now he have access to my account</td>\n",
       "    </tr>\n",
       "    <tr>\n",
       "      <th>57</th>\n",
       "      <td>Any Other Cyber Crime</td>\n",
       "      <td>Other</td>\n",
       "      <td>Received sms and then I had call the number  they told me to download from play store kyc anydesk app I had downloaded then they told to do next and number arrived on the screen they had asked that no I told them  digit no but then I realised that it is a fraud call I had cut the call and informed Vodafone customer care and also informed on police number  they told me file a complaint</td>\n",
       "    </tr>\n",
       "    <tr>\n",
       "      <th>80</th>\n",
       "      <td>Any Other Cyber Crime</td>\n",
       "      <td>Other</td>\n",
       "      <td>I received call claming to be the SBI Branch manager Kuhas Thrissur branch for getting the PAN card details The caller knows my account number mail ID etc They have even send a mail asking for PAN card and had send message in whatsapp as well \\r\\nI suspected the call and contacted the SBI customer care and they assured me that no manager will contact the customer for any personal details Attached the mail call log and whatsapp message \\r\\nReceived call from number    \\r\\nReceived mail from sbisbicoin\\r\\nWhatsapp from number</td>\n",
       "    </tr>\n",
       "    <tr>\n",
       "      <th>87</th>\n",
       "      <td>Any Other Cyber Crime</td>\n",
       "      <td>Other</td>\n",
       "      <td>I ordered dress on th January  online shopping wwwdressupharcom so its used and torn product delivered today th January  we have contacted customer care number  Raju Kumar he said that due to technical issue \\r\\nunable to refund</td>\n",
       "    </tr>\n",
       "  </tbody>\n",
       "</table>\n",
       "</div>"
      ],
      "text/plain": [
       "                 category sub_category  \\\n",
       "9   Any Other Cyber Crime        Other   \n",
       "11  Any Other Cyber Crime        Other   \n",
       "57  Any Other Cyber Crime        Other   \n",
       "80  Any Other Cyber Crime        Other   \n",
       "87  Any Other Cyber Crime        Other   \n",
       "\n",
       "                                                                                                                                                                                                                                                                                                                                                                                                                                                                                                                                    crimeaditionalinfo  \n",
       "9                                                                                                                                                                                                                                                                                                                              Details entered in pdf file Person posing as Army officer msg us that he want our place on rent and for that to confirm the account he wants us to transfer Re  in his account and once confirmed he will transfer back  \n",
       "11                                                                                                                                                                                                                                                                                                Someone changed my email id nd contact number by using anydesk app nd now he had ordered  k product from my account through emi my contact number is nd he changed to this number nd email id also hve been changed now he have access to my account  \n",
       "57                                                                                                                                                 Received sms and then I had call the number  they told me to download from play store kyc anydesk app I had downloaded then they told to do next and number arrived on the screen they had asked that no I told them  digit no but then I realised that it is a fraud call I had cut the call and informed Vodafone customer care and also informed on police number  they told me file a complaint  \n",
       "80  I received call claming to be the SBI Branch manager Kuhas Thrissur branch for getting the PAN card details The caller knows my account number mail ID etc They have even send a mail asking for PAN card and had send message in whatsapp as well \\r\\nI suspected the call and contacted the SBI customer care and they assured me that no manager will contact the customer for any personal details Attached the mail call log and whatsapp message \\r\\nReceived call from number    \\r\\nReceived mail from sbisbicoin\\r\\nWhatsapp from number   \n",
       "87                                                                                                                                                                                                                                                                                                                I ordered dress on th January  online shopping wwwdressupharcom so its used and torn product delivered today th January  we have contacted customer care number  Raju Kumar he said that due to technical issue \\r\\nunable to refund  "
      ]
     },
     "execution_count": 10,
     "metadata": {},
     "output_type": "execute_result"
    }
   ],
   "source": [
    "train[train['sub_category'] == 'Other'].head()"
   ]
  },
  {
   "cell_type": "code",
   "execution_count": 11,
   "id": "477beaed",
   "metadata": {
    "execution": {
     "iopub.execute_input": "2024-11-16T18:33:27.597966Z",
     "iopub.status.busy": "2024-11-16T18:33:27.597678Z",
     "iopub.status.idle": "2024-11-16T18:33:28.632116Z",
     "shell.execute_reply": "2024-11-16T18:33:28.631114Z"
    },
    "papermill": {
     "duration": 1.05364,
     "end_time": "2024-11-16T18:33:28.634518",
     "exception": false,
     "start_time": "2024-11-16T18:33:27.580878",
     "status": "completed"
    },
    "tags": []
   },
   "outputs": [],
   "source": [
    "train = train.replace(\"\\n\", \" \", regex=True)\n",
    "train = train.replace(\"\\r\", \" \", regex=True)\n",
    "train['crimeaditionalinfo'] = train['crimeaditionalinfo'].str.lower()\n",
    "test = test.replace(\"\\n\", \" \", regex=True)\n",
    "test = test.replace(\"\\r\", \" \", regex=True)\n",
    "test['crimeaditionalinfo'] = test['crimeaditionalinfo'].str.lower()"
   ]
  },
  {
   "cell_type": "code",
   "execution_count": 12,
   "id": "3cb4b443",
   "metadata": {
    "execution": {
     "iopub.execute_input": "2024-11-16T18:33:28.669296Z",
     "iopub.status.busy": "2024-11-16T18:33:28.668928Z",
     "iopub.status.idle": "2024-11-16T18:33:28.678968Z",
     "shell.execute_reply": "2024-11-16T18:33:28.678055Z"
    },
    "papermill": {
     "duration": 0.030156,
     "end_time": "2024-11-16T18:33:28.680895",
     "exception": false,
     "start_time": "2024-11-16T18:33:28.650739",
     "status": "completed"
    },
    "tags": []
   },
   "outputs": [
    {
     "data": {
      "text/html": [
       "<div>\n",
       "<style scoped>\n",
       "    .dataframe tbody tr th:only-of-type {\n",
       "        vertical-align: middle;\n",
       "    }\n",
       "\n",
       "    .dataframe tbody tr th {\n",
       "        vertical-align: top;\n",
       "    }\n",
       "\n",
       "    .dataframe thead th {\n",
       "        text-align: right;\n",
       "    }\n",
       "</style>\n",
       "<table border=\"1\" class=\"dataframe\">\n",
       "  <thead>\n",
       "    <tr style=\"text-align: right;\">\n",
       "      <th></th>\n",
       "      <th>category</th>\n",
       "      <th>sub_category</th>\n",
       "      <th>crimeaditionalinfo</th>\n",
       "    </tr>\n",
       "  </thead>\n",
       "  <tbody>\n",
       "    <tr>\n",
       "      <th>0</th>\n",
       "      <td>Online and Social Media Related Crime</td>\n",
       "      <td>Cyber Bullying  Stalking  Sexting</td>\n",
       "      <td>i had continue received random calls and abusive messages in my whatsapp someone added my number in a unknown facebook group name with  only girls  and still getting calls from unknown numbers pls help me and sort out the issue  as soon as possible thank you</td>\n",
       "    </tr>\n",
       "    <tr>\n",
       "      <th>1</th>\n",
       "      <td>Online Financial Fraud</td>\n",
       "      <td>Fraud CallVishing</td>\n",
       "      <td>the above fraudster is continuously messaging me and asking me to pay him money or he will send fake  cropped nude photos of me to my other contacts through whatsapp    i am unaware how he has recieved my contacts list from my phone    please help</td>\n",
       "    </tr>\n",
       "    <tr>\n",
       "      <th>2</th>\n",
       "      <td>Online Gambling  Betting</td>\n",
       "      <td>Online Gambling  Betting</td>\n",
       "      <td>he is acting like a police and demanding for money by adding sections in the text messages   i request you to take an immediate action on him frequently he is harassing with these messages for reference please find attached files</td>\n",
       "    </tr>\n",
       "    <tr>\n",
       "      <th>3</th>\n",
       "      <td>Online and Social Media Related Crime</td>\n",
       "      <td>Online Job Fraud</td>\n",
       "      <td>in apna job i have applied for job interview for telecalling and the resource management wrote that twelve hundred will be charged for security amount of laptop and work from home when i have given interview on the given address next day they charged twelve hundred and six hundred more money in the name of insurance after that they have referred me to the job calling there is no work of laptop neither a work from home kindly please take action against it as soon as possible and if possible please help me to recover my financial loss</td>\n",
       "    </tr>\n",
       "    <tr>\n",
       "      <th>4</th>\n",
       "      <td>Online Financial Fraud</td>\n",
       "      <td>Fraud CallVishing</td>\n",
       "      <td>i received a call from lady stating that she will send new phone of vivo and i received that parcel through post on  th february to kurnool head post office  where i have not received any mobile</td>\n",
       "    </tr>\n",
       "  </tbody>\n",
       "</table>\n",
       "</div>"
      ],
      "text/plain": [
       "                                category                       sub_category  \\\n",
       "0  Online and Social Media Related Crime  Cyber Bullying  Stalking  Sexting   \n",
       "1                 Online Financial Fraud                  Fraud CallVishing   \n",
       "2               Online Gambling  Betting           Online Gambling  Betting   \n",
       "3  Online and Social Media Related Crime                   Online Job Fraud   \n",
       "4                 Online Financial Fraud                  Fraud CallVishing   \n",
       "\n",
       "                                                                                                                                                                                                                                                                                                                                                                                                                                                                                                                                           crimeaditionalinfo  \n",
       "0                                                                                                                                                                                                                                                                                          i had continue received random calls and abusive messages in my whatsapp someone added my number in a unknown facebook group name with  only girls  and still getting calls from unknown numbers pls help me and sort out the issue  as soon as possible thank you  \n",
       "1                                                                                                                                                                                                                                                                                                     the above fraudster is continuously messaging me and asking me to pay him money or he will send fake  cropped nude photos of me to my other contacts through whatsapp    i am unaware how he has recieved my contacts list from my phone    please help  \n",
       "2                                                                                                                                                                                                                                                                                                                       he is acting like a police and demanding for money by adding sections in the text messages   i request you to take an immediate action on him frequently he is harassing with these messages for reference please find attached files  \n",
       "3  in apna job i have applied for job interview for telecalling and the resource management wrote that twelve hundred will be charged for security amount of laptop and work from home when i have given interview on the given address next day they charged twelve hundred and six hundred more money in the name of insurance after that they have referred me to the job calling there is no work of laptop neither a work from home kindly please take action against it as soon as possible and if possible please help me to recover my financial loss  \n",
       "4                                                                                                                                                                                                                                                                                                                                                          i received a call from lady stating that she will send new phone of vivo and i received that parcel through post on  th february to kurnool head post office  where i have not received any mobile  "
      ]
     },
     "execution_count": 12,
     "metadata": {},
     "output_type": "execute_result"
    }
   ],
   "source": [
    "train.head()"
   ]
  },
  {
   "cell_type": "code",
   "execution_count": 13,
   "id": "c4bf3ea8",
   "metadata": {
    "execution": {
     "iopub.execute_input": "2024-11-16T18:33:28.715295Z",
     "iopub.status.busy": "2024-11-16T18:33:28.714982Z",
     "iopub.status.idle": "2024-11-16T18:33:28.817276Z",
     "shell.execute_reply": "2024-11-16T18:33:28.816373Z"
    },
    "papermill": {
     "duration": 0.121661,
     "end_time": "2024-11-16T18:33:28.819382",
     "exception": false,
     "start_time": "2024-11-16T18:33:28.697721",
     "status": "completed"
    },
    "tags": []
   },
   "outputs": [
    {
     "data": {
      "text/html": [
       "<div>\n",
       "<style scoped>\n",
       "    .dataframe tbody tr th:only-of-type {\n",
       "        vertical-align: middle;\n",
       "    }\n",
       "\n",
       "    .dataframe tbody tr th {\n",
       "        vertical-align: top;\n",
       "    }\n",
       "\n",
       "    .dataframe thead th {\n",
       "        text-align: right;\n",
       "    }\n",
       "</style>\n",
       "<table border=\"1\" class=\"dataframe\">\n",
       "  <thead>\n",
       "    <tr style=\"text-align: right;\">\n",
       "      <th></th>\n",
       "      <th>category</th>\n",
       "      <th>sub_category</th>\n",
       "      <th>crimeaditionalinfo</th>\n",
       "    </tr>\n",
       "  </thead>\n",
       "  <tbody>\n",
       "    <tr>\n",
       "      <th>704</th>\n",
       "      <td>Online Financial Fraud</td>\n",
       "      <td>UPI Related Frauds</td>\n",
       "      <td>NaN</td>\n",
       "    </tr>\n",
       "    <tr>\n",
       "      <th>803</th>\n",
       "      <td>Any Other Cyber Crime</td>\n",
       "      <td>Other</td>\n",
       "      <td>NaN</td>\n",
       "    </tr>\n",
       "    <tr>\n",
       "      <th>4105</th>\n",
       "      <td>Online Financial Fraud</td>\n",
       "      <td>DebitCredit Card FraudSim Swap Fraud</td>\n",
       "      <td>NaN</td>\n",
       "    </tr>\n",
       "  </tbody>\n",
       "</table>\n",
       "</div>"
      ],
      "text/plain": [
       "                    category                          sub_category  \\\n",
       "704   Online Financial Fraud                    UPI Related Frauds   \n",
       "803    Any Other Cyber Crime                                 Other   \n",
       "4105  Online Financial Fraud  DebitCredit Card FraudSim Swap Fraud   \n",
       "\n",
       "     crimeaditionalinfo  \n",
       "704                 NaN  \n",
       "803                 NaN  \n",
       "4105                NaN  "
      ]
     },
     "execution_count": 13,
     "metadata": {},
     "output_type": "execute_result"
    }
   ],
   "source": [
    "train[train['crimeaditionalinfo'].str.find('\\r') != -1].head(3)"
   ]
  },
  {
   "cell_type": "code",
   "execution_count": 14,
   "id": "f069abf6",
   "metadata": {
    "execution": {
     "iopub.execute_input": "2024-11-16T18:33:28.854953Z",
     "iopub.status.busy": "2024-11-16T18:33:28.854115Z",
     "iopub.status.idle": "2024-11-16T18:33:28.893448Z",
     "shell.execute_reply": "2024-11-16T18:33:28.892628Z"
    },
    "papermill": {
     "duration": 0.059326,
     "end_time": "2024-11-16T18:33:28.895405",
     "exception": false,
     "start_time": "2024-11-16T18:33:28.836079",
     "status": "completed"
    },
    "tags": []
   },
   "outputs": [
    {
     "data": {
      "text/html": [
       "<div>\n",
       "<style scoped>\n",
       "    .dataframe tbody tr th:only-of-type {\n",
       "        vertical-align: middle;\n",
       "    }\n",
       "\n",
       "    .dataframe tbody tr th {\n",
       "        vertical-align: top;\n",
       "    }\n",
       "\n",
       "    .dataframe thead th {\n",
       "        text-align: right;\n",
       "    }\n",
       "</style>\n",
       "<table border=\"1\" class=\"dataframe\">\n",
       "  <thead>\n",
       "    <tr style=\"text-align: right;\">\n",
       "      <th></th>\n",
       "      <th>category</th>\n",
       "      <th>sub_category</th>\n",
       "      <th>crimeaditionalinfo</th>\n",
       "    </tr>\n",
       "  </thead>\n",
       "  <tbody>\n",
       "    <tr>\n",
       "      <th>4077</th>\n",
       "      <td>Online Financial Fraud</td>\n",
       "      <td>UPI Related Frauds</td>\n",
       "      <td>NaN</td>\n",
       "    </tr>\n",
       "    <tr>\n",
       "      <th>5550</th>\n",
       "      <td>Online Financial Fraud</td>\n",
       "      <td>DebitCredit Card FraudSim Swap Fraud</td>\n",
       "      <td>NaN</td>\n",
       "    </tr>\n",
       "    <tr>\n",
       "      <th>23273</th>\n",
       "      <td>Online Financial Fraud</td>\n",
       "      <td>Fraud CallVishing</td>\n",
       "      <td>NaN</td>\n",
       "    </tr>\n",
       "  </tbody>\n",
       "</table>\n",
       "</div>"
      ],
      "text/plain": [
       "                     category                          sub_category  \\\n",
       "4077   Online Financial Fraud                    UPI Related Frauds   \n",
       "5550   Online Financial Fraud  DebitCredit Card FraudSim Swap Fraud   \n",
       "23273  Online Financial Fraud                     Fraud CallVishing   \n",
       "\n",
       "      crimeaditionalinfo  \n",
       "4077                 NaN  \n",
       "5550                 NaN  \n",
       "23273                NaN  "
      ]
     },
     "execution_count": 14,
     "metadata": {},
     "output_type": "execute_result"
    }
   ],
   "source": [
    "test[test['crimeaditionalinfo'].str.find('\\n') != -1].head(3)"
   ]
  },
  {
   "cell_type": "code",
   "execution_count": 15,
   "id": "03c3339b",
   "metadata": {
    "execution": {
     "iopub.execute_input": "2024-11-16T18:33:28.929865Z",
     "iopub.status.busy": "2024-11-16T18:33:28.929588Z",
     "iopub.status.idle": "2024-11-16T18:33:29.079633Z",
     "shell.execute_reply": "2024-11-16T18:33:29.078759Z"
    },
    "papermill": {
     "duration": 0.169638,
     "end_time": "2024-11-16T18:33:29.081869",
     "exception": false,
     "start_time": "2024-11-16T18:33:28.912231",
     "status": "completed"
    },
    "tags": []
   },
   "outputs": [],
   "source": [
    "train = train[train['crimeaditionalinfo'].str.find('NaN') == -1]\n",
    "test = test[test['crimeaditionalinfo'].str.find('NaN') == -1]"
   ]
  },
  {
   "cell_type": "code",
   "execution_count": 16,
   "id": "5f93e93d",
   "metadata": {
    "execution": {
     "iopub.execute_input": "2024-11-16T18:33:29.116489Z",
     "iopub.status.busy": "2024-11-16T18:33:29.116055Z",
     "iopub.status.idle": "2024-11-16T18:33:29.121124Z",
     "shell.execute_reply": "2024-11-16T18:33:29.120356Z"
    },
    "papermill": {
     "duration": 0.024482,
     "end_time": "2024-11-16T18:33:29.123117",
     "exception": false,
     "start_time": "2024-11-16T18:33:29.098635",
     "status": "completed"
    },
    "tags": []
   },
   "outputs": [],
   "source": [
    "PUNCT_TO_REMOVE = string.punctuation\n",
    "def remove_punctuation(text):\n",
    "    \"\"\"custom function to remove the punctuation\"\"\"\n",
    "    return text.translate(str.maketrans('', '', PUNCT_TO_REMOVE))\n",
    "\n",
    "# train[\"crimeaditionalinfo\"] = train[\"crimeaditionalinfo\"].apply(lambda text: remove_punctuation(text))\n",
    "# test[\"crimeaditionalinfo\"] = test[\"crimeaditionalinfo\"].apply(lambda text: remove_punctuation(text))"
   ]
  },
  {
   "cell_type": "code",
   "execution_count": 17,
   "id": "759a2294",
   "metadata": {
    "execution": {
     "iopub.execute_input": "2024-11-16T18:33:29.157207Z",
     "iopub.status.busy": "2024-11-16T18:33:29.156937Z",
     "iopub.status.idle": "2024-11-16T18:33:29.170433Z",
     "shell.execute_reply": "2024-11-16T18:33:29.169757Z"
    },
    "papermill": {
     "duration": 0.032735,
     "end_time": "2024-11-16T18:33:29.172295",
     "exception": false,
     "start_time": "2024-11-16T18:33:29.139560",
     "status": "completed"
    },
    "tags": []
   },
   "outputs": [],
   "source": [
    "STOPWORDS = set(stopwords.words('english'))\n",
    "def remove_stopwords(text):\n",
    "    \"\"\"custom function to remove the stopwords\"\"\"\n",
    "    return \" \".join([word for word in str(text).split() if word not in STOPWORDS])\n",
    "\n",
    "# train[\"crimeaditionalinfo\"] = train[\"crimeaditionalinfo\"].apply(lambda text: remove_stopwords(text))\n",
    "# test[\"crimeaditionalinfo\"] = test[\"crimeaditionalinfo\"].apply(lambda text: remove_stopwords(text))"
   ]
  },
  {
   "cell_type": "code",
   "execution_count": 18,
   "id": "cf640cd2",
   "metadata": {
    "execution": {
     "iopub.execute_input": "2024-11-16T18:33:29.207169Z",
     "iopub.status.busy": "2024-11-16T18:33:29.206242Z",
     "iopub.status.idle": "2024-11-16T18:33:29.210847Z",
     "shell.execute_reply": "2024-11-16T18:33:29.210139Z"
    },
    "papermill": {
     "duration": 0.023702,
     "end_time": "2024-11-16T18:33:29.212716",
     "exception": false,
     "start_time": "2024-11-16T18:33:29.189014",
     "status": "completed"
    },
    "tags": []
   },
   "outputs": [],
   "source": [
    "def split_concatenated_words(text):\n",
    "    return ' '.join(wordninja.split(text))\n",
    "\n",
    "# train[\"crimeaditionalinfo\"] = train[\"crimeaditionalinfo\"].apply(lambda text: split_concatenated_words(text))\n",
    "# test[\"crimeaditionalinfo\"] = test[\"crimeaditionalinfo\"].apply(lambda text: split_concatenated_words(text))"
   ]
  },
  {
   "cell_type": "code",
   "execution_count": 19,
   "id": "04d77602",
   "metadata": {
    "execution": {
     "iopub.execute_input": "2024-11-16T18:33:29.247688Z",
     "iopub.status.busy": "2024-11-16T18:33:29.246858Z",
     "iopub.status.idle": "2024-11-16T18:33:29.322572Z",
     "shell.execute_reply": "2024-11-16T18:33:29.321639Z"
    },
    "papermill": {
     "duration": 0.095645,
     "end_time": "2024-11-16T18:33:29.324762",
     "exception": false,
     "start_time": "2024-11-16T18:33:29.229117",
     "status": "completed"
    },
    "tags": []
   },
   "outputs": [],
   "source": [
    "train = train[train['crimeaditionalinfo'].str.len() > 30]"
   ]
  },
  {
   "cell_type": "code",
   "execution_count": 20,
   "id": "581cd600",
   "metadata": {
    "execution": {
     "iopub.execute_input": "2024-11-16T18:33:29.359378Z",
     "iopub.status.busy": "2024-11-16T18:33:29.359040Z",
     "iopub.status.idle": "2024-11-16T18:33:33.392071Z",
     "shell.execute_reply": "2024-11-16T18:33:33.391168Z"
    },
    "papermill": {
     "duration": 4.052808,
     "end_time": "2024-11-16T18:33:33.394433",
     "exception": false,
     "start_time": "2024-11-16T18:33:29.341625",
     "status": "completed"
    },
    "tags": []
   },
   "outputs": [],
   "source": [
    "train['crimeaditionalinfo'] = train['crimeaditionalinfo'].replace(r'\\s+', ' ', regex=True)\n",
    "test['crimeaditionalinfo'] = test['crimeaditionalinfo'].replace(r'\\s+', ' ', regex=True)"
   ]
  },
  {
   "cell_type": "code",
   "execution_count": 21,
   "id": "06cfb19d",
   "metadata": {
    "execution": {
     "iopub.execute_input": "2024-11-16T18:33:33.430093Z",
     "iopub.status.busy": "2024-11-16T18:33:33.429748Z",
     "iopub.status.idle": "2024-11-16T18:33:34.622894Z",
     "shell.execute_reply": "2024-11-16T18:33:34.621990Z"
    },
    "papermill": {
     "duration": 1.213227,
     "end_time": "2024-11-16T18:33:34.625119",
     "exception": false,
     "start_time": "2024-11-16T18:33:33.411892",
     "status": "completed"
    },
    "tags": []
   },
   "outputs": [
    {
     "data": {
      "text/html": [
       "<div>\n",
       "<style scoped>\n",
       "    .dataframe tbody tr th:only-of-type {\n",
       "        vertical-align: middle;\n",
       "    }\n",
       "\n",
       "    .dataframe tbody tr th {\n",
       "        vertical-align: top;\n",
       "    }\n",
       "\n",
       "    .dataframe thead th {\n",
       "        text-align: right;\n",
       "    }\n",
       "</style>\n",
       "<table border=\"1\" class=\"dataframe\">\n",
       "  <thead>\n",
       "    <tr style=\"text-align: right;\">\n",
       "      <th></th>\n",
       "      <th>category</th>\n",
       "      <th>sub_category</th>\n",
       "      <th>crimeaditionalinfo</th>\n",
       "    </tr>\n",
       "  </thead>\n",
       "  <tbody>\n",
       "  </tbody>\n",
       "</table>\n",
       "</div>"
      ],
      "text/plain": [
       "Empty DataFrame\n",
       "Columns: [category, sub_category, crimeaditionalinfo]\n",
       "Index: []"
      ]
     },
     "execution_count": 21,
     "metadata": {},
     "output_type": "execute_result"
    }
   ],
   "source": [
    "train[train['crimeaditionalinfo'].apply(lambda x: bool(re.search(r'\\d+', x)))]"
   ]
  },
  {
   "cell_type": "code",
   "execution_count": 22,
   "id": "ae44c4b1",
   "metadata": {
    "execution": {
     "iopub.execute_input": "2024-11-16T18:33:34.661187Z",
     "iopub.status.busy": "2024-11-16T18:33:34.660853Z",
     "iopub.status.idle": "2024-11-16T18:33:34.699544Z",
     "shell.execute_reply": "2024-11-16T18:33:34.698598Z"
    },
    "papermill": {
     "duration": 0.05875,
     "end_time": "2024-11-16T18:33:34.701473",
     "exception": false,
     "start_time": "2024-11-16T18:33:34.642723",
     "status": "completed"
    },
    "tags": []
   },
   "outputs": [
    {
     "data": {
      "text/html": [
       "<div>\n",
       "<style scoped>\n",
       "    .dataframe tbody tr th:only-of-type {\n",
       "        vertical-align: middle;\n",
       "    }\n",
       "\n",
       "    .dataframe tbody tr th {\n",
       "        vertical-align: top;\n",
       "    }\n",
       "\n",
       "    .dataframe thead th {\n",
       "        text-align: right;\n",
       "    }\n",
       "</style>\n",
       "<table border=\"1\" class=\"dataframe\">\n",
       "  <thead>\n",
       "    <tr style=\"text-align: right;\">\n",
       "      <th></th>\n",
       "      <th>category</th>\n",
       "      <th>sub_category</th>\n",
       "      <th>crimeaditionalinfo</th>\n",
       "    </tr>\n",
       "  </thead>\n",
       "  <tbody>\n",
       "  </tbody>\n",
       "</table>\n",
       "</div>"
      ],
      "text/plain": [
       "Empty DataFrame\n",
       "Columns: [category, sub_category, crimeaditionalinfo]\n",
       "Index: []"
      ]
     },
     "execution_count": 22,
     "metadata": {},
     "output_type": "execute_result"
    }
   ],
   "source": [
    "train[(train['sub_category'] == \"Other\") & (train['category'] != \"Any Other Cyber Crime\")]"
   ]
  },
  {
   "cell_type": "code",
   "execution_count": 23,
   "id": "b4339919",
   "metadata": {
    "execution": {
     "iopub.execute_input": "2024-11-16T18:33:34.738817Z",
     "iopub.status.busy": "2024-11-16T18:33:34.738502Z",
     "iopub.status.idle": "2024-11-16T18:33:34.773158Z",
     "shell.execute_reply": "2024-11-16T18:33:34.772217Z"
    },
    "papermill": {
     "duration": 0.055674,
     "end_time": "2024-11-16T18:33:34.775175",
     "exception": false,
     "start_time": "2024-11-16T18:33:34.719501",
     "status": "completed"
    },
    "tags": []
   },
   "outputs": [
    {
     "data": {
      "text/html": [
       "<div>\n",
       "<style scoped>\n",
       "    .dataframe tbody tr th:only-of-type {\n",
       "        vertical-align: middle;\n",
       "    }\n",
       "\n",
       "    .dataframe tbody tr th {\n",
       "        vertical-align: top;\n",
       "    }\n",
       "\n",
       "    .dataframe thead th {\n",
       "        text-align: right;\n",
       "    }\n",
       "</style>\n",
       "<table border=\"1\" class=\"dataframe\">\n",
       "  <thead>\n",
       "    <tr style=\"text-align: right;\">\n",
       "      <th></th>\n",
       "      <th>category</th>\n",
       "      <th>sub_category</th>\n",
       "      <th>crimeaditionalinfo</th>\n",
       "    </tr>\n",
       "  </thead>\n",
       "  <tbody>\n",
       "    <tr>\n",
       "      <th>8</th>\n",
       "      <td>RapeGang Rape RGRSexually Abusive Content</td>\n",
       "      <td>NaN</td>\n",
       "      <td>i got the message on whatsapp to my number the message contains very abusive words this message also includes my friend name and his number in that the same message was forwarded to all other friends also for more details please look into the file attached here please take action asap</td>\n",
       "    </tr>\n",
       "    <tr>\n",
       "      <th>25</th>\n",
       "      <td>RapeGang Rape RGRSexually Abusive Content</td>\n",
       "      <td>NaN</td>\n",
       "      <td>respected sir a very serious matter i want to inform you few person running or involve in some very shamefull activities by using few women at many places of kolkata gariahat ballygunge ruby hospital behind area kasba anandapur quest mall metropolis mall area acropolismall area park circus forum mall elgin rd parkstreet maidan area esplanade garia jadavpur behalasakherbazar joka bansdroni rabindrasadanexide area haridevpur triangular park lake mall area rashbehari area tollygunge thakurpukur bbd bag dalhousie area and saltlake their name subhro saha amlan datta izaz ahmed anirban they officially work in a insurance office hdfclife a hindustanpark ab gariahat shopping mall st floor beside of reliance trend building near gariahat more but outside at several places they involve in some shamefull activities last years sir a person subhro saha forcefully involve few women employee ex female employee in such shamefull doing at afternoon evening or after evening or night time they doing this shamefull activities many innocent people are trapped and suffering in such dirty issue for long time they are even to lodge a complain against them because of threatening and blackmailing issue from above address places and their mobile whatsapp no you can easily trace and track their all activities you need to investigate last years detail please help</td>\n",
       "    </tr>\n",
       "    <tr>\n",
       "      <th>39</th>\n",
       "      <td>Sexually Explicit Act</td>\n",
       "      <td>NaN</td>\n",
       "      <td>httpswwwxnxxtvvideousapbfuckkkarrr above link is correct video url she is one of our relative please help her now she is going to get marry other person they are not aware of this information while its recording some malwere functionality has recorded without their permission please help her and remove the above video</td>\n",
       "    </tr>\n",
       "  </tbody>\n",
       "</table>\n",
       "</div>"
      ],
      "text/plain": [
       "                                     category sub_category  \\\n",
       "8   RapeGang Rape RGRSexually Abusive Content          NaN   \n",
       "25  RapeGang Rape RGRSexually Abusive Content          NaN   \n",
       "39                      Sexually Explicit Act          NaN   \n",
       "\n",
       "                                                                                                                                                                                                                                                                                                                                                                                                                                                                                                                                                                                                                                                                                                                                                                                                                                                                                                                                                                                                                                                                                                                                                                                                                                                                                                                                                                                             crimeaditionalinfo  \n",
       "8                                                                                                                                                                                                                                                                                                                                                                                                                                                                                                                                                                                                                                                                                                                                                                                                                                                                                                                                                                                                                                                                                                                 i got the message on whatsapp to my number the message contains very abusive words this message also includes my friend name and his number in that the same message was forwarded to all other friends also for more details please look into the file attached here please take action asap  \n",
       "25  respected sir a very serious matter i want to inform you few person running or involve in some very shamefull activities by using few women at many places of kolkata gariahat ballygunge ruby hospital behind area kasba anandapur quest mall metropolis mall area acropolismall area park circus forum mall elgin rd parkstreet maidan area esplanade garia jadavpur behalasakherbazar joka bansdroni rabindrasadanexide area haridevpur triangular park lake mall area rashbehari area tollygunge thakurpukur bbd bag dalhousie area and saltlake their name subhro saha amlan datta izaz ahmed anirban they officially work in a insurance office hdfclife a hindustanpark ab gariahat shopping mall st floor beside of reliance trend building near gariahat more but outside at several places they involve in some shamefull activities last years sir a person subhro saha forcefully involve few women employee ex female employee in such shamefull doing at afternoon evening or after evening or night time they doing this shamefull activities many innocent people are trapped and suffering in such dirty issue for long time they are even to lodge a complain against them because of threatening and blackmailing issue from above address places and their mobile whatsapp no you can easily trace and track their all activities you need to investigate last years detail please help  \n",
       "39                                                                                                                                                                                                                                                                                                                                                                                                                                                                                                                                                                                                                                                                                                                                                                                                                                                                                                                                                                                                                                                                              httpswwwxnxxtvvideousapbfuckkkarrr above link is correct video url she is one of our relative please help her now she is going to get marry other person they are not aware of this information while its recording some malwere functionality has recorded without their permission please help her and remove the above video  "
      ]
     },
     "execution_count": 23,
     "metadata": {},
     "output_type": "execute_result"
    }
   ],
   "source": [
    "train[(train['sub_category'].isna()) & (train['category'] != \"Any Other Cyber Crime\")].head(3)"
   ]
  },
  {
   "cell_type": "code",
   "execution_count": 24,
   "id": "0811b772",
   "metadata": {
    "execution": {
     "iopub.execute_input": "2024-11-16T18:33:34.810953Z",
     "iopub.status.busy": "2024-11-16T18:33:34.810653Z",
     "iopub.status.idle": "2024-11-16T18:33:35.600860Z",
     "shell.execute_reply": "2024-11-16T18:33:35.599910Z"
    },
    "papermill": {
     "duration": 0.810472,
     "end_time": "2024-11-16T18:33:35.602851",
     "exception": false,
     "start_time": "2024-11-16T18:33:34.792379",
     "status": "completed"
    },
    "tags": []
   },
   "outputs": [
    {
     "data": {
      "text/plain": [
       "5281"
      ]
     },
     "execution_count": 24,
     "metadata": {},
     "output_type": "execute_result"
    }
   ],
   "source": [
    "len(train[train['crimeaditionalinfo'].str.contains('gpay|paytm')])"
   ]
  },
  {
   "cell_type": "code",
   "execution_count": 25,
   "id": "f6428e85",
   "metadata": {
    "execution": {
     "iopub.execute_input": "2024-11-16T18:33:35.638853Z",
     "iopub.status.busy": "2024-11-16T18:33:35.638531Z",
     "iopub.status.idle": "2024-11-16T18:33:50.317281Z",
     "shell.execute_reply": "2024-11-16T18:33:50.316496Z"
    },
    "papermill": {
     "duration": 14.699354,
     "end_time": "2024-11-16T18:33:50.319638",
     "exception": false,
     "start_time": "2024-11-16T18:33:35.620284",
     "status": "completed"
    },
    "tags": []
   },
   "outputs": [],
   "source": [
    "def replace_words(text):\n",
    "    text = re.sub(r'\\bgpay\\b|\\bpaytm\\b|\\bphonepe\\b|\\bbhim\\b|\\bamazon pay\\b|\\bmobikwik\\b|\\bfreecharge\\b|\\bairtel thanks\\b|\\bjio pay\\b', 'UPIAPP', text, flags=re.IGNORECASE)\n",
    "    text = re.sub(r'\\b\\w*(gmail|hotmail|yahoo|outlook|aol)\\w*\\b', 'EMAIL', text)\n",
    "    text = re.sub(r'\\b\\w*(https?|www|com)\\w*\\b', 'WEBSITE', text)\n",
    "    return text\n",
    "\n",
    "train['crimeaditionalinfo'] = train['crimeaditionalinfo'].apply(replace_words)\n",
    "test['crimeaditionalinfo'] = test['crimeaditionalinfo'].apply(replace_words)"
   ]
  },
  {
   "cell_type": "code",
   "execution_count": 26,
   "id": "afddfbfd",
   "metadata": {
    "execution": {
     "iopub.execute_input": "2024-11-16T18:33:50.357004Z",
     "iopub.status.busy": "2024-11-16T18:33:50.356695Z",
     "iopub.status.idle": "2024-11-16T18:33:50.365352Z",
     "shell.execute_reply": "2024-11-16T18:33:50.364402Z"
    },
    "jupyter": {
     "source_hidden": true
    },
    "papermill": {
     "duration": 0.029159,
     "end_time": "2024-11-16T18:33:50.367353",
     "exception": false,
     "start_time": "2024-11-16T18:33:50.338194",
     "status": "completed"
    },
    "tags": []
   },
   "outputs": [],
   "source": [
    "chat_words_str = \"\"\"\n",
    "AFAIK=As Far As I Know\n",
    "AFK=Away From Keyboard\n",
    "ASAP=As Soon As Possible\n",
    "ATK=At The Keyboard\n",
    "ATM=At The Moment\n",
    "A3=Anytime, Anywhere, Anyplace\n",
    "BAK=Back At Keyboard\n",
    "BBL=Be Back Later\n",
    "BBS=Be Back Soon\n",
    "BFN=Bye For Now\n",
    "B4N=Bye For Now\n",
    "BRB=Be Right Back\n",
    "BRT=Be Right There\n",
    "BTW=By The Way\n",
    "B4=Before\n",
    "B4N=Bye For Now\n",
    "CU=See You\n",
    "CUL8R=See You Later\n",
    "CYA=See You\n",
    "FAQ=Frequently Asked Questions\n",
    "FC=Fingers Crossed\n",
    "FWIW=For What It's Worth\n",
    "FYI=For Your Information\n",
    "GAL=Get A Life\n",
    "GG=Good Game\n",
    "GN=Good Night\n",
    "GMTA=Great Minds Think Alike\n",
    "GR8=Great!\n",
    "G9=Genius\n",
    "IC=I See\n",
    "ICQ=I Seek you (also a chat program)\n",
    "ILU=ILU: I Love You\n",
    "IMHO=In My Honest/Humble Opinion\n",
    "IMO=In My Opinion\n",
    "IOW=In Other Words\n",
    "IRL=In Real Life\n",
    "KISS=Keep It Simple, Stupid\n",
    "LDR=Long Distance Relationship\n",
    "LMAO=Laugh My A.. Off\n",
    "LOL=Laughing Out Loud\n",
    "LTNS=Long Time No See\n",
    "L8R=Later\n",
    "MTE=My Thoughts Exactly\n",
    "M8=Mate\n",
    "NRN=No Reply Necessary\n",
    "OIC=Oh I See\n",
    "PITA=Pain In The A..\n",
    "PRT=Party\n",
    "PRW=Parents Are Watching\n",
    "ROFL=Rolling On The Floor Laughing\n",
    "ROFLOL=Rolling On The Floor Laughing Out Loud\n",
    "ROTFLMAO=Rolling On The Floor Laughing My Ass Off\n",
    "SK8=Skate\n",
    "STATS=Your sex and age\n",
    "ASL=Age, Sex, Location\n",
    "THX=Thank You\n",
    "TTFN=Ta-Ta For Now!\n",
    "TTYL=Talk To You Later\n",
    "U=You\n",
    "U2=You Too\n",
    "U4E=Yours For Ever\n",
    "WB=Welcome Back\n",
    "WTF=What The Fuck\n",
    "WTG=Way To Go!\n",
    "WUF=Where Are You From?\n",
    "W8=Wait\n",
    "7K=Sick:-D Laugher\n",
    "\"\"\"\n",
    "chat_words_map_dict = {}\n",
    "chat_words_list = []\n",
    "for line in chat_words_str.split(\"\\n\"):\n",
    "    if line != \"\":\n",
    "        cw = line.split(\"=\")[0]\n",
    "        cw_expanded = line.split(\"=\")[1]\n",
    "        chat_words_list.append(cw)\n",
    "        chat_words_map_dict[cw] = cw_expanded\n",
    "chat_words_list = set(chat_words_list)\n",
    "\n",
    "def chat_words_conversion(text):\n",
    "    new_text = []\n",
    "    for w in text.split():\n",
    "        if w.upper() in chat_words_list:\n",
    "            new_text.append(chat_words_map_dict[w.upper()])\n",
    "        else:\n",
    "            new_text.append(w)\n",
    "    return \" \".join(new_text).lower()"
   ]
  },
  {
   "cell_type": "code",
   "execution_count": 27,
   "id": "49c4102e",
   "metadata": {
    "execution": {
     "iopub.execute_input": "2024-11-16T18:33:50.404131Z",
     "iopub.status.busy": "2024-11-16T18:33:50.403624Z",
     "iopub.status.idle": "2024-11-16T18:33:52.755263Z",
     "shell.execute_reply": "2024-11-16T18:33:52.754483Z"
    },
    "jupyter": {
     "source_hidden": true
    },
    "papermill": {
     "duration": 2.372729,
     "end_time": "2024-11-16T18:33:52.757498",
     "exception": false,
     "start_time": "2024-11-16T18:33:50.384769",
     "status": "completed"
    },
    "tags": []
   },
   "outputs": [],
   "source": [
    "hinglish_incomplete_to_proper = {\n",
    "    'h': 'hai',\n",
    "    'k': 'ke',\n",
    "    'm': 'main',\n",
    "    'nhi': 'nahin',\n",
    "    'bcoz': 'because',\n",
    "    'plz': 'please',\n",
    "    'frnd': 'friend',\n",
    "    'msg': 'message',\n",
    "    'r': 'are',\n",
    "    'u': 'you',\n",
    "    'bt': 'but',\n",
    "    'cnt': 'cannot',\n",
    "    'd': 'the',\n",
    "    'ppl': 'people',\n",
    "    'b': 'be',\n",
    "    'thx': 'thanks',\n",
    "    'tmrw': 'tomorrow',\n",
    "    'bday': 'birthday',\n",
    "    'gud': 'good',\n",
    "    'cn': 'can',\n",
    "    'wd': 'would',\n",
    "    'abt': 'about',\n",
    "    'tym': 'time',\n",
    "    'fwd': 'forward',\n",
    "    'tks': 'thanks',\n",
    "    'gf': 'girlfriend',\n",
    "    'bf': 'boyfriend',\n",
    "    'bro': 'brother',\n",
    "    'sis': 'sister',\n",
    "    'thnx': 'thanks',\n",
    "    'gn': 'good night',\n",
    "    'gm': 'good morning',\n",
    "    'asap': 'as soon as possible',\n",
    "    'lol': 'laughing out loud',\n",
    "    'ttyl': 'talk to you later',\n",
    "    'btw': 'by the way',\n",
    "    'wru': 'where are you',\n",
    "    'bcz': 'because',\n",
    "    'gudnyt': 'good night',\n",
    "    'wrk': 'work',\n",
    "    'btr': 'better',\n",
    "    'smthng': 'something',\n",
    "    'yr': 'your',\n",
    "    'tc': 'take care',\n",
    "    'srsly': 'seriously',\n",
    "    '1ce': 'once',\n",
    "    'coz': 'because',\n",
    "    'thanx': 'thanks',\n",
    "    'gng': 'going',\n",
    "    'sm': 'some',\n",
    "    'wat': 'what',\n",
    "    'luv': 'love',\n",
    "    'cud': 'could',\n",
    "    'tht': 'that',\n",
    "    'tmrrw': 'tomorrow',\n",
    "    'ltr': 'later',\n",
    "    'knw': 'know',\n",
    "    'cnf': 'confirm',\n",
    "    'bk': 'back',\n",
    "    'wud': 'would',\n",
    "    'tlk': 'talk',\n",
    "    'cya': 'see you',\n",
    "    'pls': 'please',\n",
    "    'brb': 'be right back',\n",
    "    'idk': 'I dont know',\n",
    "    'ikr': 'I know right',\n",
    "    'hbd': 'happy birthday',\n",
    "    'omw': 'on my way',\n",
    "    'bff': 'best friend forever',\n",
    "    'ttys': 'talk to you soon',\n",
    "    'atm': 'at the moment',\n",
    "    'nvm': 'never mind',\n",
    "    'jk': 'just kidding',\n",
    "    'sup': 'whats up',\n",
    "    'fyi': 'for your information',\n",
    "    'smh': 'shaking my head',\n",
    "    'lmao': 'laughing my ass off',\n",
    "    'rofl': 'rolling on the floor laughing',\n",
    "    'imo': 'in my opinion',\n",
    "    'fam': 'family',\n",
    "    'bc': 'because',\n",
    "    'hmu': 'hit me up',\n",
    "    'bfn': 'bye for now',\n",
    "    'afk': 'away from keyboard',\n",
    "    'otw': 'on the way',\n",
    "    'idc': 'I dont care',\n",
    "    'ily': 'I love you',\n",
    "    'b4': 'before',\n",
    "    'ez': 'easy',\n",
    "    'rsvp': 'please respond',\n",
    "    'g2g': 'got to go',\n",
    "    'lmk': 'let me know',\n",
    "    'omg': 'oh my god',\n",
    "    'sol': 'shit out of luck',\n",
    "    'gr8': 'great',\n",
    "    'bbl': 'be back later',\n",
    "    'idts': 'I dont think so',\n",
    "    'xoxo': 'hugs and kisses',\n",
    "    'ily2': 'I love you too'\n",
    "}\n",
    "def replace_shorthand(text):\n",
    "    if isinstance(text, str):\n",
    "        words = text.split()\n",
    "        corrected_words = [hinglish_incomplete_to_proper.get(word, word) for word in words]\n",
    "        return ' '.join(corrected_words)\n",
    "    return text\n",
    "\n",
    "# Apply the function to the 'crimeaditionalinfo' column\n",
    "train['crimeaditionalinfo'] = train['crimeaditionalinfo'].apply(replace_shorthand)\n",
    "test['crimeaditionalinfo'] = test['crimeaditionalinfo'].apply(replace_shorthand)"
   ]
  },
  {
   "cell_type": "code",
   "execution_count": 28,
   "id": "d6c35070",
   "metadata": {
    "execution": {
     "iopub.execute_input": "2024-11-16T18:33:52.793604Z",
     "iopub.status.busy": "2024-11-16T18:33:52.793276Z",
     "iopub.status.idle": "2024-11-16T18:34:09.775133Z",
     "shell.execute_reply": "2024-11-16T18:34:09.774361Z"
    },
    "jupyter": {
     "source_hidden": true
    },
    "papermill": {
     "duration": 17.002663,
     "end_time": "2024-11-16T18:34:09.777570",
     "exception": false,
     "start_time": "2024-11-16T18:33:52.774907",
     "status": "completed"
    },
    "tags": []
   },
   "outputs": [],
   "source": [
    "place_names = [\n",
    "    'gariahat', 'axis mall', 'shivpur', 'baliganj', 'ghatkopar', 'sikandra', 'digha', 'ashiyana', \n",
    "    'kishanganj', 'kukatpally', 'sion', 'thrissur', 'darjling', 'dharma', 'chainpur', 'kaimur', \n",
    "    'dabri', 'mansarovr', 'balasore', 'raghunathpur', 'unnao', 'thrissur', 'ramnagariya', 'howrah',\n",
    "    'kamothe', 'balapur', 'hitech', 'gachibowli', 'pallavaram', 'salem', 'jalandhar', 'bhiwandi',\n",
    "    'jabalpur', 'mira road', 'belgaum', 'bhubaneswar', 'ludhiana', 'rohtak', 'tirupati', 'patna',\n",
    "    'bhuj', 'solapur', 'madurai', 'gurgaon', 'noida', 'varanasi', 'nagpur', 'amritsar', 'jammu',\n",
    "    'vijayawada', 'pondicherry', 'vasai', 'thane', 'kochi', 'vizag', 'mangaluru', 'kannur', 'asansol',\n",
    "    'kanpur', 'dindigul', 'chhindwara', 'davangere', 'hubli', 'bidar', 'tiruvannamalai', 'kalyan',\n",
    "    'kharghar', 'borivali', 'andheri', 'bandra', 'nariman', 'malad', 'pune', 'borivli', 'vadodara',\n",
    "    'bhandup', 'mulund', 'khar', 'kurla', 'chembur', 'dadar', 'navi mumbai', 'vikhroli', 'chennai',\n",
    "    'bhandara', 'nasik', 'indore', 'santacruz', 'bhopal', 'solan', 'ambala', 'satna', 'jhansi', 'udaipur',\n",
    "    'silchar', 'bokaro', 'trichy', 'jharsuguda', 'paradeep', 'kannauj', 'jalgaon', 'hosur', 'panvel',\n",
    "    'palghar', 'nanded', 'aligarh', 'surat', 'jalandhar', 'nagda', 'bokaro', 'kozhikode', 'palakkad',\n",
    "    'erode', 'ratlam', 'nalasopara', 'latur', 'kurnool', 'tuticorin', 'shimla', 'udaipur', 'sikar', \n",
    "    'ganganagar', 'bikaner', 'sirsa', 'hisar', 'muzaffarnagar', 'bhilai', 'mathura', 'rampur', 'moradabad', \n",
    "    'raebareli', 'sambalpur', 'muzaffarpur', 'gonda', 'palace', 'mall', 'market', 'plaza'\n",
    "]\n",
    "\n",
    "# Convert the list to lowercase to match regardless of case\n",
    "place_names = [place.lower() for place in place_names]\n",
    "\n",
    "# Function to replace any occurrence of place names with the tag \"LOCATION\"\n",
    "def replace_place_names_with_location(text):\n",
    "    if isinstance(text, str):\n",
    "        words = text.split()\n",
    "        corrected_words = ['LOCATION' if word.lower() in place_names else word for word in words]\n",
    "        return ' '.join(corrected_words)\n",
    "    return text\n",
    "\n",
    "# Apply the function to the 'crimeaditionalinfo' column\n",
    "train['crimeaditionalinfo'] = train['crimeaditionalinfo'].apply(replace_place_names_with_location)\n",
    "test['crimeaditionalinfo'] = test['crimeaditionalinfo'].apply(replace_place_names_with_location)"
   ]
  },
  {
   "cell_type": "code",
   "execution_count": 29,
   "id": "b14263f1",
   "metadata": {
    "execution": {
     "iopub.execute_input": "2024-11-16T18:34:09.814108Z",
     "iopub.status.busy": "2024-11-16T18:34:09.813757Z",
     "iopub.status.idle": "2024-11-16T18:34:09.818545Z",
     "shell.execute_reply": "2024-11-16T18:34:09.817681Z"
    },
    "papermill": {
     "duration": 0.025309,
     "end_time": "2024-11-16T18:34:09.820462",
     "exception": false,
     "start_time": "2024-11-16T18:34:09.795153",
     "status": "completed"
    },
    "tags": []
   },
   "outputs": [],
   "source": [
    "# spell = Speller()\n",
    "\n",
    "def correct_spellings(text):\n",
    "    corrected_text = ' '.join([spell(word) for word in text.split()])\n",
    "    return corrected_text\n",
    "\n",
    "# train['crimeaditionalinfo'] = train['crimeaditionalinfo'].apply(correct_spellings)\n",
    "# test['crimeaditionalinfo'] = test['crimeaditionalinfo'].apply(correct_spellings)"
   ]
  },
  {
   "cell_type": "code",
   "execution_count": 30,
   "id": "1d36dc46",
   "metadata": {
    "execution": {
     "iopub.execute_input": "2024-11-16T18:34:09.858992Z",
     "iopub.status.busy": "2024-11-16T18:34:09.858591Z",
     "iopub.status.idle": "2024-11-16T18:34:13.401083Z",
     "shell.execute_reply": "2024-11-16T18:34:13.400188Z"
    },
    "papermill": {
     "duration": 3.568037,
     "end_time": "2024-11-16T18:34:13.406457",
     "exception": false,
     "start_time": "2024-11-16T18:34:09.838420",
     "status": "completed"
    },
    "tags": []
   },
   "outputs": [
    {
     "data": {
      "image/png": "[encoded data removed]",
      "text/plain": [
       "<Figure size 1000x500 with 1 Axes>"
      ]
     },
     "metadata": {},
     "output_type": "display_data"
    }
   ],
   "source": [
    "from wordcloud import WordCloud\n",
    "import matplotlib.pyplot as plt\n",
    "from collections import Counter\n",
    "import re\n",
    "\n",
    "all_text = ' '.join(train['crimeaditionalinfo'].dropna())\n",
    "all_text = re.sub(r'[^\\w\\s]', '', all_text)\n",
    "word_counts = Counter(all_text.lower().split())\n",
    "wordcloud = WordCloud(width=800, height=400, background_color='white').generate_from_frequencies(word_counts)\n",
    "\n",
    "plt.figure(figsize=(10, 5))\n",
    "plt.imshow(wordcloud, interpolation='bilinear')\n",
    "plt.axis('off')\n",
    "plt.show()"
   ]
  },
  {
   "cell_type": "code",
   "execution_count": 31,
   "id": "6d1f1137",
   "metadata": {
    "execution": {
     "iopub.execute_input": "2024-11-16T18:34:13.450147Z",
     "iopub.status.busy": "2024-11-16T18:34:13.449693Z",
     "iopub.status.idle": "2024-11-16T18:34:13.487718Z",
     "shell.execute_reply": "2024-11-16T18:34:13.486774Z"
    },
    "papermill": {
     "duration": 0.061848,
     "end_time": "2024-11-16T18:34:13.489550",
     "exception": false,
     "start_time": "2024-11-16T18:34:13.427702",
     "status": "completed"
    },
    "tags": []
   },
   "outputs": [
    {
     "name": "stdout",
     "output_type": "stream",
     "text": [
      "<class 'pandas.core.frame.DataFrame'>\n",
      "Index: 88296 entries, 0 to 93685\n",
      "Data columns (total 3 columns):\n",
      " #   Column              Non-Null Count  Dtype \n",
      "---  ------              --------------  ----- \n",
      " 0   category            88296 non-null  object\n",
      " 1   sub_category        81705 non-null  object\n",
      " 2   crimeaditionalinfo  88296 non-null  object\n",
      "dtypes: object(3)\n",
      "memory usage: 2.7+ MB\n"
     ]
    }
   ],
   "source": [
    "train.info()"
   ]
  },
  {
   "cell_type": "code",
   "execution_count": 32,
   "id": "2c57e7bf",
   "metadata": {
    "execution": {
     "iopub.execute_input": "2024-11-16T18:34:13.532283Z",
     "iopub.status.busy": "2024-11-16T18:34:13.531974Z",
     "iopub.status.idle": "2024-11-16T18:34:13.562412Z",
     "shell.execute_reply": "2024-11-16T18:34:13.561294Z"
    },
    "papermill": {
     "duration": 0.053969,
     "end_time": "2024-11-16T18:34:13.564453",
     "exception": false,
     "start_time": "2024-11-16T18:34:13.510484",
     "status": "completed"
    },
    "tags": []
   },
   "outputs": [
    {
     "name": "stdout",
     "output_type": "stream",
     "text": [
      "{'Any Other Cyber Crime': ['Other'],\n",
      " 'Child Pornography CPChild Sexual Abuse Material CSAM': [nan],\n",
      " 'Cryptocurrency Crime': ['Cryptocurrency Fraud'],\n",
      " 'Cyber Attack/ Dependent Crimes': ['Data Breach/Theft',\n",
      "                                    'SQL Injection',\n",
      "                                    'Hacking/Defacement',\n",
      "                                    'Ransomware Attack',\n",
      "                                    'Denial of Service (DoS)/Distributed '\n",
      "                                    'Denial of Service (DDOS) attacks',\n",
      "                                    'Malware Attack',\n",
      "                                    'Tampering with computer source documents'],\n",
      " 'Cyber Terrorism': ['Cyber Terrorism'],\n",
      " 'Hacking  Damage to computercomputer system etc': ['Email Hacking',\n",
      "                                                    'Unauthorised AccessData '\n",
      "                                                    'Breach',\n",
      "                                                    'Damage to computer '\n",
      "                                                    'computer systems etc',\n",
      "                                                    'Tampering with computer '\n",
      "                                                    'source documents',\n",
      "                                                    'Website '\n",
      "                                                    'DefacementHacking'],\n",
      " 'Online Cyber Trafficking': ['Online Trafficking'],\n",
      " 'Online Financial Fraud': ['UPI Related Frauds',\n",
      "                            'DematDepository Fraud',\n",
      "                            'EWallet Related Fraud',\n",
      "                            'Fraud CallVishing',\n",
      "                            'DebitCredit Card FraudSim Swap Fraud',\n",
      "                            'Internet Banking Related Fraud',\n",
      "                            'Business Email CompromiseEmail Takeover'],\n",
      " 'Online Gambling  Betting': ['Online Gambling  Betting'],\n",
      " 'Online and Social Media Related Crime': ['FakeImpersonating Profile',\n",
      "                                           'Cyber Bullying  Stalking  Sexting',\n",
      "                                           'Provocative Speech for unlawful '\n",
      "                                           'acts',\n",
      "                                           'Intimidating Email',\n",
      "                                           'Online Matrimonial Fraud',\n",
      "                                           'Cheating by Impersonation',\n",
      "                                           'Profile Hacking Identity Theft',\n",
      "                                           'Impersonating Email',\n",
      "                                           'Online Job Fraud',\n",
      "                                           'EMail Phishing'],\n",
      " 'Ransomware': ['Ransomware'],\n",
      " 'RapeGang Rape RGRSexually Abusive Content': [nan],\n",
      " 'Report Unlawful Content': ['Against Interest of sovereignty or integrity of '\n",
      "                             'India'],\n",
      " 'Sexually Explicit Act': [nan],\n",
      " 'Sexually Obscene material': [nan]}\n",
      "Number of mappings:  15\n"
     ]
    }
   ],
   "source": [
    "# Group by 'category' and aggregate unique subcategories into lists\n",
    "train_category_mapping = train.groupby('category')['sub_category'].apply(lambda x: list(set(x))).to_dict()\n",
    "pprint.pprint(train_category_mapping, width=80)\n",
    "print(\"Number of mappings: \", len(train_category_mapping))"
   ]
  },
  {
   "cell_type": "code",
   "execution_count": 33,
   "id": "ea5129d8",
   "metadata": {
    "execution": {
     "iopub.execute_input": "2024-11-16T18:34:13.608030Z",
     "iopub.status.busy": "2024-11-16T18:34:13.607492Z",
     "iopub.status.idle": "2024-11-16T18:34:13.623321Z",
     "shell.execute_reply": "2024-11-16T18:34:13.622095Z"
    },
    "papermill": {
     "duration": 0.039697,
     "end_time": "2024-11-16T18:34:13.625279",
     "exception": false,
     "start_time": "2024-11-16T18:34:13.585582",
     "status": "completed"
    },
    "tags": []
   },
   "outputs": [
    {
     "name": "stdout",
     "output_type": "stream",
     "text": [
      "{'Any Other Cyber Crime': ['Other'],\n",
      " 'Child Pornography CPChild Sexual Abuse Material CSAM': [nan],\n",
      " 'Crime Against Women & Children': ['Sexual Harassment',\n",
      "                                    'Computer Generated CSAM/CSEM',\n",
      "                                    'Cyber Blackmailing & Threatening'],\n",
      " 'Cryptocurrency Crime': ['Cryptocurrency Fraud'],\n",
      " 'Cyber Attack/ Dependent Crimes': ['Data Breach/Theft',\n",
      "                                    'SQL Injection',\n",
      "                                    'Hacking/Defacement',\n",
      "                                    'Ransomware Attack',\n",
      "                                    'Malware Attack',\n",
      "                                    'Denial of Service (DoS)/Distributed '\n",
      "                                    'Denial of Service (DDOS) attacks',\n",
      "                                    'Tampering with computer source documents'],\n",
      " 'Cyber Terrorism': ['Cyber Terrorism'],\n",
      " 'Hacking  Damage to computercomputer system etc': ['Email Hacking',\n",
      "                                                    'Unauthorised AccessData '\n",
      "                                                    'Breach',\n",
      "                                                    'Damage to computer '\n",
      "                                                    'computer systems etc',\n",
      "                                                    'Tampering with computer '\n",
      "                                                    'source documents',\n",
      "                                                    'Website '\n",
      "                                                    'DefacementHacking'],\n",
      " 'Online Cyber Trafficking': ['Online Trafficking'],\n",
      " 'Online Financial Fraud': ['UPI Related Frauds',\n",
      "                            'DematDepository Fraud',\n",
      "                            'EWallet Related Fraud',\n",
      "                            'Fraud CallVishing',\n",
      "                            'DebitCredit Card FraudSim Swap Fraud',\n",
      "                            'Internet Banking Related Fraud',\n",
      "                            'Business Email CompromiseEmail Takeover'],\n",
      " 'Online Gambling  Betting': ['Online Gambling  Betting'],\n",
      " 'Online and Social Media Related Crime': ['FakeImpersonating Profile',\n",
      "                                           'Cyber Bullying  Stalking  Sexting',\n",
      "                                           'Provocative Speech for unlawful '\n",
      "                                           'acts',\n",
      "                                           'Intimidating Email',\n",
      "                                           'Online Matrimonial Fraud',\n",
      "                                           'Cheating by Impersonation',\n",
      "                                           'Profile Hacking Identity Theft',\n",
      "                                           'Impersonating Email',\n",
      "                                           'Online Job Fraud',\n",
      "                                           'EMail Phishing'],\n",
      " 'Ransomware': ['Ransomware'],\n",
      " 'RapeGang Rape RGRSexually Abusive Content': [nan],\n",
      " 'Sexually Explicit Act': [nan],\n",
      " 'Sexually Obscene material': [nan]}\n",
      "\n",
      "Number of mappings:  15\n"
     ]
    }
   ],
   "source": [
    "test_category_mapping = test.groupby('category')['sub_category'].apply(lambda x: list(set(x))).to_dict()\n",
    "pprint.pprint(test_category_mapping, width=80)\n",
    "print(\"\\nNumber of mappings: \", len(test_category_mapping))"
   ]
  },
  {
   "cell_type": "code",
   "execution_count": 34,
   "id": "4e650383",
   "metadata": {
    "execution": {
     "iopub.execute_input": "2024-11-16T18:34:13.668688Z",
     "iopub.status.busy": "2024-11-16T18:34:13.668388Z",
     "iopub.status.idle": "2024-11-16T18:34:13.676722Z",
     "shell.execute_reply": "2024-11-16T18:34:13.675755Z"
    },
    "papermill": {
     "duration": 0.03212,
     "end_time": "2024-11-16T18:34:13.678672",
     "exception": false,
     "start_time": "2024-11-16T18:34:13.646552",
     "status": "completed"
    },
    "tags": []
   },
   "outputs": [
    {
     "data": {
      "text/plain": [
       "{frozenset({'Child Pornography CPChild Sexual Abuse Material CSAM',\n",
       "            'RapeGang Rape RGRSexually Abusive Content'}): {nan},\n",
       " frozenset({'Child Pornography CPChild Sexual Abuse Material CSAM',\n",
       "            'Sexually Explicit Act'}): {nan},\n",
       " frozenset({'Child Pornography CPChild Sexual Abuse Material CSAM',\n",
       "            'Sexually Obscene material'}): {nan},\n",
       " frozenset({'RapeGang Rape RGRSexually Abusive Content',\n",
       "            'Sexually Explicit Act'}): {nan},\n",
       " frozenset({'RapeGang Rape RGRSexually Abusive Content',\n",
       "            'Sexually Obscene material'}): {nan},\n",
       " frozenset({'Sexually Explicit Act', 'Sexually Obscene material'}): {nan}}"
      ]
     },
     "execution_count": 34,
     "metadata": {},
     "output_type": "execute_result"
    }
   ],
   "source": [
    "unique_category_mapping_sets = {category: set(subcategories) for category, subcategories in train_category_mapping.items()}\n",
    "\n",
    "identical_categories = {}\n",
    "for category1, subcategories1 in unique_category_mapping_sets.items():\n",
    "    for category2, subcategories2 in unique_category_mapping_sets.items():\n",
    "        if category1 != category2 and subcategories1 == subcategories2:\n",
    "            identical_categories.setdefault(frozenset([category1, category2]), subcategories1)\n",
    "\n",
    "identical_categories"
   ]
  },
  {
   "cell_type": "code",
   "execution_count": 35,
   "id": "18f27725",
   "metadata": {
    "execution": {
     "iopub.execute_input": "2024-11-16T18:34:13.722140Z",
     "iopub.status.busy": "2024-11-16T18:34:13.721869Z",
     "iopub.status.idle": "2024-11-16T18:34:13.754937Z",
     "shell.execute_reply": "2024-11-16T18:34:13.754059Z"
    },
    "papermill": {
     "duration": 0.057061,
     "end_time": "2024-11-16T18:34:13.756844",
     "exception": false,
     "start_time": "2024-11-16T18:34:13.699783",
     "status": "completed"
    },
    "tags": []
   },
   "outputs": [
    {
     "data": {
      "text/html": [
       "<div>\n",
       "<style scoped>\n",
       "    .dataframe tbody tr th:only-of-type {\n",
       "        vertical-align: middle;\n",
       "    }\n",
       "\n",
       "    .dataframe tbody tr th {\n",
       "        vertical-align: top;\n",
       "    }\n",
       "\n",
       "    .dataframe thead th {\n",
       "        text-align: right;\n",
       "    }\n",
       "</style>\n",
       "<table border=\"1\" class=\"dataframe\">\n",
       "  <thead>\n",
       "    <tr style=\"text-align: right;\">\n",
       "      <th></th>\n",
       "      <th>category</th>\n",
       "      <th>sub_category</th>\n",
       "      <th>crimeaditionalinfo</th>\n",
       "    </tr>\n",
       "  </thead>\n",
       "  <tbody>\n",
       "    <tr>\n",
       "      <th>45</th>\n",
       "      <td>Sexually Obscene material</td>\n",
       "      <td>NaN</td>\n",
       "      <td>many fake accounts are created and im suffering since year vulgar language chatting in instagram with my friends and family members and they are also suffering by this issue in kindly requesting to you help me its my humble request</td>\n",
       "    </tr>\n",
       "    <tr>\n",
       "      <th>94</th>\n",
       "      <td>Sexually Obscene material</td>\n",
       "      <td>NaN</td>\n",
       "      <td>in twitter we have seen illegally publishing and transmitting sexual photocopy of girls in twitter they is big group transmitting girls photo most of them are affected by this group help this stop this in social media</td>\n",
       "    </tr>\n",
       "    <tr>\n",
       "      <th>122</th>\n",
       "      <td>Sexually Obscene material</td>\n",
       "      <td>NaN</td>\n",
       "      <td>someone post my nude on instagram and when i asked about then he told that anyone share my picture for post and when i asked about who is behind this he told me that he sind not remember anything please help me this is very serious for me</td>\n",
       "    </tr>\n",
       "  </tbody>\n",
       "</table>\n",
       "</div>"
      ],
      "text/plain": [
       "                      category sub_category  \\\n",
       "45   Sexually Obscene material          NaN   \n",
       "94   Sexually Obscene material          NaN   \n",
       "122  Sexually Obscene material          NaN   \n",
       "\n",
       "                                                                                                                                                                                                                                 crimeaditionalinfo  \n",
       "45          many fake accounts are created and im suffering since year vulgar language chatting in instagram with my friends and family members and they are also suffering by this issue in kindly requesting to you help me its my humble request  \n",
       "94                        in twitter we have seen illegally publishing and transmitting sexual photocopy of girls in twitter they is big group transmitting girls photo most of them are affected by this group help this stop this in social media  \n",
       "122  someone post my nude on instagram and when i asked about then he told that anyone share my picture for post and when i asked about who is behind this he told me that he sind not remember anything please help me this is very serious for me  "
      ]
     },
     "execution_count": 35,
     "metadata": {},
     "output_type": "execute_result"
    }
   ],
   "source": [
    "train[(train['category'] == 'Sexually Obscene material') & (train['sub_category'].isna() == True)].head(3)"
   ]
  },
  {
   "cell_type": "code",
   "execution_count": 36,
   "id": "370b0754",
   "metadata": {
    "execution": {
     "iopub.execute_input": "2024-11-16T18:34:13.801497Z",
     "iopub.status.busy": "2024-11-16T18:34:13.800838Z",
     "iopub.status.idle": "2024-11-16T18:34:15.618039Z",
     "shell.execute_reply": "2024-11-16T18:34:15.617021Z"
    },
    "papermill": {
     "duration": 1.84232,
     "end_time": "2024-11-16T18:34:15.620438",
     "exception": false,
     "start_time": "2024-11-16T18:34:13.778118",
     "status": "completed"
    },
    "tags": []
   },
   "outputs": [],
   "source": [
    "sexual_abuse_categories = [\n",
    "    'Sexually Obscene material', \n",
    "    'Sexually Explicit Act', \n",
    "    'RapeGang Rape RGRSexually Abusive Content', \n",
    "    'Child Pornography CPChild Sexual Abuse Material CSAM'\n",
    "]\n",
    "\n",
    "combined_subcategory = \", \".join(sexual_abuse_categories)\n",
    "train['sub_category'] = train.apply(lambda row: row['category'] if row['category'] in sexual_abuse_categories else row['sub_category'], axis=1)\n",
    "train['category'] = train['category'].apply(lambda x: \"Sex Abuse\" if x in sexual_abuse_categories else x)\n",
    "test['sub_category'] = test.apply(lambda row: row['category'] if row['category'] in sexual_abuse_categories else row['sub_category'], axis=1)\n",
    "test['category'] = test['category'].apply(lambda x: \"Sex Abuse\" if x in sexual_abuse_categories else x)"
   ]
  },
  {
   "cell_type": "code",
   "execution_count": 37,
   "id": "f07e7927",
   "metadata": {
    "execution": {
     "iopub.execute_input": "2024-11-16T18:34:15.665746Z",
     "iopub.status.busy": "2024-11-16T18:34:15.665407Z",
     "iopub.status.idle": "2024-11-16T18:34:15.703580Z",
     "shell.execute_reply": "2024-11-16T18:34:15.702459Z"
    },
    "papermill": {
     "duration": 0.063097,
     "end_time": "2024-11-16T18:34:15.705514",
     "exception": false,
     "start_time": "2024-11-16T18:34:15.642417",
     "status": "completed"
    },
    "tags": []
   },
   "outputs": [
    {
     "name": "stdout",
     "output_type": "stream",
     "text": [
      "<class 'pandas.core.frame.DataFrame'>\n",
      "Index: 88296 entries, 0 to 93685\n",
      "Data columns (total 3 columns):\n",
      " #   Column              Non-Null Count  Dtype \n",
      "---  ------              --------------  ----- \n",
      " 0   category            88296 non-null  object\n",
      " 1   sub_category        88296 non-null  object\n",
      " 2   crimeaditionalinfo  88296 non-null  object\n",
      "dtypes: object(3)\n",
      "memory usage: 2.7+ MB\n"
     ]
    }
   ],
   "source": [
    "train.info()"
   ]
  },
  {
   "cell_type": "code",
   "execution_count": 38,
   "id": "20a3fc88",
   "metadata": {
    "execution": {
     "iopub.execute_input": "2024-11-16T18:34:15.749879Z",
     "iopub.status.busy": "2024-11-16T18:34:15.749550Z",
     "iopub.status.idle": "2024-11-16T18:34:15.774589Z",
     "shell.execute_reply": "2024-11-16T18:34:15.773672Z"
    },
    "papermill": {
     "duration": 0.049465,
     "end_time": "2024-11-16T18:34:15.776651",
     "exception": false,
     "start_time": "2024-11-16T18:34:15.727186",
     "status": "completed"
    },
    "tags": []
   },
   "outputs": [
    {
     "data": {
      "text/html": [
       "<div>\n",
       "<style scoped>\n",
       "    .dataframe tbody tr th:only-of-type {\n",
       "        vertical-align: middle;\n",
       "    }\n",
       "\n",
       "    .dataframe tbody tr th {\n",
       "        vertical-align: top;\n",
       "    }\n",
       "\n",
       "    .dataframe thead th {\n",
       "        text-align: right;\n",
       "    }\n",
       "</style>\n",
       "<table border=\"1\" class=\"dataframe\">\n",
       "  <thead>\n",
       "    <tr style=\"text-align: right;\">\n",
       "      <th></th>\n",
       "      <th>category</th>\n",
       "      <th>sub_category</th>\n",
       "      <th>crimeaditionalinfo</th>\n",
       "    </tr>\n",
       "  </thead>\n",
       "  <tbody>\n",
       "    <tr>\n",
       "      <th>8</th>\n",
       "      <td>Sex Abuse</td>\n",
       "      <td>RapeGang Rape RGRSexually Abusive Content</td>\n",
       "      <td>i got the message on whatsapp to my number the message contains very abusive words this message also includes my friend name and his number in that the same message was forwarded to all other friends also for more details please look into the file attached here please take action as soon as possible</td>\n",
       "    </tr>\n",
       "    <tr>\n",
       "      <th>25</th>\n",
       "      <td>Sex Abuse</td>\n",
       "      <td>RapeGang Rape RGRSexually Abusive Content</td>\n",
       "      <td>respected sir a very serious matter i want to inform you few person running or involve in some very shamefull activities by using few women at many places of kolkata LOCATION ballygunge ruby hospital behind area kasba anandapur quest LOCATION metropolis LOCATION area acropolismall area park circus forum LOCATION elgin rd parkstreet maidan area esplanade garia jadavpur behalasakherbazar joka bansdroni rabindrasadanexide area haridevpur triangular park lake LOCATION area rashbehari area tollygunge thakurpukur bbd bag dalhousie area and saltlake their name subhro saha amlan datta izaz ahmed anirban they officially work in a insurance office hdfclife a hindustanpark ab LOCATION shopping LOCATION st floor beside of reliance trend building near LOCATION more but outside at several places they involve in some shamefull activities last years sir a person subhro saha forcefully involve few women employee ex female employee in such shamefull doing at afternoon evening or after evening or night time they doing this shamefull activities many innocent people are trapped and suffering in such dirty issue for long time they are even to lodge a WEBSITE against them because of threatening and blackmailing issue from above address places and their mobile whatsapp no you can easily trace and track their all activities you need to investigate last years detail please help</td>\n",
       "    </tr>\n",
       "    <tr>\n",
       "      <th>39</th>\n",
       "      <td>Sex Abuse</td>\n",
       "      <td>Sexually Explicit Act</td>\n",
       "      <td>WEBSITE above link is correct video url she is one of our relative please help her now she is going to get marry other person they are not aware of this information while its recording some malwere functionality has recorded without their permission please help her and remove the above video</td>\n",
       "    </tr>\n",
       "  </tbody>\n",
       "</table>\n",
       "</div>"
      ],
      "text/plain": [
       "     category                               sub_category  \\\n",
       "8   Sex Abuse  RapeGang Rape RGRSexually Abusive Content   \n",
       "25  Sex Abuse  RapeGang Rape RGRSexually Abusive Content   \n",
       "39  Sex Abuse                      Sexually Explicit Act   \n",
       "\n",
       "                                                                                                                                                                                                                                                                                                                                                                                                                                                                                                                                                                                                                                                                                                                                                                                                                                                                                                                                                                                                                                                                                                                                                                                                                                                                                                                                                                                                                crimeaditionalinfo  \n",
       "8                                                                                                                                                                                                                                                                                                                                                                                                                                                                                                                                                                                                                                                                                                                                                                                                                                                                                                                                                                                                                                                                                                                     i got the message on whatsapp to my number the message contains very abusive words this message also includes my friend name and his number in that the same message was forwarded to all other friends also for more details please look into the file attached here please take action as soon as possible  \n",
       "25  respected sir a very serious matter i want to inform you few person running or involve in some very shamefull activities by using few women at many places of kolkata LOCATION ballygunge ruby hospital behind area kasba anandapur quest LOCATION metropolis LOCATION area acropolismall area park circus forum LOCATION elgin rd parkstreet maidan area esplanade garia jadavpur behalasakherbazar joka bansdroni rabindrasadanexide area haridevpur triangular park lake LOCATION area rashbehari area tollygunge thakurpukur bbd bag dalhousie area and saltlake their name subhro saha amlan datta izaz ahmed anirban they officially work in a insurance office hdfclife a hindustanpark ab LOCATION shopping LOCATION st floor beside of reliance trend building near LOCATION more but outside at several places they involve in some shamefull activities last years sir a person subhro saha forcefully involve few women employee ex female employee in such shamefull doing at afternoon evening or after evening or night time they doing this shamefull activities many innocent people are trapped and suffering in such dirty issue for long time they are even to lodge a WEBSITE against them because of threatening and blackmailing issue from above address places and their mobile whatsapp no you can easily trace and track their all activities you need to investigate last years detail please help  \n",
       "39                                                                                                                                                                                                                                                                                                                                                                                                                                                                                                                                                                                                                                                                                                                                                                                                                                                                                                                                                                                                                                                                                                                            WEBSITE above link is correct video url she is one of our relative please help her now she is going to get marry other person they are not aware of this information while its recording some malwere functionality has recorded without their permission please help her and remove the above video  "
      ]
     },
     "execution_count": 38,
     "metadata": {},
     "output_type": "execute_result"
    }
   ],
   "source": [
    "train[(train['category'] == 'Sex Abuse')].head(3)"
   ]
  },
  {
   "cell_type": "code",
   "execution_count": 39,
   "id": "2ed6e462",
   "metadata": {
    "execution": {
     "iopub.execute_input": "2024-11-16T18:34:15.822017Z",
     "iopub.status.busy": "2024-11-16T18:34:15.821685Z",
     "iopub.status.idle": "2024-11-16T18:34:15.899627Z",
     "shell.execute_reply": "2024-11-16T18:34:15.898726Z"
    },
    "papermill": {
     "duration": 0.102456,
     "end_time": "2024-11-16T18:34:15.901542",
     "exception": false,
     "start_time": "2024-11-16T18:34:15.799086",
     "status": "completed"
    },
    "tags": []
   },
   "outputs": [
    {
     "data": {
      "text/plain": [
       "5592"
      ]
     },
     "execution_count": 39,
     "metadata": {},
     "output_type": "execute_result"
    }
   ],
   "source": [
    "len(train[train['crimeaditionalinfo'].str.contains('LOCATION')])"
   ]
  },
  {
   "cell_type": "code",
   "execution_count": 40,
   "id": "fb30d470",
   "metadata": {
    "execution": {
     "iopub.execute_input": "2024-11-16T18:34:15.947096Z",
     "iopub.status.busy": "2024-11-16T18:34:15.946367Z",
     "iopub.status.idle": "2024-11-16T18:34:16.061115Z",
     "shell.execute_reply": "2024-11-16T18:34:16.060278Z"
    },
    "papermill": {
     "duration": 0.13954,
     "end_time": "2024-11-16T18:34:16.063218",
     "exception": false,
     "start_time": "2024-11-16T18:34:15.923678",
     "status": "completed"
    },
    "tags": []
   },
   "outputs": [
    {
     "data": {
      "text/html": [
       "<div>\n",
       "<style scoped>\n",
       "    .dataframe tbody tr th:only-of-type {\n",
       "        vertical-align: middle;\n",
       "    }\n",
       "\n",
       "    .dataframe tbody tr th {\n",
       "        vertical-align: top;\n",
       "    }\n",
       "\n",
       "    .dataframe thead th {\n",
       "        text-align: right;\n",
       "    }\n",
       "</style>\n",
       "<table border=\"1\" class=\"dataframe\">\n",
       "  <thead>\n",
       "    <tr style=\"text-align: right;\">\n",
       "      <th></th>\n",
       "      <th>category</th>\n",
       "      <th>sub_category</th>\n",
       "      <th>crimeaditionalinfo</th>\n",
       "    </tr>\n",
       "  </thead>\n",
       "  <tbody>\n",
       "    <tr>\n",
       "      <th>22</th>\n",
       "      <td>Online Gambling  Betting</td>\n",
       "      <td>Online Gambling  Betting</td>\n",
       "      <td>respected cyber crime LOCATION east mumbai this is irshad gafur shaikh i reside in LOCATION east with my family and i am responsible citizen of india and my family i would like to highlight you about two fruadulant loan app which are quitely robbing to innocent and family responsible people like me koko loan i was looking for ke then filling my personal details it showed ke then i clicked to check tenurity and roi it directly selected as applied itself and credited into my account of rs and repayment amount is showing as ke with days tenurity screen shots shared for your reference ag loan i was looking for ke loan as per the app given limit for days tenurity and i applied for the same then next it credited rs into my bank account as showing repayment of ke with days tenurity screen shots and recording shared for your reference none of the above have mentioned contact center or points i tried to contact them also however its all scam i heartly request you to help me out from the same i am from middle class and i already having many family responaiblity i am ready for the same credited amount only but they are not acknowledging that</td>\n",
       "    </tr>\n",
       "    <tr>\n",
       "      <th>25</th>\n",
       "      <td>Sex Abuse</td>\n",
       "      <td>RapeGang Rape RGRSexually Abusive Content</td>\n",
       "      <td>respected sir a very serious matter i want to inform you few person running or involve in some very shamefull activities by using few women at many places of kolkata LOCATION ballygunge ruby hospital behind area kasba anandapur quest LOCATION metropolis LOCATION area acropolismall area park circus forum LOCATION elgin rd parkstreet maidan area esplanade garia jadavpur behalasakherbazar joka bansdroni rabindrasadanexide area haridevpur triangular park lake LOCATION area rashbehari area tollygunge thakurpukur bbd bag dalhousie area and saltlake their name subhro saha amlan datta izaz ahmed anirban they officially work in a insurance office hdfclife a hindustanpark ab LOCATION shopping LOCATION st floor beside of reliance trend building near LOCATION more but outside at several places they involve in some shamefull activities last years sir a person subhro saha forcefully involve few women employee ex female employee in such shamefull doing at afternoon evening or after evening or night time they doing this shamefull activities many innocent people are trapped and suffering in such dirty issue for long time they are even to lodge a WEBSITE against them because of threatening and blackmailing issue from above address places and their mobile whatsapp no you can easily trace and track their all activities you need to investigate last years detail please help</td>\n",
       "    </tr>\n",
       "    <tr>\n",
       "      <th>40</th>\n",
       "      <td>Online Gambling  Betting</td>\n",
       "      <td>Online Gambling  Betting</td>\n",
       "      <td>his name is avaneesh parasar staying in LOCATION at flat ranjan LOCATION magistrate colony LOCATION LOCATION road post aashiyana nagar thana rajiv nagar dis LOCATION pin code he took crores of rupees from thousands on people all over india for trading in bitcoin and promised to return with profit capital amount but now he is not returning and arguing and using slangs when we are asking for our own money we are figiting with him from with him and everytime he keeps giving the reason for each and everything and keeps figting for not retrning the money we are very tired of all this and need to catch him at the earliest many people are not WEBSITE due to scared of losing their money even avaneesh says frankly to WEBSITE to police or move with legal action as police cant do anything to him it seems he is very confident about the police is not going to do anything to him we are struggling lot with him as he is not returning our amount atleast request you to spread awareness in media to save many people from him along with him his partner sanjana and anjalli calling many people and inviting to join his online fraud business and they are taking many people money and not returning theier capital also people have to fight to get their own money from him now he also removed from fb group to those people from whomever he took money and not returning he created another new group on facebook to trap new people and take the money please catch him as soon as possible</td>\n",
       "    </tr>\n",
       "  </tbody>\n",
       "</table>\n",
       "</div>"
      ],
      "text/plain": [
       "                    category                               sub_category  \\\n",
       "22  Online Gambling  Betting                   Online Gambling  Betting   \n",
       "25                 Sex Abuse  RapeGang Rape RGRSexually Abusive Content   \n",
       "40  Online Gambling  Betting                   Online Gambling  Betting   \n",
       "\n",
       "                                                                                                                                                                                                                                                                                                                                                                                                                                                                                                                                                                                                                                                                                                                                                                                                                                                                                                                                                                                                                                                                                                                                                                                                                                                                                                                                                                                                                                                                                                                     crimeaditionalinfo  \n",
       "22                                                                                                                                                                                                                                                                                                                                         respected cyber crime LOCATION east mumbai this is irshad gafur shaikh i reside in LOCATION east with my family and i am responsible citizen of india and my family i would like to highlight you about two fruadulant loan app which are quitely robbing to innocent and family responsible people like me koko loan i was looking for ke then filling my personal details it showed ke then i clicked to check tenurity and roi it directly selected as applied itself and credited into my account of rs and repayment amount is showing as ke with days tenurity screen shots shared for your reference ag loan i was looking for ke loan as per the app given limit for days tenurity and i applied for the same then next it credited rs into my bank account as showing repayment of ke with days tenurity screen shots and recording shared for your reference none of the above have mentioned contact center or points i tried to contact them also however its all scam i heartly request you to help me out from the same i am from middle class and i already having many family responaiblity i am ready for the same credited amount only but they are not acknowledging that  \n",
       "25                                                                                                       respected sir a very serious matter i want to inform you few person running or involve in some very shamefull activities by using few women at many places of kolkata LOCATION ballygunge ruby hospital behind area kasba anandapur quest LOCATION metropolis LOCATION area acropolismall area park circus forum LOCATION elgin rd parkstreet maidan area esplanade garia jadavpur behalasakherbazar joka bansdroni rabindrasadanexide area haridevpur triangular park lake LOCATION area rashbehari area tollygunge thakurpukur bbd bag dalhousie area and saltlake their name subhro saha amlan datta izaz ahmed anirban they officially work in a insurance office hdfclife a hindustanpark ab LOCATION shopping LOCATION st floor beside of reliance trend building near LOCATION more but outside at several places they involve in some shamefull activities last years sir a person subhro saha forcefully involve few women employee ex female employee in such shamefull doing at afternoon evening or after evening or night time they doing this shamefull activities many innocent people are trapped and suffering in such dirty issue for long time they are even to lodge a WEBSITE against them because of threatening and blackmailing issue from above address places and their mobile whatsapp no you can easily trace and track their all activities you need to investigate last years detail please help  \n",
       "40  his name is avaneesh parasar staying in LOCATION at flat ranjan LOCATION magistrate colony LOCATION LOCATION road post aashiyana nagar thana rajiv nagar dis LOCATION pin code he took crores of rupees from thousands on people all over india for trading in bitcoin and promised to return with profit capital amount but now he is not returning and arguing and using slangs when we are asking for our own money we are figiting with him from with him and everytime he keeps giving the reason for each and everything and keeps figting for not retrning the money we are very tired of all this and need to catch him at the earliest many people are not WEBSITE due to scared of losing their money even avaneesh says frankly to WEBSITE to police or move with legal action as police cant do anything to him it seems he is very confident about the police is not going to do anything to him we are struggling lot with him as he is not returning our amount atleast request you to spread awareness in media to save many people from him along with him his partner sanjana and anjalli calling many people and inviting to join his online fraud business and they are taking many people money and not returning theier capital also people have to fight to get their own money from him now he also removed from fb group to those people from whomever he took money and not returning he created another new group on facebook to trap new people and take the money please catch him as soon as possible  "
      ]
     },
     "execution_count": 40,
     "metadata": {},
     "output_type": "execute_result"
    }
   ],
   "source": [
    "train[train['crimeaditionalinfo'].str.count(\"LOCATION\") > 1].head(3)"
   ]
  },
  {
   "cell_type": "code",
   "execution_count": 41,
   "id": "d8eb535d",
   "metadata": {
    "execution": {
     "iopub.execute_input": "2024-11-16T18:34:16.109515Z",
     "iopub.status.busy": "2024-11-16T18:34:16.109145Z",
     "iopub.status.idle": "2024-11-16T18:34:16.355197Z",
     "shell.execute_reply": "2024-11-16T18:34:16.354417Z"
    },
    "papermill": {
     "duration": 0.271311,
     "end_time": "2024-11-16T18:34:16.357409",
     "exception": false,
     "start_time": "2024-11-16T18:34:16.086098",
     "status": "completed"
    },
    "tags": []
   },
   "outputs": [],
   "source": [
    "def consolidate_location_tags(text):\n",
    "    if isinstance(text, str):\n",
    "        # This regex finds the first \"LOCATION\" and the last \"LOCATION\" and removes everything in between\n",
    "        text = re.sub(r'LOCATION.*LOCATION', 'LOCATION', text)\n",
    "    return text\n",
    "\n",
    "train['crimeaditionalinfo'] = train['crimeaditionalinfo'].apply(consolidate_location_tags)\n",
    "test['crimeaditionalinfo'] = test['crimeaditionalinfo'].apply(consolidate_location_tags)"
   ]
  },
  {
   "cell_type": "code",
   "execution_count": 42,
   "id": "42cfbfd4",
   "metadata": {
    "execution": {
     "iopub.execute_input": "2024-11-16T18:34:16.403835Z",
     "iopub.status.busy": "2024-11-16T18:34:16.403514Z",
     "iopub.status.idle": "2024-11-16T18:34:16.529049Z",
     "shell.execute_reply": "2024-11-16T18:34:16.527961Z"
    },
    "papermill": {
     "duration": 0.150798,
     "end_time": "2024-11-16T18:34:16.531200",
     "exception": false,
     "start_time": "2024-11-16T18:34:16.380402",
     "status": "completed"
    },
    "tags": []
   },
   "outputs": [
    {
     "name": "stdout",
     "output_type": "stream",
     "text": [
      "Against Interest of sovereignty or integrity of India\n"
     ]
    }
   ],
   "source": [
    "for column in train['sub_category'].unique():\n",
    "    if column not in test['sub_category'].unique():\n",
    "        print(column)"
   ]
  },
  {
   "cell_type": "code",
   "execution_count": 43,
   "id": "7fd978fd",
   "metadata": {
    "execution": {
     "iopub.execute_input": "2024-11-16T18:34:16.577643Z",
     "iopub.status.busy": "2024-11-16T18:34:16.577324Z",
     "iopub.status.idle": "2024-11-16T18:34:16.910828Z",
     "shell.execute_reply": "2024-11-16T18:34:16.909758Z"
    },
    "papermill": {
     "duration": 0.359122,
     "end_time": "2024-11-16T18:34:16.913121",
     "exception": false,
     "start_time": "2024-11-16T18:34:16.553999",
     "status": "completed"
    },
    "tags": []
   },
   "outputs": [
    {
     "name": "stdout",
     "output_type": "stream",
     "text": [
      "Computer Generated CSAM/CSEM\n",
      "Cyber Blackmailing & Threatening\n",
      "Sexual Harassment\n"
     ]
    }
   ],
   "source": [
    "for column in test['sub_category'].unique():\n",
    "    if column not in train['sub_category'].unique():\n",
    "        print(column)"
   ]
  },
  {
   "cell_type": "code",
   "execution_count": 44,
   "id": "478ba20e",
   "metadata": {
    "execution": {
     "iopub.execute_input": "2024-11-16T18:34:16.960241Z",
     "iopub.status.busy": "2024-11-16T18:34:16.959656Z",
     "iopub.status.idle": "2024-11-16T18:34:17.008259Z",
     "shell.execute_reply": "2024-11-16T18:34:17.007158Z"
    },
    "papermill": {
     "duration": 0.074352,
     "end_time": "2024-11-16T18:34:17.010231",
     "exception": false,
     "start_time": "2024-11-16T18:34:16.935879",
     "status": "completed"
    },
    "tags": []
   },
   "outputs": [
    {
     "name": "stdout",
     "output_type": "stream",
     "text": [
      "Report Unlawful Content\n"
     ]
    }
   ],
   "source": [
    "for column in train['category'].unique():\n",
    "    if column not in test['category'].unique():\n",
    "        print(column)"
   ]
  },
  {
   "cell_type": "code",
   "execution_count": 45,
   "id": "bd792101",
   "metadata": {
    "execution": {
     "iopub.execute_input": "2024-11-16T18:34:17.058124Z",
     "iopub.status.busy": "2024-11-16T18:34:17.057789Z",
     "iopub.status.idle": "2024-11-16T18:34:17.157667Z",
     "shell.execute_reply": "2024-11-16T18:34:17.156644Z"
    },
    "papermill": {
     "duration": 0.125581,
     "end_time": "2024-11-16T18:34:17.159935",
     "exception": false,
     "start_time": "2024-11-16T18:34:17.034354",
     "status": "completed"
    },
    "tags": []
   },
   "outputs": [
    {
     "name": "stdout",
     "output_type": "stream",
     "text": [
      "Crime Against Women & Children\n"
     ]
    }
   ],
   "source": [
    "for column in test['category'].unique():\n",
    "    if column not in train['category'].unique():\n",
    "        print(column)"
   ]
  },
  {
   "cell_type": "code",
   "execution_count": 46,
   "id": "a883c97a",
   "metadata": {
    "execution": {
     "iopub.execute_input": "2024-11-16T18:34:17.208197Z",
     "iopub.status.busy": "2024-11-16T18:34:17.207509Z",
     "iopub.status.idle": "2024-11-16T18:34:17.235839Z",
     "shell.execute_reply": "2024-11-16T18:34:17.235082Z"
    },
    "papermill": {
     "duration": 0.054863,
     "end_time": "2024-11-16T18:34:17.238214",
     "exception": false,
     "start_time": "2024-11-16T18:34:17.183351",
     "status": "completed"
    },
    "tags": []
   },
   "outputs": [],
   "source": [
    "train = train[train['category'] != \"Against Interest of sovereignty or integrity of India\"]"
   ]
  },
  {
   "cell_type": "code",
   "execution_count": 47,
   "id": "c608a7c1",
   "metadata": {
    "execution": {
     "iopub.execute_input": "2024-11-16T18:34:17.287206Z",
     "iopub.status.busy": "2024-11-16T18:34:17.286803Z",
     "iopub.status.idle": "2024-11-16T18:34:17.292261Z",
     "shell.execute_reply": "2024-11-16T18:34:17.291317Z"
    },
    "papermill": {
     "duration": 0.031904,
     "end_time": "2024-11-16T18:34:17.294298",
     "exception": false,
     "start_time": "2024-11-16T18:34:17.262394",
     "status": "completed"
    },
    "tags": []
   },
   "outputs": [],
   "source": [
    "def preprocess_text(text):\n",
    "    # Add spaces around punctuation\n",
    "    text = re.sub(r\"([.,!?;:])\", r\" \\1 \", text)\n",
    "    # Remove any extra whitespace\n",
    "    text = re.sub(r\"\\s{2,}\", \" \", text)\n",
    "    return text.strip()\n",
    "\n",
    "# Apply preprocessing\n",
    "# train[\"crimeaditionalinfo\"] = train[\"crimeaditionalinfo\"].apply(preprocess_text)\n",
    "# test[\"crimeaditionalinfo\"] = test[\"crimeaditionalinfo\"].apply(preprocess_text)"
   ]
  },
  {
   "cell_type": "code",
   "execution_count": 48,
   "id": "de29ca59",
   "metadata": {
    "execution": {
     "iopub.execute_input": "2024-11-16T18:34:17.341409Z",
     "iopub.status.busy": "2024-11-16T18:34:17.340832Z",
     "iopub.status.idle": "2024-11-16T18:34:17.356475Z",
     "shell.execute_reply": "2024-11-16T18:34:17.355585Z"
    },
    "papermill": {
     "duration": 0.041471,
     "end_time": "2024-11-16T18:34:17.358460",
     "exception": false,
     "start_time": "2024-11-16T18:34:17.316989",
     "status": "completed"
    },
    "tags": []
   },
   "outputs": [
    {
     "data": {
      "text/html": [
       "<div>\n",
       "<style scoped>\n",
       "    .dataframe tbody tr th:only-of-type {\n",
       "        vertical-align: middle;\n",
       "    }\n",
       "\n",
       "    .dataframe tbody tr th {\n",
       "        vertical-align: top;\n",
       "    }\n",
       "\n",
       "    .dataframe thead th {\n",
       "        text-align: right;\n",
       "    }\n",
       "</style>\n",
       "<table border=\"1\" class=\"dataframe\">\n",
       "  <thead>\n",
       "    <tr style=\"text-align: right;\">\n",
       "      <th></th>\n",
       "      <th>category</th>\n",
       "      <th>sub_category</th>\n",
       "      <th>crimeaditionalinfo</th>\n",
       "    </tr>\n",
       "  </thead>\n",
       "  <tbody>\n",
       "    <tr>\n",
       "      <th>2762</th>\n",
       "      <td>Crime Against Women &amp; Children</td>\n",
       "      <td>Computer Generated CSAM/CSEM</td>\n",
       "      <td>my friend mentioned something like this happened to them a few months ago, but i thought it was a one-off. then, suddenly, i got this weird notification asking me to update my password, but the message didn’t look like the usual ones i receive from the app. it looked a bit off. looking back, maybe i should have paid more attention to the little details, but now it's too late. my accounts are WEBSITE. the more i tried to fix it, the more problems came up. my bank account was notifiction, and then i got locked out of everything. this has really left me anxious and frustrated, i can’t sleep knowing my information is out there. i’ve even considered deleting all my accounts, but that’s not a solution. even my tablet isn’t working right anymore. it’s so stange how everything just fell apart after that one email.</td>\n",
       "    </tr>\n",
       "    <tr>\n",
       "      <th>9517</th>\n",
       "      <td>Crime Against Women &amp; Children</td>\n",
       "      <td>Computer Generated CSAM/CSEM</td>\n",
       "      <td>the issue actually started when i got this email, which at first glance seemed like spam. i usually ignore such things, but for some reason, i opened it this time. afterward, my phone started freezing, and it wasn’t normal. i thought it was a technical glitch, but now i’m not so sure. honestly, it’s such a mess, and i don’t even know where to start. i’ve contacted support, but they keep giving me the runaround. the more i tried to fix it, the more problems came up. my email was notifiction, and then i got locked out of everything. the worst part is, i don’t even know who to trust anymore. friends, family, everyone’s acting strange. it’s affecting my relationships and my mental health. even my tablet isn’t working right anymore. it’s so stange how everything just fell apart after that one email.</td>\n",
       "    </tr>\n",
       "    <tr>\n",
       "      <th>14779</th>\n",
       "      <td>Crime Against Women &amp; Children</td>\n",
       "      <td>Cyber Blackmailing &amp; Threatening</td>\n",
       "      <td>my friend mentioned something like this happened to them a few months ago, but i thought it was a one-off. then, suddenly, i got this weird notification asking me to update my password, but the message didn’t look like the usual ones i receive from the app. it looked a bit off. looking back, maybe i should have paid more attention to the little details, but now it's too late. my accounts are WEBSITE. the more i tried to fix it, the more problems came up. my social media was hackd, and then i got locked out of everything. this has really left me anxious and frustrated, i can’t sleep knowing my information is out there. i’ve even considered deleting all my accounts, but that’s not a solution. even my tablet isn’t working right anymore. it’s so stange how everything just fell apart after that one email.</td>\n",
       "    </tr>\n",
       "    <tr>\n",
       "      <th>19725</th>\n",
       "      <td>Crime Against Women &amp; Children</td>\n",
       "      <td>Sexual Harassment</td>\n",
       "      <td>i never imagined something like this could happen to me, especially since i'm so cautious. but then i started noticing that my online activity felt different, slower even. i can't even describe it well because everything seemed normal, except for the fact that i was constantly getting logged out of my accounts. it’s hard to explain, but it felt like someone was inside my account, doing things while i wasn’t even online. the more i tried to fix it, the more problems came up. my social media was recived, and then i got locked out of everything. i don’t think i’ve ever felt this violated before. my privacy is WEBSITE shattered, and i can’t do anything to make it stop. even my laptop isn’t working right anymore. it’s so stange how everything just fell apart after that one email.</td>\n",
       "    </tr>\n",
       "  </tbody>\n",
       "</table>\n",
       "</div>"
      ],
      "text/plain": [
       "                             category                      sub_category  \\\n",
       "2762   Crime Against Women & Children      Computer Generated CSAM/CSEM   \n",
       "9517   Crime Against Women & Children      Computer Generated CSAM/CSEM   \n",
       "14779  Crime Against Women & Children  Cyber Blackmailing & Threatening   \n",
       "19725  Crime Against Women & Children                 Sexual Harassment   \n",
       "\n",
       "                                                                                                                                                                                                                                                                                                                                                                                                                                                                                                                                                                                                                                                                                                                                                                                                                                      crimeaditionalinfo  \n",
       "2762   my friend mentioned something like this happened to them a few months ago, but i thought it was a one-off. then, suddenly, i got this weird notification asking me to update my password, but the message didn’t look like the usual ones i receive from the app. it looked a bit off. looking back, maybe i should have paid more attention to the little details, but now it's too late. my accounts are WEBSITE. the more i tried to fix it, the more problems came up. my bank account was notifiction, and then i got locked out of everything. this has really left me anxious and frustrated, i can’t sleep knowing my information is out there. i’ve even considered deleting all my accounts, but that’s not a solution. even my tablet isn’t working right anymore. it’s so stange how everything just fell apart after that one email.  \n",
       "9517               the issue actually started when i got this email, which at first glance seemed like spam. i usually ignore such things, but for some reason, i opened it this time. afterward, my phone started freezing, and it wasn’t normal. i thought it was a technical glitch, but now i’m not so sure. honestly, it’s such a mess, and i don’t even know where to start. i’ve contacted support, but they keep giving me the runaround. the more i tried to fix it, the more problems came up. my email was notifiction, and then i got locked out of everything. the worst part is, i don’t even know who to trust anymore. friends, family, everyone’s acting strange. it’s affecting my relationships and my mental health. even my tablet isn’t working right anymore. it’s so stange how everything just fell apart after that one email.  \n",
       "14779        my friend mentioned something like this happened to them a few months ago, but i thought it was a one-off. then, suddenly, i got this weird notification asking me to update my password, but the message didn’t look like the usual ones i receive from the app. it looked a bit off. looking back, maybe i should have paid more attention to the little details, but now it's too late. my accounts are WEBSITE. the more i tried to fix it, the more problems came up. my social media was hackd, and then i got locked out of everything. this has really left me anxious and frustrated, i can’t sleep knowing my information is out there. i’ve even considered deleting all my accounts, but that’s not a solution. even my tablet isn’t working right anymore. it’s so stange how everything just fell apart after that one email.  \n",
       "19725                                  i never imagined something like this could happen to me, especially since i'm so cautious. but then i started noticing that my online activity felt different, slower even. i can't even describe it well because everything seemed normal, except for the fact that i was constantly getting logged out of my accounts. it’s hard to explain, but it felt like someone was inside my account, doing things while i wasn’t even online. the more i tried to fix it, the more problems came up. my social media was recived, and then i got locked out of everything. i don’t think i’ve ever felt this violated before. my privacy is WEBSITE shattered, and i can’t do anything to make it stop. even my laptop isn’t working right anymore. it’s so stange how everything just fell apart after that one email.  "
      ]
     },
     "execution_count": 48,
     "metadata": {},
     "output_type": "execute_result"
    }
   ],
   "source": [
    "test[test['category'] == \"Crime Against Women & Children\"]"
   ]
  },
  {
   "cell_type": "code",
   "execution_count": 49,
   "id": "60e769b0",
   "metadata": {
    "execution": {
     "iopub.execute_input": "2024-11-16T18:34:17.409034Z",
     "iopub.status.busy": "2024-11-16T18:34:17.408179Z",
     "iopub.status.idle": "2024-11-16T18:34:17.415987Z",
     "shell.execute_reply": "2024-11-16T18:34:17.415283Z"
    },
    "papermill": {
     "duration": 0.035315,
     "end_time": "2024-11-16T18:34:17.417970",
     "exception": false,
     "start_time": "2024-11-16T18:34:17.382655",
     "status": "completed"
    },
    "tags": []
   },
   "outputs": [],
   "source": [
    "rows_to_replace = [2762, 9517, 14779, 19725]\n",
    "\n",
    "test.loc[rows_to_replace, 'category'] = 'Hacking Damage to computer system etc'\n",
    "test.loc[rows_to_replace, 'sub_category'] = 'Email Hacking'"
   ]
  },
  {
   "cell_type": "code",
   "execution_count": 50,
   "id": "8f9c8071",
   "metadata": {
    "execution": {
     "iopub.execute_input": "2024-11-16T18:34:17.467002Z",
     "iopub.status.busy": "2024-11-16T18:34:17.466688Z",
     "iopub.status.idle": "2024-11-16T18:34:17.551382Z",
     "shell.execute_reply": "2024-11-16T18:34:17.550425Z"
    },
    "papermill": {
     "duration": 0.111492,
     "end_time": "2024-11-16T18:34:17.553358",
     "exception": false,
     "start_time": "2024-11-16T18:34:17.441866",
     "status": "completed"
    },
    "tags": []
   },
   "outputs": [
    {
     "data": {
      "text/plain": [
       "(9992, 4192)"
      ]
     },
     "execution_count": 50,
     "metadata": {},
     "output_type": "execute_result"
    }
   ],
   "source": [
    "train_duplicates_in_test = train['crimeaditionalinfo'].isin(test['crimeaditionalinfo']).sum()\n",
    "test_duplicates_in_train = test['crimeaditionalinfo'].isin(train['crimeaditionalinfo']).sum()\n",
    "\n",
    "train_duplicates_in_test, test_duplicates_in_train"
   ]
  },
  {
   "cell_type": "code",
   "execution_count": 51,
   "id": "93232878",
   "metadata": {
    "execution": {
     "iopub.execute_input": "2024-11-16T18:34:17.603724Z",
     "iopub.status.busy": "2024-11-16T18:34:17.602885Z",
     "iopub.status.idle": "2024-11-16T18:34:17.666500Z",
     "shell.execute_reply": "2024-11-16T18:34:17.665585Z"
    },
    "papermill": {
     "duration": 0.090901,
     "end_time": "2024-11-16T18:34:17.668726",
     "exception": false,
     "start_time": "2024-11-16T18:34:17.577825",
     "status": "completed"
    },
    "tags": []
   },
   "outputs": [
    {
     "data": {
      "text/plain": [
       "(1316, 1316)"
      ]
     },
     "execution_count": 51,
     "metadata": {},
     "output_type": "execute_result"
    }
   ],
   "source": [
    "# Checking the unique overlaps by removing duplicates within each dataset\n",
    "train = train.drop_duplicates(subset='crimeaditionalinfo')\n",
    "test = test.drop_duplicates(subset='crimeaditionalinfo')\n",
    "\n",
    "# Counting overlaps by checking each unique set against the other\n",
    "train_in_test_overlap = train['crimeaditionalinfo'].isin(test['crimeaditionalinfo']).sum()\n",
    "test_in_train_overlap = test['crimeaditionalinfo'].isin(train['crimeaditionalinfo']).sum()\n",
    "\n",
    "train_in_test_overlap, test_in_train_overlap"
   ]
  },
  {
   "cell_type": "code",
   "execution_count": 52,
   "id": "1dccc0c5",
   "metadata": {
    "execution": {
     "iopub.execute_input": "2024-11-16T18:34:17.719456Z",
     "iopub.status.busy": "2024-11-16T18:34:17.718750Z",
     "iopub.status.idle": "2024-11-16T18:34:17.744000Z",
     "shell.execute_reply": "2024-11-16T18:34:17.743297Z"
    },
    "papermill": {
     "duration": 0.052401,
     "end_time": "2024-11-16T18:34:17.745967",
     "exception": false,
     "start_time": "2024-11-16T18:34:17.693566",
     "status": "completed"
    },
    "tags": []
   },
   "outputs": [],
   "source": [
    "train = train[~train['crimeaditionalinfo'].isin(test['crimeaditionalinfo'])]"
   ]
  },
  {
   "cell_type": "code",
   "execution_count": 53,
   "id": "8bb0ca19",
   "metadata": {
    "execution": {
     "iopub.execute_input": "2024-11-16T18:34:17.795613Z",
     "iopub.status.busy": "2024-11-16T18:34:17.795235Z",
     "iopub.status.idle": "2024-11-16T18:34:17.801961Z",
     "shell.execute_reply": "2024-11-16T18:34:17.801064Z"
    },
    "papermill": {
     "duration": 0.033549,
     "end_time": "2024-11-16T18:34:17.803937",
     "exception": false,
     "start_time": "2024-11-16T18:34:17.770388",
     "status": "completed"
    },
    "tags": []
   },
   "outputs": [],
   "source": [
    "def check_vocab(c_list, vocabulary, response='default'):\n",
    "    try:\n",
    "        words = set([w for line in c_list for w in line.split()])\n",
    "        u_list = words.difference(set(vocabulary))\n",
    "        k_list = words.difference(u_list)\n",
    "\n",
    "        if response == 'default':\n",
    "            print('Unknown words:', len(u_list), '| Known words:', len(k_list))\n",
    "        elif response == 'unknown_list':\n",
    "            return list(u_list)\n",
    "        elif response == 'known_list':\n",
    "            return list(k_list)\n",
    "    except:\n",
    "        return []"
   ]
  },
  {
   "cell_type": "code",
   "execution_count": 54,
   "id": "2dd0044a",
   "metadata": {
    "execution": {
     "iopub.execute_input": "2024-11-16T18:34:17.865102Z",
     "iopub.status.busy": "2024-11-16T18:34:17.864293Z",
     "iopub.status.idle": "2024-11-16T18:34:29.112581Z",
     "shell.execute_reply": "2024-11-16T18:34:29.111539Z"
    },
    "papermill": {
     "duration": 11.277958,
     "end_time": "2024-11-16T18:34:29.114776",
     "exception": false,
     "start_time": "2024-11-16T18:34:17.836818",
     "status": "completed"
    },
    "tags": []
   },
   "outputs": [
    {
     "name": "stdout",
     "output_type": "stream",
     "text": [
      "Processing complete!\n",
      "Processing complete!\n"
     ]
    }
   ],
   "source": [
    "def process_text(df, contractions_dict, verbose=True):\n",
    "    # Step 1: Add spaces before punctuation\n",
    "    def space_punctuations(text):\n",
    "        return ''.join([' ' + char if not char.isalnum() and char != ' ' else char for char in text])\n",
    "\n",
    "    # Step 2: Handle contractions\n",
    "    def expand_contractions(text, contractions):\n",
    "        return ' '.join([contractions.get(word, word) for word in text.split()])\n",
    "\n",
    "    # Step 3: Handle multiple forms (convert plural to singular if singular exists)\n",
    "    def handle_multiple_forms(text, local_vocab):\n",
    "        words = text.split()\n",
    "        return ' '.join([word[:-1] if word.endswith('s') and word[:-1] in local_vocab else word for word in words])\n",
    "\n",
    "    # Load your vocabulary (this can be dynamic or predefined)\n",
    "    local_vocab = set(word for text in df['crimeaditionalinfo'] for word in text.split())\n",
    "\n",
    "    # Apply transformations\n",
    "    df['crimeaditionalinfo'] = df['crimeaditionalinfo'].fillna('')  # Ensure no NaN values\n",
    "    df['crimeaditionalinfo'] = df['crimeaditionalinfo'].apply(space_punctuations)\n",
    "    df['crimeaditionalinfo'] = df['crimeaditionalinfo'].apply(lambda x: expand_contractions(x, contractions_dict))\n",
    "    df['crimeaditionalinfo'] = df['crimeaditionalinfo'].str.replace(\"'\", \"\", regex=False)\n",
    "    df['crimeaditionalinfo'] = df['crimeaditionalinfo'].apply(lambda x: handle_multiple_forms(x, local_vocab))\n",
    "\n",
    "    if verbose:\n",
    "        print(\"Processing complete!\")\n",
    "    return df\n",
    "\n",
    "# Example contractions dictionary\n",
    "contractions_dict = {\n",
    "    \"ain't\": \"is not\",\n",
    "    \"aren't\": \"are not\",\n",
    "    \"can't\": \"cannot\",\n",
    "    \"couldn't\": \"could not\",\n",
    "    \"didn't\": \"did not\",\n",
    "    \"doesn't\": \"does not\",\n",
    "    \"don't\": \"do not\",\n",
    "    \"hadn't\": \"had not\",\n",
    "    \"hasn't\": \"has not\",\n",
    "    \"haven't\": \"have not\",\n",
    "    \"he'd\": \"he would\",\n",
    "    \"he'll\": \"he will\",\n",
    "    \"he's\": \"he is\",\n",
    "    \"I'd\": \"I would\",\n",
    "    \"I'll\": \"I will\",\n",
    "    \"I'm\": \"I am\",\n",
    "    \"I've\": \"I have\",\n",
    "    \"isn't\": \"is not\",\n",
    "    \"it'd\": \"it would\",\n",
    "    \"it'll\": \"it will\",\n",
    "    \"it's\": \"it is\",\n",
    "    \"let's\": \"let us\",\n",
    "    \"ma'am\": \"madam\",\n",
    "    \"mightn't\": \"might not\",\n",
    "    \"might've\": \"might have\",\n",
    "    \"mustn't\": \"must not\",\n",
    "    \"must've\": \"must have\",\n",
    "    \"needn't\": \"need not\",\n",
    "    \"o'clock\": \"of the clock\",\n",
    "    \"shan't\": \"shall not\",\n",
    "    \"she'd\": \"she would\",\n",
    "    \"she'll\": \"she will\",\n",
    "    \"she's\": \"she is\",\n",
    "    \"shouldn't\": \"should not\",\n",
    "    \"that'd\": \"that would\",\n",
    "    \"that's\": \"that is\",\n",
    "    \"there'd\": \"there would\",\n",
    "    \"there's\": \"there is\",\n",
    "    \"they'd\": \"they would\",\n",
    "    \"they'll\": \"they will\",\n",
    "    \"they're\": \"they are\",\n",
    "    \"they've\": \"they have\",\n",
    "    \"we'd\": \"we would\",\n",
    "    \"we'll\": \"we will\",\n",
    "    \"we're\": \"we are\",\n",
    "    \"we've\": \"we have\",\n",
    "    \"weren't\": \"were not\",\n",
    "    \"what'll\": \"what will\",\n",
    "    \"what're\": \"what are\",\n",
    "    \"what's\": \"what is\",\n",
    "    \"what've\": \"what have\",\n",
    "    \"where's\": \"where is\",\n",
    "    \"who'd\": \"who would\",\n",
    "    \"who'll\": \"who will\",\n",
    "    \"who's\": \"who is\",\n",
    "    \"why's\": \"why is\",\n",
    "    \"won't\": \"will not\",\n",
    "    \"wouldn't\": \"would not\",\n",
    "    \"you'd\": \"you would\",\n",
    "    \"you'll\": \"you will\",\n",
    "    \"you're\": \"you are\",\n",
    "    \"you've\": \"you have\",\n",
    "    \"'cause\": \"because\",\n",
    "    \"could've\": \"could have\",\n",
    "    \"should've\": \"should have\",\n",
    "    \"would've\": \"would have\",\n",
    "    \"how'd\": \"how did\",\n",
    "    \"how'll\": \"how will\",\n",
    "    \"how's\": \"how is\",\n",
    "    \"it'd've\": \"it would have\",\n",
    "    \"he'd've\": \"he would have\",\n",
    "    \"she'd've\": \"she would have\",\n",
    "    \"we'd've\": \"we would have\",\n",
    "    \"they'd've\": \"they would have\",\n",
    "    \"you'd've\": \"you would have\",\n",
    "    \"let's\": \"let us\",\n",
    "    \"y'all\": \"you all\",\n",
    "    \"y'alls\": \"you alls\",\n",
    "    \"dunno\": \"do not know\",\n",
    "    \"gimme\": \"give me\",\n",
    "    \"gonna\": \"going to\",\n",
    "    \"gotta\": \"got to\",\n",
    "    \"wanna\": \"want to\",\n",
    "    \"lemme\": \"let me\",\n",
    "    \"outta\": \"out of\",\n",
    "    \"kinda\": \"kind of\",\n",
    "    \"sorta\": \"sort of\"\n",
    "}\n",
    "\n",
    "# Example usage\n",
    "train = process_text(train, contractions_dict)\n",
    "test = process_text(test, contractions_dict)"
   ]
  },
  {
   "cell_type": "code",
   "execution_count": 55,
   "id": "81ceca79",
   "metadata": {
    "execution": {
     "iopub.execute_input": "2024-11-16T18:34:29.165018Z",
     "iopub.status.busy": "2024-11-16T18:34:29.164709Z",
     "iopub.status.idle": "2024-11-16T18:34:30.076388Z",
     "shell.execute_reply": "2024-11-16T18:34:30.075401Z"
    },
    "papermill": {
     "duration": 0.93883,
     "end_time": "2024-11-16T18:34:30.078512",
     "exception": false,
     "start_time": "2024-11-16T18:34:29.139682",
     "status": "completed"
    },
    "tags": []
   },
   "outputs": [
    {
     "data": {
      "text/plain": [
       "98887"
      ]
     },
     "execution_count": 55,
     "metadata": {},
     "output_type": "execute_result"
    }
   ],
   "source": [
    "len(set(word for text in train['crimeaditionalinfo'] for word in text.split()))"
   ]
  },
  {
   "cell_type": "code",
   "execution_count": 56,
   "id": "c15ef549",
   "metadata": {
    "execution": {
     "iopub.execute_input": "2024-11-16T18:34:30.128609Z",
     "iopub.status.busy": "2024-11-16T18:34:30.128243Z",
     "iopub.status.idle": "2024-11-16T18:34:30.163690Z",
     "shell.execute_reply": "2024-11-16T18:34:30.162618Z"
    },
    "papermill": {
     "duration": 0.062697,
     "end_time": "2024-11-16T18:34:30.165765",
     "exception": false,
     "start_time": "2024-11-16T18:34:30.103068",
     "status": "completed"
    },
    "tags": []
   },
   "outputs": [
    {
     "name": "stdout",
     "output_type": "stream",
     "text": [
      "<class 'pandas.core.frame.DataFrame'>\n",
      "Index: 76837 entries, 0 to 93685\n",
      "Data columns (total 3 columns):\n",
      " #   Column              Non-Null Count  Dtype \n",
      "---  ------              --------------  ----- \n",
      " 0   category            76837 non-null  object\n",
      " 1   sub_category        76837 non-null  object\n",
      " 2   crimeaditionalinfo  76837 non-null  object\n",
      "dtypes: object(3)\n",
      "memory usage: 2.3+ MB\n"
     ]
    }
   ],
   "source": [
    "train.info()"
   ]
  },
  {
   "cell_type": "code",
   "execution_count": 57,
   "id": "ac4fd73c",
   "metadata": {
    "execution": {
     "iopub.execute_input": "2024-11-16T18:34:30.216259Z",
     "iopub.status.busy": "2024-11-16T18:34:30.215850Z",
     "iopub.status.idle": "2024-11-16T18:34:31.795761Z",
     "shell.execute_reply": "2024-11-16T18:34:31.794858Z"
    },
    "papermill": {
     "duration": 1.607462,
     "end_time": "2024-11-16T18:34:31.797676",
     "exception": false,
     "start_time": "2024-11-16T18:34:30.190214",
     "status": "completed"
    },
    "tags": []
   },
   "outputs": [
    {
     "name": "stderr",
     "output_type": "stream",
     "text": [
      "\u001b[34m\u001b[1mwandb\u001b[0m: Using wandb-core as the SDK backend. Please refer to https://wandb.me/wandb-core for more information.\n",
      "\u001b[34m\u001b[1mwandb\u001b[0m: W&B API key is configured. Use \u001b[1m`wandb login --relogin`\u001b[0m to force relogin\n",
      "\u001b[34m\u001b[1mwandb\u001b[0m: \u001b[33mWARNING\u001b[0m If you're specifying your api key in code, ensure this code is not shared publicly.\n",
      "\u001b[34m\u001b[1mwandb\u001b[0m: \u001b[33mWARNING\u001b[0m Consider setting the WANDB_API_KEY environment variable, or running `wandb login` from the command line.\n",
      "\u001b[34m\u001b[1mwandb\u001b[0m: Appending key for api.wandb.ai to your netrc file: /root/.netrc\n"
     ]
    },
    {
     "data": {
      "text/plain": [
       "True"
      ]
     },
     "execution_count": 57,
     "metadata": {},
     "output_type": "execute_result"
    }
   ],
   "source": [
    "import wandb\n",
    "wandb.login(key=\"fb2d459e0c79a2cb4494c886db4b759d222d1261\")  # Use the correct string format"
   ]
  },
  {
   "cell_type": "code",
   "execution_count": 58,
   "id": "3b2f6ef4",
   "metadata": {
    "execution": {
     "iopub.execute_input": "2024-11-16T18:34:31.850124Z",
     "iopub.status.busy": "2024-11-16T18:34:31.849553Z",
     "iopub.status.idle": "2024-11-16T22:56:45.041651Z",
     "shell.execute_reply": "2024-11-16T22:56:45.040691Z"
    },
    "papermill": {
     "duration": 15733.220356,
     "end_time": "2024-11-16T22:56:45.043856",
     "exception": false,
     "start_time": "2024-11-16T18:34:31.823500",
     "status": "completed"
    },
    "tags": []
   },
   "outputs": [
    {
     "name": "stdout",
     "output_type": "stream",
     "text": [
      "Using device: cuda\n"
     ]
    },
    {
     "data": {
      "application/vnd.jupyter.widget-view+json": {
       "model_id": "38fc2200968b42ac813feb5186d1df02",
       "version_major": 2,
       "version_minor": 0
      },
      "text/plain": [
       "config.json:   0%|          | 0.00/507 [00:00<?, ?B/s]"
      ]
     },
     "metadata": {},
     "output_type": "display_data"
    },
    {
     "data": {
      "application/vnd.jupyter.widget-view+json": {
       "model_id": "a68f13b25dd94122941555b9a14987f4",
       "version_major": 2,
       "version_minor": 0
      },
      "text/plain": [
       "spiece.model:   0%|          | 0.00/5.65M [00:00<?, ?B/s]"
      ]
     },
     "metadata": {},
     "output_type": "display_data"
    },
    {
     "name": "stderr",
     "output_type": "stream",
     "text": [
      "/opt/conda/lib/python3.10/site-packages/transformers/tokenization_utils_base.py:1617: FutureWarning: `clean_up_tokenization_spaces` was not set. It will be set to `True` by default. This behavior will be deprecated in transformers v4.45, and will be then set to `False` by default. For more details check this issue: https://github.com/huggingface/transformers/issues/31884\n",
      "  warnings.warn(\n"
     ]
    },
    {
     "data": {
      "application/vnd.jupyter.widget-view+json": {
       "model_id": "d862262d1fff423ea9cb0b1249bbf746",
       "version_major": 2,
       "version_minor": 0
      },
      "text/plain": [
       "pytorch_model.bin:   0%|          | 0.00/135M [00:00<?, ?B/s]"
      ]
     },
     "metadata": {},
     "output_type": "display_data"
    },
    {
     "name": "stderr",
     "output_type": "stream",
     "text": [
      "Some weights of AlbertForSequenceClassification were not initialized from the model checkpoint at ai4bharat/indic-bert and are newly initialized: ['classifier.bias', 'classifier.weight']\n",
      "You should probably TRAIN this model on a down-stream task to be able to use it for predictions and inference.\n"
     ]
    },
    {
     "data": {
      "application/vnd.jupyter.widget-view+json": {
       "model_id": "99c3f88c5fab42e6a1f50ef08105d8fc",
       "version_major": 2,
       "version_minor": 0
      },
      "text/plain": [
       "Map:   0%|          | 0/69153 [00:00<?, ? examples/s]"
      ]
     },
     "metadata": {},
     "output_type": "display_data"
    },
    {
     "data": {
      "application/vnd.jupyter.widget-view+json": {
       "model_id": "0241b537908f462788c8ac47947f8b9e",
       "version_major": 2,
       "version_minor": 0
      },
      "text/plain": [
       "Map:   0%|          | 0/7684 [00:00<?, ? examples/s]"
      ]
     },
     "metadata": {},
     "output_type": "display_data"
    },
    {
     "data": {
      "application/vnd.jupyter.widget-view+json": {
       "model_id": "57d2814e2473496aa0b6aae89f01ade2",
       "version_major": 2,
       "version_minor": 0
      },
      "text/plain": [
       "Map:   0%|          | 0/27065 [00:00<?, ? examples/s]"
      ]
     },
     "metadata": {},
     "output_type": "display_data"
    },
    {
     "data": {
      "application/vnd.jupyter.widget-view+json": {
       "model_id": "4ed6acd7379c4c59aa7408be99abdfaa",
       "version_major": 2,
       "version_minor": 0
      },
      "text/plain": [
       "Map:   0%|          | 0/69153 [00:00<?, ? examples/s]"
      ]
     },
     "metadata": {},
     "output_type": "display_data"
    },
    {
     "data": {
      "application/vnd.jupyter.widget-view+json": {
       "model_id": "b65a0b573276405e8c5251ed3b1ca056",
       "version_major": 2,
       "version_minor": 0
      },
      "text/plain": [
       "Map:   0%|          | 0/7684 [00:00<?, ? examples/s]"
      ]
     },
     "metadata": {},
     "output_type": "display_data"
    },
    {
     "data": {
      "application/vnd.jupyter.widget-view+json": {
       "model_id": "33c4f4afe9994c0b9a31075e1d6e4445",
       "version_major": 2,
       "version_minor": 0
      },
      "text/plain": [
       "Map:   0%|          | 0/27065 [00:00<?, ? examples/s]"
      ]
     },
     "metadata": {},
     "output_type": "display_data"
    },
    {
     "name": "stderr",
     "output_type": "stream",
     "text": [
      "/opt/conda/lib/python3.10/site-packages/transformers/training_args.py:1545: FutureWarning: `evaluation_strategy` is deprecated and will be removed in version 4.46 of 🤗 Transformers. Use `eval_strategy` instead\n",
      "  warnings.warn(\n",
      "\u001b[34m\u001b[1mwandb\u001b[0m: \u001b[33mWARNING\u001b[0m The `run_name` is currently set to the same value as `TrainingArguments.output_dir`. If this was not intended, please specify a different run name by setting the `TrainingArguments.run_name` parameter.\n",
      "\u001b[34m\u001b[1mwandb\u001b[0m: Currently logged in as: \u001b[33msatvshr\u001b[0m (\u001b[33msatvshr-amrita-vishwa-vidyapeetham\u001b[0m). Use \u001b[1m`wandb login --relogin`\u001b[0m to force relogin\n",
      "\u001b[34m\u001b[1mwandb\u001b[0m: Tracking run with wandb version 0.18.3\n",
      "\u001b[34m\u001b[1mwandb\u001b[0m: Run data is saved locally in \u001b[35m\u001b[1m/kaggle/working/wandb/run-20241116_183523-kl0jsuz0\u001b[0m\n",
      "\u001b[34m\u001b[1mwandb\u001b[0m: Run \u001b[1m`wandb offline`\u001b[0m to turn off syncing.\n",
      "\u001b[34m\u001b[1mwandb\u001b[0m: Syncing run \u001b[33m./results\u001b[0m\n",
      "\u001b[34m\u001b[1mwandb\u001b[0m: ⭐️ View project at \u001b[34m\u001b[4mhttps://wandb.ai/satvshr-amrita-vishwa-vidyapeetham/huggingface\u001b[0m\n",
      "\u001b[34m\u001b[1mwandb\u001b[0m: 🚀 View run at \u001b[34m\u001b[4mhttps://wandb.ai/satvshr-amrita-vishwa-vidyapeetham/huggingface/runs/kl0jsuz0\u001b[0m\n"
     ]
    },
    {
     "data": {
      "text/html": [
       "\n",
       "    <div>\n",
       "      \n",
       "      <progress value='38907' max='86460' style='width:300px; height:20px; vertical-align: middle;'></progress>\n",
       "      [38907/86460 4:17:53 < 5:15:13, 2.51 it/s, Epoch 9/20]\n",
       "    </div>\n",
       "    <table border=\"1\" class=\"dataframe\">\n",
       "  <thead>\n",
       " <tr style=\"text-align: left;\">\n",
       "      <th>Epoch</th>\n",
       "      <th>Training Loss</th>\n",
       "      <th>Validation Loss</th>\n",
       "      <th>Accuracy</th>\n",
       "      <th>F1</th>\n",
       "      <th>Precision</th>\n",
       "      <th>Recall</th>\n",
       "    </tr>\n",
       "  </thead>\n",
       "  <tbody>\n",
       "    <tr>\n",
       "      <td>1</td>\n",
       "      <td>1.738400</td>\n",
       "      <td>1.725196</td>\n",
       "      <td>0.477225</td>\n",
       "      <td>0.422184</td>\n",
       "      <td>0.426649</td>\n",
       "      <td>0.477225</td>\n",
       "    </tr>\n",
       "    <tr>\n",
       "      <td>2</td>\n",
       "      <td>1.622600</td>\n",
       "      <td>1.643472</td>\n",
       "      <td>0.489328</td>\n",
       "      <td>0.442972</td>\n",
       "      <td>0.458946</td>\n",
       "      <td>0.489328</td>\n",
       "    </tr>\n",
       "    <tr>\n",
       "      <td>3</td>\n",
       "      <td>1.517400</td>\n",
       "      <td>1.596624</td>\n",
       "      <td>0.499219</td>\n",
       "      <td>0.456734</td>\n",
       "      <td>0.465200</td>\n",
       "      <td>0.499219</td>\n",
       "    </tr>\n",
       "    <tr>\n",
       "      <td>4</td>\n",
       "      <td>1.417800</td>\n",
       "      <td>1.608603</td>\n",
       "      <td>0.501301</td>\n",
       "      <td>0.465156</td>\n",
       "      <td>0.476001</td>\n",
       "      <td>0.501301</td>\n",
       "    </tr>\n",
       "    <tr>\n",
       "      <td>5</td>\n",
       "      <td>1.324000</td>\n",
       "      <td>1.649830</td>\n",
       "      <td>0.505466</td>\n",
       "      <td>0.473008</td>\n",
       "      <td>0.478353</td>\n",
       "      <td>0.505466</td>\n",
       "    </tr>\n",
       "    <tr>\n",
       "      <td>6</td>\n",
       "      <td>1.158900</td>\n",
       "      <td>1.753426</td>\n",
       "      <td>0.493233</td>\n",
       "      <td>0.474003</td>\n",
       "      <td>0.470973</td>\n",
       "      <td>0.493233</td>\n",
       "    </tr>\n",
       "    <tr>\n",
       "      <td>7</td>\n",
       "      <td>0.979000</td>\n",
       "      <td>1.943051</td>\n",
       "      <td>0.481650</td>\n",
       "      <td>0.462679</td>\n",
       "      <td>0.458673</td>\n",
       "      <td>0.481650</td>\n",
       "    </tr>\n",
       "    <tr>\n",
       "      <td>8</td>\n",
       "      <td>0.801400</td>\n",
       "      <td>2.158127</td>\n",
       "      <td>0.462650</td>\n",
       "      <td>0.451753</td>\n",
       "      <td>0.454295</td>\n",
       "      <td>0.462650</td>\n",
       "    </tr>\n",
       "    <tr>\n",
       "      <td>9</td>\n",
       "      <td>0.648400</td>\n",
       "      <td>2.435410</td>\n",
       "      <td>0.458485</td>\n",
       "      <td>0.448868</td>\n",
       "      <td>0.447916</td>\n",
       "      <td>0.458485</td>\n",
       "    </tr>\n",
       "  </tbody>\n",
       "</table><p>"
      ],
      "text/plain": [
       "<IPython.core.display.HTML object>"
      ]
     },
     "metadata": {},
     "output_type": "display_data"
    },
    {
     "name": "stdout",
     "output_type": "stream",
     "text": [
      "Evaluating on the test set...\n"
     ]
    },
    {
     "data": {
      "text/html": [
       "\n",
       "    <div>\n",
       "      \n",
       "      <progress value='1692' max='1692' style='width:300px; height:20px; vertical-align: middle;'></progress>\n",
       "      [1692/1692 03:21]\n",
       "    </div>\n",
       "    "
      ],
      "text/plain": [
       "<IPython.core.display.HTML object>"
      ]
     },
     "metadata": {},
     "output_type": "display_data"
    },
    {
     "name": "stdout",
     "output_type": "stream",
     "text": [
      "{'eval_loss': 1.7148284912109375, 'eval_accuracy': 0.4990208756696841, 'eval_f1': 0.480511540132188, 'eval_precision': 0.4754641815297998, 'eval_recall': 0.4990208756696841, 'eval_runtime': 201.4627, 'eval_samples_per_second': 134.343, 'eval_steps_per_second': 8.399, 'epoch': 9.0}\n"
     ]
    },
    {
     "data": {
      "text/plain": [
       "('./indic-bert-classification/tokenizer_config.json',\n",
       " './indic-bert-classification/special_tokens_map.json',\n",
       " './indic-bert-classification/spiece.model',\n",
       " './indic-bert-classification/added_tokens.json',\n",
       " './indic-bert-classification/tokenizer.json')"
      ]
     },
     "execution_count": 58,
     "metadata": {},
     "output_type": "execute_result"
    }
   ],
   "source": [
    "# Import necessary libraries\n",
    "from transformers import (\n",
    "    AutoModelForSequenceClassification,\n",
    "    AutoTokenizer,\n",
    "    Trainer,\n",
    "    TrainingArguments,\n",
    "    DataCollatorWithPadding,\n",
    "    EarlyStoppingCallback\n",
    ")\n",
    "from datasets import Dataset\n",
    "import torch\n",
    "import pandas as pd\n",
    "import numpy as np\n",
    "from sklearn.model_selection import train_test_split\n",
    "from sklearn.metrics import accuracy_score, precision_recall_fscore_support\n",
    "\n",
    "# Check if CUDA is available and set device\n",
    "device = torch.device(\"cuda\" if torch.cuda.is_available() else \"cpu\")\n",
    "print(\"Using device:\", device)\n",
    "\n",
    "# Split the train data into training and validation sets\n",
    "train_df, val_df = train_test_split(train, test_size=0.1, random_state=42)\n",
    "\n",
    "# Convert DataFrames to Datasets\n",
    "train_dataset = Dataset.from_pandas(train_df.reset_index(drop=True))\n",
    "val_dataset = Dataset.from_pandas(val_df.reset_index(drop=True))\n",
    "test_dataset = Dataset.from_pandas(test.reset_index(drop=True))\n",
    "\n",
    "# Load IndicBERT tokenizer and model\n",
    "model_name = \"ai4bharat/indic-bert\"\n",
    "tokenizer = AutoTokenizer.from_pretrained(model_name)\n",
    "model = AutoModelForSequenceClassification.from_pretrained(\n",
    "    model_name,\n",
    "    num_labels=len(train['sub_category'].unique())\n",
    ")\n",
    "model.to(device)  # Move model to GPU if available\n",
    "\n",
    "# Convert label column to numeric IDs\n",
    "label_list = train['sub_category'].unique().tolist()\n",
    "label_to_id = {label: i for i, label in enumerate(label_list)}\n",
    "id_to_label = {i: label for label, i in label_to_id.items()}\n",
    "\n",
    "def encode_labels(example):\n",
    "    example['labels'] = label_to_id[example['sub_category']]\n",
    "    return example\n",
    "\n",
    "train_dataset = train_dataset.map(encode_labels)\n",
    "val_dataset = val_dataset.map(encode_labels)\n",
    "test_dataset = test_dataset.map(encode_labels)\n",
    "\n",
    "# Determine the maximum sequence length\n",
    "max_length = tokenizer.model_max_length\n",
    "if max_length > 1e5:  # If model_max_length is not set properly\n",
    "    max_length = 512  # Set it to 512 manually\n",
    "\n",
    "# Tokenize the datasets with max_length set\n",
    "def tokenize_function(examples):\n",
    "    return tokenizer(\n",
    "        examples[\"crimeaditionalinfo\"],\n",
    "        truncation=True,\n",
    "        max_length=max_length,\n",
    "    )\n",
    "\n",
    "train_dataset = train_dataset.map(tokenize_function, batched=True)\n",
    "val_dataset = val_dataset.map(tokenize_function, batched=True)\n",
    "test_dataset = test_dataset.map(tokenize_function, batched=True)\n",
    "\n",
    "# Set format for PyTorch tensors\n",
    "train_dataset.set_format(\"torch\", columns=[\"input_ids\", \"attention_mask\", \"labels\"])\n",
    "val_dataset.set_format(\"torch\", columns=[\"input_ids\", \"attention_mask\", \"labels\"])\n",
    "test_dataset.set_format(\"torch\", columns=[\"input_ids\", \"attention_mask\", \"labels\"])\n",
    "\n",
    "# Define the data collator for dynamic padding\n",
    "data_collator = DataCollatorWithPadding(tokenizer=tokenizer)\n",
    "\n",
    "# Define the compute_metrics function\n",
    "def compute_metrics(eval_pred):\n",
    "    logits, labels = eval_pred\n",
    "    predictions = np.argmax(logits, axis=-1)\n",
    "    precision, recall, f1, _ = precision_recall_fscore_support(\n",
    "        labels, predictions, average='weighted', zero_division=0)\n",
    "    acc = accuracy_score(labels, predictions)\n",
    "    return {\n",
    "        'accuracy': acc,\n",
    "        'f1': f1,\n",
    "        'precision': precision,\n",
    "        'recall': recall\n",
    "    }\n",
    "\n",
    "# Set up training arguments\n",
    "training_args = TrainingArguments(\n",
    "    output_dir=\"./results\",\n",
    "    evaluation_strategy=\"epoch\",\n",
    "    save_strategy=\"epoch\",\n",
    "    learning_rate=2e-5,\n",
    "    per_device_train_batch_size=16,\n",
    "    per_device_eval_batch_size=16,\n",
    "    num_train_epochs=20,  # Adjusted based on validation performance\n",
    "    weight_decay=0.01,\n",
    "    logging_dir=\"./logs\",\n",
    "    save_total_limit=2,\n",
    "    load_best_model_at_end=True,\n",
    "    metric_for_best_model=\"f1\",\n",
    "    greater_is_better=True,\n",
    "    no_cuda=not torch.cuda.is_available(),  # Use GPU if available\n",
    ")\n",
    "\n",
    "# Initialize the Trainer\n",
    "trainer = Trainer(\n",
    "    model=model,\n",
    "    args=training_args,\n",
    "    train_dataset=train_dataset,\n",
    "    eval_dataset=val_dataset,  # Use the validation dataset here\n",
    "    tokenizer=tokenizer,\n",
    "    data_collator=data_collator,\n",
    "    compute_metrics=compute_metrics,\n",
    "    # Uncomment the next line to enable early stopping\n",
    "    callbacks=[EarlyStoppingCallback(early_stopping_patience=3)],\n",
    ")\n",
    "\n",
    "# Train the model\n",
    "trainer.train()\n",
    "\n",
    "# Evaluate the model on the test set\n",
    "print(\"Evaluating on the test set...\")\n",
    "test_results = trainer.evaluate(test_dataset)\n",
    "print(test_results)\n",
    "\n",
    "# Save the fine-tuned model and tokenizer\n",
    "model.save_pretrained(\"./indic-bert-classification\")\n",
    "tokenizer.save_pretrained(\"./indic-bert-classification\")"
   ]
  }
 ],
 "metadata": {
  "kaggle": {
   "accelerator": "none",
   "dataSources": [
    {
     "datasetId": 5986252,
     "sourceId": 9772847,
     "sourceType": "datasetVersion"
    }
   ],
   "dockerImageVersionId": 30786,
   "isGpuEnabled": false,
   "isInternetEnabled": true,
   "language": "python",
   "sourceType": "notebook"
  },
  "kernelspec": {
   "display_name": "Python 3",
   "language": "python",
   "name": "python3"
  },
  "language_info": {
   "codemirror_mode": {
    "name": "ipython",
    "version": 3
   },
   "file_extension": ".py",
   "mimetype": "text/x-python",
   "name": "python",
   "nbconvert_exporter": "python",
   "pygments_lexer": "ipython3",
   "version": "3.10.14"
  },
  "papermill": {
   "default_parameters": {},
   "duration": 15807.066037,
   "end_time": "2024-11-16T22:56:47.797379",
   "environment_variables": {},
   "exception": null,
   "input_path": "__notebook__.ipynb",
   "output_path": "__notebook__.ipynb",
   "parameters": {},
   "start_time": "2024-11-16T18:33:20.731342",
   "version": "2.6.0"
  },
  "widgets": {
   "application/vnd.jupyter.widget-state+json": {
    "state": {
     "0206ceb151774bae8bc76310ec7308aa": {
      "model_module": "@jupyter-widgets/controls",
      "model_module_version": "1.5.0",
      "model_name": "HTMLModel",
      "state": {
       "_dom_classes": [],
       "_model_module": "@jupyter-widgets/controls",
       "_model_module_version": "1.5.0",
       "_model_name": "HTMLModel",
       "_view_count": null,
       "_view_module": "@jupyter-widgets/controls",
       "_view_module_version": "1.5.0",
       "_view_name": "HTMLView",
       "description": "",
       "description_tooltip": null,
       "layout": "IPY_MODEL_1d62b3b97a794ced88f00f99b9cbf54c",
       "placeholder": "​",
       "style": "IPY_MODEL_b24787e4315f4f7aa35872f334e0d5ab",
       "value": " 27065/27065 [00:01&lt;00:00, 15208.86 examples/s]"
      }
     },
     "0241b537908f462788c8ac47947f8b9e": {
      "model_module": "@jupyter-widgets/controls",
      "model_module_version": "1.5.0",
      "model_name": "HBoxModel",
      "state": {
       "_dom_classes": [],
       "_model_module": "@jupyter-widgets/controls",
       "_model_module_version": "1.5.0",
       "_model_name": "HBoxModel",
       "_view_count": null,
       "_view_module": "@jupyter-widgets/controls",
       "_view_module_version": "1.5.0",
       "_view_name": "HBoxView",
       "box_style": "",
       "children": [
        "IPY_MODEL_642133d847f945ab856b75a292f634ef",
        "IPY_MODEL_0af9a6060f164263bef6efe54489d01c",
        "IPY_MODEL_0e5ee42b292a432f8fc70336d9a5a965"
       ],
       "layout": "IPY_MODEL_351cbffb35cb49fc9d7e23dc2207d31b"
      }
     },
     "0291c456d89c46b3ba0239455b241d72": {
      "model_module": "@jupyter-widgets/base",
      "model_module_version": "1.2.0",
      "model_name": "LayoutModel",
      "state": {
       "_model_module": "@jupyter-widgets/base",
       "_model_module_version": "1.2.0",
       "_model_name": "LayoutModel",
       "_view_count": null,
       "_view_module": "@jupyter-widgets/base",
       "_view_module_version": "1.2.0",
       "_view_name": "LayoutView",
       "align_content": null,
       "align_items": null,
       "align_self": null,
       "border": null,
       "bottom": null,
       "display": null,
       "flex": null,
       "flex_flow": null,
       "grid_area": null,
       "grid_auto_columns": null,
       "grid_auto_flow": null,
       "grid_auto_rows": null,
       "grid_column": null,
       "grid_gap": null,
       "grid_row": null,
       "grid_template_areas": null,
       "grid_template_columns": null,
       "grid_template_rows": null,
       "height": null,
       "justify_content": null,
       "justify_items": null,
       "left": null,
       "margin": null,
       "max_height": null,
       "max_width": null,
       "min_height": null,
       "min_width": null,
       "object_fit": null,
       "object_position": null,
       "order": null,
       "overflow": null,
       "overflow_x": null,
       "overflow_y": null,
       "padding": null,
       "right": null,
       "top": null,
       "visibility": null,
       "width": null
      }
     },
     "0778bb33ac31449f9c9749f87acdc440": {
      "model_module": "@jupyter-widgets/controls",
      "model_module_version": "1.5.0",
      "model_name": "HTMLModel",
      "state": {
       "_dom_classes": [],
       "_model_module": "@jupyter-widgets/controls",
       "_model_module_version": "1.5.0",
       "_model_name": "HTMLModel",
       "_view_count": null,
       "_view_module": "@jupyter-widgets/controls",
       "_view_module_version": "1.5.0",
       "_view_name": "HTMLView",
       "description": "",
       "description_tooltip": null,
       "layout": "IPY_MODEL_a4feaccc06d3408eb09c33824e7bd309",
       "placeholder": "​",
       "style": "IPY_MODEL_835c3004635a4995840a53a394e25a21",
       "value": "Map: 100%"
      }
     },
     "0af9a6060f164263bef6efe54489d01c": {
      "model_module": "@jupyter-widgets/controls",
      "model_module_version": "1.5.0",
      "model_name": "FloatProgressModel",
      "state": {
       "_dom_classes": [],
       "_model_module": "@jupyter-widgets/controls",
       "_model_module_version": "1.5.0",
       "_model_name": "FloatProgressModel",
       "_view_count": null,
       "_view_module": "@jupyter-widgets/controls",
       "_view_module_version": "1.5.0",
       "_view_name": "ProgressView",
       "bar_style": "success",
       "description": "",
       "description_tooltip": null,
       "layout": "IPY_MODEL_7534ae7379a444e190a739a6dd60ae4d",
       "max": 7684.0,
       "min": 0.0,
       "orientation": "horizontal",
       "style": "IPY_MODEL_3792f10e22a34d8fbea1620c2c503d49",
       "value": 7684.0
      }
     },
     "0e5ee42b292a432f8fc70336d9a5a965": {
      "model_module": "@jupyter-widgets/controls",
      "model_module_version": "1.5.0",
      "model_name": "HTMLModel",
      "state": {
       "_dom_classes": [],
       "_model_module": "@jupyter-widgets/controls",
       "_model_module_version": "1.5.0",
       "_model_name": "HTMLModel",
       "_view_count": null,
       "_view_module": "@jupyter-widgets/controls",
       "_view_module_version": "1.5.0",
       "_view_name": "HTMLView",
       "description": "",
       "description_tooltip": null,
       "layout": "IPY_MODEL_f7e8b65acb4c422f8aa6d8763d3f401b",
       "placeholder": "​",
       "style": "IPY_MODEL_732514a26e0f4529895325d93ffbe41e",
       "value": " 7684/7684 [00:00&lt;00:00, 14861.06 examples/s]"
      }
     },
     "10de7b722fa04c7bbff1722febc65326": {
      "model_module": "@jupyter-widgets/base",
      "model_module_version": "1.2.0",
      "model_name": "LayoutModel",
      "state": {
       "_model_module": "@jupyter-widgets/base",
       "_model_module_version": "1.2.0",
       "_model_name": "LayoutModel",
       "_view_count": null,
       "_view_module": "@jupyter-widgets/base",
       "_view_module_version": "1.2.0",
       "_view_name": "LayoutView",
       "align_content": null,
       "align_items": null,
       "align_self": null,
       "border": null,
       "bottom": null,
       "display": null,
       "flex": null,
       "flex_flow": null,
       "grid_area": null,
       "grid_auto_columns": null,
       "grid_auto_flow": null,
       "grid_auto_rows": null,
       "grid_column": null,
       "grid_gap": null,
       "grid_row": null,
       "grid_template_areas": null,
       "grid_template_columns": null,
       "grid_template_rows": null,
       "height": null,
       "justify_content": null,
       "justify_items": null,
       "left": null,
       "margin": null,
       "max_height": null,
       "max_width": null,
       "min_height": null,
       "min_width": null,
       "object_fit": null,
       "object_position": null,
       "order": null,
       "overflow": null,
       "overflow_x": null,
       "overflow_y": null,
       "padding": null,
       "right": null,
       "top": null,
       "visibility": null,
       "width": null
      }
     },
     "17e8ec5e8a6148e3ac91e646c76fd09c": {
      "model_module": "@jupyter-widgets/controls",
      "model_module_version": "1.5.0",
      "model_name": "DescriptionStyleModel",
      "state": {
       "_model_module": "@jupyter-widgets/controls",
       "_model_module_version": "1.5.0",
       "_model_name": "DescriptionStyleModel",
       "_view_count": null,
       "_view_module": "@jupyter-widgets/base",
       "_view_module_version": "1.2.0",
       "_view_name": "StyleView",
       "description_width": ""
      }
     },
     "1a05854677cf43dd8b115ef949511a84": {
      "model_module": "@jupyter-widgets/controls",
      "model_module_version": "1.5.0",
      "model_name": "ProgressStyleModel",
      "state": {
       "_model_module": "@jupyter-widgets/controls",
       "_model_module_version": "1.5.0",
       "_model_name": "ProgressStyleModel",
       "_view_count": null,
       "_view_module": "@jupyter-widgets/base",
       "_view_module_version": "1.2.0",
       "_view_name": "StyleView",
       "bar_color": null,
       "description_width": ""
      }
     },
     "1cd257e2d39d4125bf1001868768127c": {
      "model_module": "@jupyter-widgets/controls",
      "model_module_version": "1.5.0",
      "model_name": "HTMLModel",
      "state": {
       "_dom_classes": [],
       "_model_module": "@jupyter-widgets/controls",
       "_model_module_version": "1.5.0",
       "_model_name": "HTMLModel",
       "_view_count": null,
       "_view_module": "@jupyter-widgets/controls",
       "_view_module_version": "1.5.0",
       "_view_name": "HTMLView",
       "description": "",
       "description_tooltip": null,
       "layout": "IPY_MODEL_6dddabfe68fa40bcb241e660325379c9",
       "placeholder": "​",
       "style": "IPY_MODEL_c08692bf763047d3af15d29d291eb12d",
       "value": "spiece.model: 100%"
      }
     },
     "1d62b3b97a794ced88f00f99b9cbf54c": {
      "model_module": "@jupyter-widgets/base",
      "model_module_version": "1.2.0",
      "model_name": "LayoutModel",
      "state": {
       "_model_module": "@jupyter-widgets/base",
       "_model_module_version": "1.2.0",
       "_model_name": "LayoutModel",
       "_view_count": null,
       "_view_module": "@jupyter-widgets/base",
       "_view_module_version": "1.2.0",
       "_view_name": "LayoutView",
       "align_content": null,
       "align_items": null,
       "align_self": null,
       "border": null,
       "bottom": null,
       "display": null,
       "flex": null,
       "flex_flow": null,
       "grid_area": null,
       "grid_auto_columns": null,
       "grid_auto_flow": null,
       "grid_auto_rows": null,
       "grid_column": null,
       "grid_gap": null,
       "grid_row": null,
       "grid_template_areas": null,
       "grid_template_columns": null,
       "grid_template_rows": null,
       "height": null,
       "justify_content": null,
       "justify_items": null,
       "left": null,
       "margin": null,
       "max_height": null,
       "max_width": null,
       "min_height": null,
       "min_width": null,
       "object_fit": null,
       "object_position": null,
       "order": null,
       "overflow": null,
       "overflow_x": null,
       "overflow_y": null,
       "padding": null,
       "right": null,
       "top": null,
       "visibility": null,
       "width": null
      }
     },
     "1e23095a875746da93e6319b640b7e28": {
      "model_module": "@jupyter-widgets/controls",
      "model_module_version": "1.5.0",
      "model_name": "FloatProgressModel",
      "state": {
       "_dom_classes": [],
       "_model_module": "@jupyter-widgets/controls",
       "_model_module_version": "1.5.0",
       "_model_name": "FloatProgressModel",
       "_view_count": null,
       "_view_module": "@jupyter-widgets/controls",
       "_view_module_version": "1.5.0",
       "_view_name": "ProgressView",
       "bar_style": "success",
       "description": "",
       "description_tooltip": null,
       "layout": "IPY_MODEL_46818cbfcf3843c88895663b9da17600",
       "max": 69153.0,
       "min": 0.0,
       "orientation": "horizontal",
       "style": "IPY_MODEL_64ee4934ed24450e852c1836fcdd23d7",
       "value": 69153.0
      }
     },
     "269c220139744c0fa31d7cbdc5f361d5": {
      "model_module": "@jupyter-widgets/base",
      "model_module_version": "1.2.0",
      "model_name": "LayoutModel",
      "state": {
       "_model_module": "@jupyter-widgets/base",
       "_model_module_version": "1.2.0",
       "_model_name": "LayoutModel",
       "_view_count": null,
       "_view_module": "@jupyter-widgets/base",
       "_view_module_version": "1.2.0",
       "_view_name": "LayoutView",
       "align_content": null,
       "align_items": null,
       "align_self": null,
       "border": null,
       "bottom": null,
       "display": null,
       "flex": null,
       "flex_flow": null,
       "grid_area": null,
       "grid_auto_columns": null,
       "grid_auto_flow": null,
       "grid_auto_rows": null,
       "grid_column": null,
       "grid_gap": null,
       "grid_row": null,
       "grid_template_areas": null,
       "grid_template_columns": null,
       "grid_template_rows": null,
       "height": null,
       "justify_content": null,
       "justify_items": null,
       "left": null,
       "margin": null,
       "max_height": null,
       "max_width": null,
       "min_height": null,
       "min_width": null,
       "object_fit": null,
       "object_position": null,
       "order": null,
       "overflow": null,
       "overflow_x": null,
       "overflow_y": null,
       "padding": null,
       "right": null,
       "top": null,
       "visibility": null,
       "width": null
      }
     },
     "27973e54454142af91e2814c3d7dc5a4": {
      "model_module": "@jupyter-widgets/base",
      "model_module_version": "1.2.0",
      "model_name": "LayoutModel",
      "state": {
       "_model_module": "@jupyter-widgets/base",
       "_model_module_version": "1.2.0",
       "_model_name": "LayoutModel",
       "_view_count": null,
       "_view_module": "@jupyter-widgets/base",
       "_view_module_version": "1.2.0",
       "_view_name": "LayoutView",
       "align_content": null,
       "align_items": null,
       "align_self": null,
       "border": null,
       "bottom": null,
       "display": null,
       "flex": null,
       "flex_flow": null,
       "grid_area": null,
       "grid_auto_columns": null,
       "grid_auto_flow": null,
       "grid_auto_rows": null,
       "grid_column": null,
       "grid_gap": null,
       "grid_row": null,
       "grid_template_areas": null,
       "grid_template_columns": null,
       "grid_template_rows": null,
       "height": null,
       "justify_content": null,
       "justify_items": null,
       "left": null,
       "margin": null,
       "max_height": null,
       "max_width": null,
       "min_height": null,
       "min_width": null,
       "object_fit": null,
       "object_position": null,
       "order": null,
       "overflow": null,
       "overflow_x": null,
       "overflow_y": null,
       "padding": null,
       "right": null,
       "top": null,
       "visibility": null,
       "width": null
      }
     },
     "3131589e83584c429d380bca613a820f": {
      "model_module": "@jupyter-widgets/controls",
      "model_module_version": "1.5.0",
      "model_name": "ProgressStyleModel",
      "state": {
       "_model_module": "@jupyter-widgets/controls",
       "_model_module_version": "1.5.0",
       "_model_name": "ProgressStyleModel",
       "_view_count": null,
       "_view_module": "@jupyter-widgets/base",
       "_view_module_version": "1.2.0",
       "_view_name": "StyleView",
       "bar_color": null,
       "description_width": ""
      }
     },
     "31c7e7f9c8da4c069251e8ea5723df0a": {
      "model_module": "@jupyter-widgets/controls",
      "model_module_version": "1.5.0",
      "model_name": "DescriptionStyleModel",
      "state": {
       "_model_module": "@jupyter-widgets/controls",
       "_model_module_version": "1.5.0",
       "_model_name": "DescriptionStyleModel",
       "_view_count": null,
       "_view_module": "@jupyter-widgets/base",
       "_view_module_version": "1.2.0",
       "_view_name": "StyleView",
       "description_width": ""
      }
     },
     "33c4f4afe9994c0b9a31075e1d6e4445": {
      "model_module": "@jupyter-widgets/controls",
      "model_module_version": "1.5.0",
      "model_name": "HBoxModel",
      "state": {
       "_dom_classes": [],
       "_model_module": "@jupyter-widgets/controls",
       "_model_module_version": "1.5.0",
       "_model_name": "HBoxModel",
       "_view_count": null,
       "_view_module": "@jupyter-widgets/controls",
       "_view_module_version": "1.5.0",
       "_view_name": "HBoxView",
       "box_style": "",
       "children": [
        "IPY_MODEL_0778bb33ac31449f9c9749f87acdc440",
        "IPY_MODEL_513b51713a994208bb3447ab0c65872e",
        "IPY_MODEL_85cfc851c51b4cb482ec7c8e723e5bd4"
       ],
       "layout": "IPY_MODEL_269c220139744c0fa31d7cbdc5f361d5"
      }
     },
     "340c7a355bbe486ebc452c0d18b23194": {
      "model_module": "@jupyter-widgets/base",
      "model_module_version": "1.2.0",
      "model_name": "LayoutModel",
      "state": {
       "_model_module": "@jupyter-widgets/base",
       "_model_module_version": "1.2.0",
       "_model_name": "LayoutModel",
       "_view_count": null,
       "_view_module": "@jupyter-widgets/base",
       "_view_module_version": "1.2.0",
       "_view_name": "LayoutView",
       "align_content": null,
       "align_items": null,
       "align_self": null,
       "border": null,
       "bottom": null,
       "display": null,
       "flex": null,
       "flex_flow": null,
       "grid_area": null,
       "grid_auto_columns": null,
       "grid_auto_flow": null,
       "grid_auto_rows": null,
       "grid_column": null,
       "grid_gap": null,
       "grid_row": null,
       "grid_template_areas": null,
       "grid_template_columns": null,
       "grid_template_rows": null,
       "height": null,
       "justify_content": null,
       "justify_items": null,
       "left": null,
       "margin": null,
       "max_height": null,
       "max_width": null,
       "min_height": null,
       "min_width": null,
       "object_fit": null,
       "object_position": null,
       "order": null,
       "overflow": null,
       "overflow_x": null,
       "overflow_y": null,
       "padding": null,
       "right": null,
       "top": null,
       "visibility": null,
       "width": null
      }
     },
     "34fac769c1ee4aca9e77c54ba3497bf5": {
      "model_module": "@jupyter-widgets/base",
      "model_module_version": "1.2.0",
      "model_name": "LayoutModel",
      "state": {
       "_model_module": "@jupyter-widgets/base",
       "_model_module_version": "1.2.0",
       "_model_name": "LayoutModel",
       "_view_count": null,
       "_view_module": "@jupyter-widgets/base",
       "_view_module_version": "1.2.0",
       "_view_name": "LayoutView",
       "align_content": null,
       "align_items": null,
       "align_self": null,
       "border": null,
       "bottom": null,
       "display": null,
       "flex": null,
       "flex_flow": null,
       "grid_area": null,
       "grid_auto_columns": null,
       "grid_auto_flow": null,
       "grid_auto_rows": null,
       "grid_column": null,
       "grid_gap": null,
       "grid_row": null,
       "grid_template_areas": null,
       "grid_template_columns": null,
       "grid_template_rows": null,
       "height": null,
       "justify_content": null,
       "justify_items": null,
       "left": null,
       "margin": null,
       "max_height": null,
       "max_width": null,
       "min_height": null,
       "min_width": null,
       "object_fit": null,
       "object_position": null,
       "order": null,
       "overflow": null,
       "overflow_x": null,
       "overflow_y": null,
       "padding": null,
       "right": null,
       "top": null,
       "visibility": null,
       "width": null
      }
     },
     "351cbffb35cb49fc9d7e23dc2207d31b": {
      "model_module": "@jupyter-widgets/base",
      "model_module_version": "1.2.0",
      "model_name": "LayoutModel",
      "state": {
       "_model_module": "@jupyter-widgets/base",
       "_model_module_version": "1.2.0",
       "_model_name": "LayoutModel",
       "_view_count": null,
       "_view_module": "@jupyter-widgets/base",
       "_view_module_version": "1.2.0",
       "_view_name": "LayoutView",
       "align_content": null,
       "align_items": null,
       "align_self": null,
       "border": null,
       "bottom": null,
       "display": null,
       "flex": null,
       "flex_flow": null,
       "grid_area": null,
       "grid_auto_columns": null,
       "grid_auto_flow": null,
       "grid_auto_rows": null,
       "grid_column": null,
       "grid_gap": null,
       "grid_row": null,
       "grid_template_areas": null,
       "grid_template_columns": null,
       "grid_template_rows": null,
       "height": null,
       "justify_content": null,
       "justify_items": null,
       "left": null,
       "margin": null,
       "max_height": null,
       "max_width": null,
       "min_height": null,
       "min_width": null,
       "object_fit": null,
       "object_position": null,
       "order": null,
       "overflow": null,
       "overflow_x": null,
       "overflow_y": null,
       "padding": null,
       "right": null,
       "top": null,
       "visibility": null,
       "width": null
      }
     },
     "3792f10e22a34d8fbea1620c2c503d49": {
      "model_module": "@jupyter-widgets/controls",
      "model_module_version": "1.5.0",
      "model_name": "ProgressStyleModel",
      "state": {
       "_model_module": "@jupyter-widgets/controls",
       "_model_module_version": "1.5.0",
       "_model_name": "ProgressStyleModel",
       "_view_count": null,
       "_view_module": "@jupyter-widgets/base",
       "_view_module_version": "1.2.0",
       "_view_name": "StyleView",
       "bar_color": null,
       "description_width": ""
      }
     },
     "38fc2200968b42ac813feb5186d1df02": {
      "model_module": "@jupyter-widgets/controls",
      "model_module_version": "1.5.0",
      "model_name": "HBoxModel",
      "state": {
       "_dom_classes": [],
       "_model_module": "@jupyter-widgets/controls",
       "_model_module_version": "1.5.0",
       "_model_name": "HBoxModel",
       "_view_count": null,
       "_view_module": "@jupyter-widgets/controls",
       "_view_module_version": "1.5.0",
       "_view_name": "HBoxView",
       "box_style": "",
       "children": [
        "IPY_MODEL_b1e93e99437f439b972fab897ea25851",
        "IPY_MODEL_db39b928b4674445aadd1cdb3b2f0a03",
        "IPY_MODEL_b5f13623507c4db2a808ffd08b3ee0a0"
       ],
       "layout": "IPY_MODEL_bd85523d232e4b46a43ca784dc85a866"
      }
     },
     "39adc1e0e0f4421781e5f57aac930782": {
      "model_module": "@jupyter-widgets/base",
      "model_module_version": "1.2.0",
      "model_name": "LayoutModel",
      "state": {
       "_model_module": "@jupyter-widgets/base",
       "_model_module_version": "1.2.0",
       "_model_name": "LayoutModel",
       "_view_count": null,
       "_view_module": "@jupyter-widgets/base",
       "_view_module_version": "1.2.0",
       "_view_name": "LayoutView",
       "align_content": null,
       "align_items": null,
       "align_self": null,
       "border": null,
       "bottom": null,
       "display": null,
       "flex": null,
       "flex_flow": null,
       "grid_area": null,
       "grid_auto_columns": null,
       "grid_auto_flow": null,
       "grid_auto_rows": null,
       "grid_column": null,
       "grid_gap": null,
       "grid_row": null,
       "grid_template_areas": null,
       "grid_template_columns": null,
       "grid_template_rows": null,
       "height": null,
       "justify_content": null,
       "justify_items": null,
       "left": null,
       "margin": null,
       "max_height": null,
       "max_width": null,
       "min_height": null,
       "min_width": null,
       "object_fit": null,
       "object_position": null,
       "order": null,
       "overflow": null,
       "overflow_x": null,
       "overflow_y": null,
       "padding": null,
       "right": null,
       "top": null,
       "visibility": null,
       "width": null
      }
     },
     "3b387a00ec27463cb4f15dd6fd47503b": {
      "model_module": "@jupyter-widgets/base",
      "model_module_version": "1.2.0",
      "model_name": "LayoutModel",
      "state": {
       "_model_module": "@jupyter-widgets/base",
       "_model_module_version": "1.2.0",
       "_model_name": "LayoutModel",
       "_view_count": null,
       "_view_module": "@jupyter-widgets/base",
       "_view_module_version": "1.2.0",
       "_view_name": "LayoutView",
       "align_content": null,
       "align_items": null,
       "align_self": null,
       "border": null,
       "bottom": null,
       "display": null,
       "flex": null,
       "flex_flow": null,
       "grid_area": null,
       "grid_auto_columns": null,
       "grid_auto_flow": null,
       "grid_auto_rows": null,
       "grid_column": null,
       "grid_gap": null,
       "grid_row": null,
       "grid_template_areas": null,
       "grid_template_columns": null,
       "grid_template_rows": null,
       "height": null,
       "justify_content": null,
       "justify_items": null,
       "left": null,
       "margin": null,
       "max_height": null,
       "max_width": null,
       "min_height": null,
       "min_width": null,
       "object_fit": null,
       "object_position": null,
       "order": null,
       "overflow": null,
       "overflow_x": null,
       "overflow_y": null,
       "padding": null,
       "right": null,
       "top": null,
       "visibility": null,
       "width": null
      }
     },
     "46818cbfcf3843c88895663b9da17600": {
      "model_module": "@jupyter-widgets/base",
      "model_module_version": "1.2.0",
      "model_name": "LayoutModel",
      "state": {
       "_model_module": "@jupyter-widgets/base",
       "_model_module_version": "1.2.0",
       "_model_name": "LayoutModel",
       "_view_count": null,
       "_view_module": "@jupyter-widgets/base",
       "_view_module_version": "1.2.0",
       "_view_name": "LayoutView",
       "align_content": null,
       "align_items": null,
       "align_self": null,
       "border": null,
       "bottom": null,
       "display": null,
       "flex": null,
       "flex_flow": null,
       "grid_area": null,
       "grid_auto_columns": null,
       "grid_auto_flow": null,
       "grid_auto_rows": null,
       "grid_column": null,
       "grid_gap": null,
       "grid_row": null,
       "grid_template_areas": null,
       "grid_template_columns": null,
       "grid_template_rows": null,
       "height": null,
       "justify_content": null,
       "justify_items": null,
       "left": null,
       "margin": null,
       "max_height": null,
       "max_width": null,
       "min_height": null,
       "min_width": null,
       "object_fit": null,
       "object_position": null,
       "order": null,
       "overflow": null,
       "overflow_x": null,
       "overflow_y": null,
       "padding": null,
       "right": null,
       "top": null,
       "visibility": null,
       "width": null
      }
     },
     "469d7f1a8a8f442eb1423685214cf498": {
      "model_module": "@jupyter-widgets/controls",
      "model_module_version": "1.5.0",
      "model_name": "ProgressStyleModel",
      "state": {
       "_model_module": "@jupyter-widgets/controls",
       "_model_module_version": "1.5.0",
       "_model_name": "ProgressStyleModel",
       "_view_count": null,
       "_view_module": "@jupyter-widgets/base",
       "_view_module_version": "1.2.0",
       "_view_name": "StyleView",
       "bar_color": null,
       "description_width": ""
      }
     },
     "4706742be2704723a9e8101737b6dc95": {
      "model_module": "@jupyter-widgets/controls",
      "model_module_version": "1.5.0",
      "model_name": "DescriptionStyleModel",
      "state": {
       "_model_module": "@jupyter-widgets/controls",
       "_model_module_version": "1.5.0",
       "_model_name": "DescriptionStyleModel",
       "_view_count": null,
       "_view_module": "@jupyter-widgets/base",
       "_view_module_version": "1.2.0",
       "_view_name": "StyleView",
       "description_width": ""
      }
     },
     "497127adc88743ed9b41f44ed2c4b9c7": {
      "model_module": "@jupyter-widgets/controls",
      "model_module_version": "1.5.0",
      "model_name": "HTMLModel",
      "state": {
       "_dom_classes": [],
       "_model_module": "@jupyter-widgets/controls",
       "_model_module_version": "1.5.0",
       "_model_name": "HTMLModel",
       "_view_count": null,
       "_view_module": "@jupyter-widgets/controls",
       "_view_module_version": "1.5.0",
       "_view_name": "HTMLView",
       "description": "",
       "description_tooltip": null,
       "layout": "IPY_MODEL_39adc1e0e0f4421781e5f57aac930782",
       "placeholder": "​",
       "style": "IPY_MODEL_71cb0ff8984e4501b9dbc999b7cc8f91",
       "value": " 69153/69153 [00:13&lt;00:00, 5756.03 examples/s]"
      }
     },
     "4ed6acd7379c4c59aa7408be99abdfaa": {
      "model_module": "@jupyter-widgets/controls",
      "model_module_version": "1.5.0",
      "model_name": "HBoxModel",
      "state": {
       "_dom_classes": [],
       "_model_module": "@jupyter-widgets/controls",
       "_model_module_version": "1.5.0",
       "_model_name": "HBoxModel",
       "_view_count": null,
       "_view_module": "@jupyter-widgets/controls",
       "_view_module_version": "1.5.0",
       "_view_name": "HBoxView",
       "box_style": "",
       "children": [
        "IPY_MODEL_750df8c7bc30454f9be169e2dabc0334",
        "IPY_MODEL_1e23095a875746da93e6319b640b7e28",
        "IPY_MODEL_497127adc88743ed9b41f44ed2c4b9c7"
       ],
       "layout": "IPY_MODEL_fb4b1ba4c5e64de1a43bb073c7e12e60"
      }
     },
     "4f694d65ed2c476a880ca0acde94e3d6": {
      "model_module": "@jupyter-widgets/controls",
      "model_module_version": "1.5.0",
      "model_name": "DescriptionStyleModel",
      "state": {
       "_model_module": "@jupyter-widgets/controls",
       "_model_module_version": "1.5.0",
       "_model_name": "DescriptionStyleModel",
       "_view_count": null,
       "_view_module": "@jupyter-widgets/base",
       "_view_module_version": "1.2.0",
       "_view_name": "StyleView",
       "description_width": ""
      }
     },
     "513b51713a994208bb3447ab0c65872e": {
      "model_module": "@jupyter-widgets/controls",
      "model_module_version": "1.5.0",
      "model_name": "FloatProgressModel",
      "state": {
       "_dom_classes": [],
       "_model_module": "@jupyter-widgets/controls",
       "_model_module_version": "1.5.0",
       "_model_name": "FloatProgressModel",
       "_view_count": null,
       "_view_module": "@jupyter-widgets/controls",
       "_view_module_version": "1.5.0",
       "_view_name": "ProgressView",
       "bar_style": "success",
       "description": "",
       "description_tooltip": null,
       "layout": "IPY_MODEL_27973e54454142af91e2814c3d7dc5a4",
       "max": 27065.0,
       "min": 0.0,
       "orientation": "horizontal",
       "style": "IPY_MODEL_469d7f1a8a8f442eb1423685214cf498",
       "value": 27065.0
      }
     },
     "5436ebd994f04a9695aca6e8f917d0c2": {
      "model_module": "@jupyter-widgets/base",
      "model_module_version": "1.2.0",
      "model_name": "LayoutModel",
      "state": {
       "_model_module": "@jupyter-widgets/base",
       "_model_module_version": "1.2.0",
       "_model_name": "LayoutModel",
       "_view_count": null,
       "_view_module": "@jupyter-widgets/base",
       "_view_module_version": "1.2.0",
       "_view_name": "LayoutView",
       "align_content": null,
       "align_items": null,
       "align_self": null,
       "border": null,
       "bottom": null,
       "display": null,
       "flex": null,
       "flex_flow": null,
       "grid_area": null,
       "grid_auto_columns": null,
       "grid_auto_flow": null,
       "grid_auto_rows": null,
       "grid_column": null,
       "grid_gap": null,
       "grid_row": null,
       "grid_template_areas": null,
       "grid_template_columns": null,
       "grid_template_rows": null,
       "height": null,
       "justify_content": null,
       "justify_items": null,
       "left": null,
       "margin": null,
       "max_height": null,
       "max_width": null,
       "min_height": null,
       "min_width": null,
       "object_fit": null,
       "object_position": null,
       "order": null,
       "overflow": null,
       "overflow_x": null,
       "overflow_y": null,
       "padding": null,
       "right": null,
       "top": null,
       "visibility": null,
       "width": null
      }
     },
     "55f9248d588d4c64a59ad32882ac7854": {
      "model_module": "@jupyter-widgets/controls",
      "model_module_version": "1.5.0",
      "model_name": "DescriptionStyleModel",
      "state": {
       "_model_module": "@jupyter-widgets/controls",
       "_model_module_version": "1.5.0",
       "_model_name": "DescriptionStyleModel",
       "_view_count": null,
       "_view_module": "@jupyter-widgets/base",
       "_view_module_version": "1.2.0",
       "_view_name": "StyleView",
       "description_width": ""
      }
     },
     "57d2814e2473496aa0b6aae89f01ade2": {
      "model_module": "@jupyter-widgets/controls",
      "model_module_version": "1.5.0",
      "model_name": "HBoxModel",
      "state": {
       "_dom_classes": [],
       "_model_module": "@jupyter-widgets/controls",
       "_model_module_version": "1.5.0",
       "_model_name": "HBoxModel",
       "_view_count": null,
       "_view_module": "@jupyter-widgets/controls",
       "_view_module_version": "1.5.0",
       "_view_name": "HBoxView",
       "box_style": "",
       "children": [
        "IPY_MODEL_ddbe671b32a94ba0b4b7e95a7b894566",
        "IPY_MODEL_d4c1ab2b5ea04f9cbd70e3dc5c3f648f",
        "IPY_MODEL_0206ceb151774bae8bc76310ec7308aa"
       ],
       "layout": "IPY_MODEL_e7f8c17da037428aafacd437eba895dc"
      }
     },
     "57fbad599aa1427483bff27202a8a39d": {
      "model_module": "@jupyter-widgets/base",
      "model_module_version": "1.2.0",
      "model_name": "LayoutModel",
      "state": {
       "_model_module": "@jupyter-widgets/base",
       "_model_module_version": "1.2.0",
       "_model_name": "LayoutModel",
       "_view_count": null,
       "_view_module": "@jupyter-widgets/base",
       "_view_module_version": "1.2.0",
       "_view_name": "LayoutView",
       "align_content": null,
       "align_items": null,
       "align_self": null,
       "border": null,
       "bottom": null,
       "display": null,
       "flex": null,
       "flex_flow": null,
       "grid_area": null,
       "grid_auto_columns": null,
       "grid_auto_flow": null,
       "grid_auto_rows": null,
       "grid_column": null,
       "grid_gap": null,
       "grid_row": null,
       "grid_template_areas": null,
       "grid_template_columns": null,
       "grid_template_rows": null,
       "height": null,
       "justify_content": null,
       "justify_items": null,
       "left": null,
       "margin": null,
       "max_height": null,
       "max_width": null,
       "min_height": null,
       "min_width": null,
       "object_fit": null,
       "object_position": null,
       "order": null,
       "overflow": null,
       "overflow_x": null,
       "overflow_y": null,
       "padding": null,
       "right": null,
       "top": null,
       "visibility": null,
       "width": null
      }
     },
     "633cb11c40ca4b748ab96961a8c56288": {
      "model_module": "@jupyter-widgets/controls",
      "model_module_version": "1.5.0",
      "model_name": "HTMLModel",
      "state": {
       "_dom_classes": [],
       "_model_module": "@jupyter-widgets/controls",
       "_model_module_version": "1.5.0",
       "_model_name": "HTMLModel",
       "_view_count": null,
       "_view_module": "@jupyter-widgets/controls",
       "_view_module_version": "1.5.0",
       "_view_name": "HTMLView",
       "description": "",
       "description_tooltip": null,
       "layout": "IPY_MODEL_ba360416c4bf41e8bfa70f7061b454e5",
       "placeholder": "​",
       "style": "IPY_MODEL_17e8ec5e8a6148e3ac91e646c76fd09c",
       "value": "pytorch_model.bin: 100%"
      }
     },
     "642133d847f945ab856b75a292f634ef": {
      "model_module": "@jupyter-widgets/controls",
      "model_module_version": "1.5.0",
      "model_name": "HTMLModel",
      "state": {
       "_dom_classes": [],
       "_model_module": "@jupyter-widgets/controls",
       "_model_module_version": "1.5.0",
       "_model_name": "HTMLModel",
       "_view_count": null,
       "_view_module": "@jupyter-widgets/controls",
       "_view_module_version": "1.5.0",
       "_view_name": "HTMLView",
       "description": "",
       "description_tooltip": null,
       "layout": "IPY_MODEL_e650913af9594427b359d20c41e2cf76",
       "placeholder": "​",
       "style": "IPY_MODEL_89882a0cb6fd4483992833eb1b22a1a9",
       "value": "Map: 100%"
      }
     },
     "64ee4934ed24450e852c1836fcdd23d7": {
      "model_module": "@jupyter-widgets/controls",
      "model_module_version": "1.5.0",
      "model_name": "ProgressStyleModel",
      "state": {
       "_model_module": "@jupyter-widgets/controls",
       "_model_module_version": "1.5.0",
       "_model_name": "ProgressStyleModel",
       "_view_count": null,
       "_view_module": "@jupyter-widgets/base",
       "_view_module_version": "1.2.0",
       "_view_name": "StyleView",
       "bar_color": null,
       "description_width": ""
      }
     },
     "6c1105dd07d34d3c844fec71b367f342": {
      "model_module": "@jupyter-widgets/controls",
      "model_module_version": "1.5.0",
      "model_name": "ProgressStyleModel",
      "state": {
       "_model_module": "@jupyter-widgets/controls",
       "_model_module_version": "1.5.0",
       "_model_name": "ProgressStyleModel",
       "_view_count": null,
       "_view_module": "@jupyter-widgets/base",
       "_view_module_version": "1.2.0",
       "_view_name": "StyleView",
       "bar_color": null,
       "description_width": ""
      }
     },
     "6dddabfe68fa40bcb241e660325379c9": {
      "model_module": "@jupyter-widgets/base",
      "model_module_version": "1.2.0",
      "model_name": "LayoutModel",
      "state": {
       "_model_module": "@jupyter-widgets/base",
       "_model_module_version": "1.2.0",
       "_model_name": "LayoutModel",
       "_view_count": null,
       "_view_module": "@jupyter-widgets/base",
       "_view_module_version": "1.2.0",
       "_view_name": "LayoutView",
       "align_content": null,
       "align_items": null,
       "align_self": null,
       "border": null,
       "bottom": null,
       "display": null,
       "flex": null,
       "flex_flow": null,
       "grid_area": null,
       "grid_auto_columns": null,
       "grid_auto_flow": null,
       "grid_auto_rows": null,
       "grid_column": null,
       "grid_gap": null,
       "grid_row": null,
       "grid_template_areas": null,
       "grid_template_columns": null,
       "grid_template_rows": null,
       "height": null,
       "justify_content": null,
       "justify_items": null,
       "left": null,
       "margin": null,
       "max_height": null,
       "max_width": null,
       "min_height": null,
       "min_width": null,
       "object_fit": null,
       "object_position": null,
       "order": null,
       "overflow": null,
       "overflow_x": null,
       "overflow_y": null,
       "padding": null,
       "right": null,
       "top": null,
       "visibility": null,
       "width": null
      }
     },
     "6de70b56f2e64e03888928dd27c98100": {
      "model_module": "@jupyter-widgets/controls",
      "model_module_version": "1.5.0",
      "model_name": "ProgressStyleModel",
      "state": {
       "_model_module": "@jupyter-widgets/controls",
       "_model_module_version": "1.5.0",
       "_model_name": "ProgressStyleModel",
       "_view_count": null,
       "_view_module": "@jupyter-widgets/base",
       "_view_module_version": "1.2.0",
       "_view_name": "StyleView",
       "bar_color": null,
       "description_width": ""
      }
     },
     "6f1e64891ebf4f27ad856eda76171421": {
      "model_module": "@jupyter-widgets/controls",
      "model_module_version": "1.5.0",
      "model_name": "DescriptionStyleModel",
      "state": {
       "_model_module": "@jupyter-widgets/controls",
       "_model_module_version": "1.5.0",
       "_model_name": "DescriptionStyleModel",
       "_view_count": null,
       "_view_module": "@jupyter-widgets/base",
       "_view_module_version": "1.2.0",
       "_view_name": "StyleView",
       "description_width": ""
      }
     },
     "71cb0ff8984e4501b9dbc999b7cc8f91": {
      "model_module": "@jupyter-widgets/controls",
      "model_module_version": "1.5.0",
      "model_name": "DescriptionStyleModel",
      "state": {
       "_model_module": "@jupyter-widgets/controls",
       "_model_module_version": "1.5.0",
       "_model_name": "DescriptionStyleModel",
       "_view_count": null,
       "_view_module": "@jupyter-widgets/base",
       "_view_module_version": "1.2.0",
       "_view_name": "StyleView",
       "description_width": ""
      }
     },
     "732514a26e0f4529895325d93ffbe41e": {
      "model_module": "@jupyter-widgets/controls",
      "model_module_version": "1.5.0",
      "model_name": "DescriptionStyleModel",
      "state": {
       "_model_module": "@jupyter-widgets/controls",
       "_model_module_version": "1.5.0",
       "_model_name": "DescriptionStyleModel",
       "_view_count": null,
       "_view_module": "@jupyter-widgets/base",
       "_view_module_version": "1.2.0",
       "_view_name": "StyleView",
       "description_width": ""
      }
     },
     "750df8c7bc30454f9be169e2dabc0334": {
      "model_module": "@jupyter-widgets/controls",
      "model_module_version": "1.5.0",
      "model_name": "HTMLModel",
      "state": {
       "_dom_classes": [],
       "_model_module": "@jupyter-widgets/controls",
       "_model_module_version": "1.5.0",
       "_model_name": "HTMLModel",
       "_view_count": null,
       "_view_module": "@jupyter-widgets/controls",
       "_view_module_version": "1.5.0",
       "_view_name": "HTMLView",
       "description": "",
       "description_tooltip": null,
       "layout": "IPY_MODEL_5436ebd994f04a9695aca6e8f917d0c2",
       "placeholder": "​",
       "style": "IPY_MODEL_89af6cb825f4499fb1072342ee151562",
       "value": "Map: 100%"
      }
     },
     "7534ae7379a444e190a739a6dd60ae4d": {
      "model_module": "@jupyter-widgets/base",
      "model_module_version": "1.2.0",
      "model_name": "LayoutModel",
      "state": {
       "_model_module": "@jupyter-widgets/base",
       "_model_module_version": "1.2.0",
       "_model_name": "LayoutModel",
       "_view_count": null,
       "_view_module": "@jupyter-widgets/base",
       "_view_module_version": "1.2.0",
       "_view_name": "LayoutView",
       "align_content": null,
       "align_items": null,
       "align_self": null,
       "border": null,
       "bottom": null,
       "display": null,
       "flex": null,
       "flex_flow": null,
       "grid_area": null,
       "grid_auto_columns": null,
       "grid_auto_flow": null,
       "grid_auto_rows": null,
       "grid_column": null,
       "grid_gap": null,
       "grid_row": null,
       "grid_template_areas": null,
       "grid_template_columns": null,
       "grid_template_rows": null,
       "height": null,
       "justify_content": null,
       "justify_items": null,
       "left": null,
       "margin": null,
       "max_height": null,
       "max_width": null,
       "min_height": null,
       "min_width": null,
       "object_fit": null,
       "object_position": null,
       "order": null,
       "overflow": null,
       "overflow_x": null,
       "overflow_y": null,
       "padding": null,
       "right": null,
       "top": null,
       "visibility": null,
       "width": null
      }
     },
     "7a992508f22c4c9fb9a21a8ba213ceee": {
      "model_module": "@jupyter-widgets/controls",
      "model_module_version": "1.5.0",
      "model_name": "DescriptionStyleModel",
      "state": {
       "_model_module": "@jupyter-widgets/controls",
       "_model_module_version": "1.5.0",
       "_model_name": "DescriptionStyleModel",
       "_view_count": null,
       "_view_module": "@jupyter-widgets/base",
       "_view_module_version": "1.2.0",
       "_view_name": "StyleView",
       "description_width": ""
      }
     },
     "835c3004635a4995840a53a394e25a21": {
      "model_module": "@jupyter-widgets/controls",
      "model_module_version": "1.5.0",
      "model_name": "DescriptionStyleModel",
      "state": {
       "_model_module": "@jupyter-widgets/controls",
       "_model_module_version": "1.5.0",
       "_model_name": "DescriptionStyleModel",
       "_view_count": null,
       "_view_module": "@jupyter-widgets/base",
       "_view_module_version": "1.2.0",
       "_view_name": "StyleView",
       "description_width": ""
      }
     },
     "85cfc851c51b4cb482ec7c8e723e5bd4": {
      "model_module": "@jupyter-widgets/controls",
      "model_module_version": "1.5.0",
      "model_name": "HTMLModel",
      "state": {
       "_dom_classes": [],
       "_model_module": "@jupyter-widgets/controls",
       "_model_module_version": "1.5.0",
       "_model_name": "HTMLModel",
       "_view_count": null,
       "_view_module": "@jupyter-widgets/controls",
       "_view_module_version": "1.5.0",
       "_view_name": "HTMLView",
       "description": "",
       "description_tooltip": null,
       "layout": "IPY_MODEL_dbfc8bf17126456da09bbddf860dc6bb",
       "placeholder": "​",
       "style": "IPY_MODEL_7a992508f22c4c9fb9a21a8ba213ceee",
       "value": " 27065/27065 [00:04&lt;00:00, 5166.41 examples/s]"
      }
     },
     "86266ccc32d24ec6847a384db3bad18a": {
      "model_module": "@jupyter-widgets/controls",
      "model_module_version": "1.5.0",
      "model_name": "DescriptionStyleModel",
      "state": {
       "_model_module": "@jupyter-widgets/controls",
       "_model_module_version": "1.5.0",
       "_model_name": "DescriptionStyleModel",
       "_view_count": null,
       "_view_module": "@jupyter-widgets/base",
       "_view_module_version": "1.2.0",
       "_view_name": "StyleView",
       "description_width": ""
      }
     },
     "89882a0cb6fd4483992833eb1b22a1a9": {
      "model_module": "@jupyter-widgets/controls",
      "model_module_version": "1.5.0",
      "model_name": "DescriptionStyleModel",
      "state": {
       "_model_module": "@jupyter-widgets/controls",
       "_model_module_version": "1.5.0",
       "_model_name": "DescriptionStyleModel",
       "_view_count": null,
       "_view_module": "@jupyter-widgets/base",
       "_view_module_version": "1.2.0",
       "_view_name": "StyleView",
       "description_width": ""
      }
     },
     "89af6cb825f4499fb1072342ee151562": {
      "model_module": "@jupyter-widgets/controls",
      "model_module_version": "1.5.0",
      "model_name": "DescriptionStyleModel",
      "state": {
       "_model_module": "@jupyter-widgets/controls",
       "_model_module_version": "1.5.0",
       "_model_name": "DescriptionStyleModel",
       "_view_count": null,
       "_view_module": "@jupyter-widgets/base",
       "_view_module_version": "1.2.0",
       "_view_name": "StyleView",
       "description_width": ""
      }
     },
     "947c6a09981c40afa6733c3c86fa8d28": {
      "model_module": "@jupyter-widgets/controls",
      "model_module_version": "1.5.0",
      "model_name": "ProgressStyleModel",
      "state": {
       "_model_module": "@jupyter-widgets/controls",
       "_model_module_version": "1.5.0",
       "_model_name": "ProgressStyleModel",
       "_view_count": null,
       "_view_module": "@jupyter-widgets/base",
       "_view_module_version": "1.2.0",
       "_view_name": "StyleView",
       "bar_color": null,
       "description_width": ""
      }
     },
     "97d5bfeba4144b7aaf8355b34b884806": {
      "model_module": "@jupyter-widgets/controls",
      "model_module_version": "1.5.0",
      "model_name": "FloatProgressModel",
      "state": {
       "_dom_classes": [],
       "_model_module": "@jupyter-widgets/controls",
       "_model_module_version": "1.5.0",
       "_model_name": "FloatProgressModel",
       "_view_count": null,
       "_view_module": "@jupyter-widgets/controls",
       "_view_module_version": "1.5.0",
       "_view_name": "ProgressView",
       "bar_style": "success",
       "description": "",
       "description_tooltip": null,
       "layout": "IPY_MODEL_f69111b6818f40429aa83a3e8597abb2",
       "max": 134982446.0,
       "min": 0.0,
       "orientation": "horizontal",
       "style": "IPY_MODEL_6c1105dd07d34d3c844fec71b367f342",
       "value": 134982446.0
      }
     },
     "99c3f88c5fab42e6a1f50ef08105d8fc": {
      "model_module": "@jupyter-widgets/controls",
      "model_module_version": "1.5.0",
      "model_name": "HBoxModel",
      "state": {
       "_dom_classes": [],
       "_model_module": "@jupyter-widgets/controls",
       "_model_module_version": "1.5.0",
       "_model_name": "HBoxModel",
       "_view_count": null,
       "_view_module": "@jupyter-widgets/controls",
       "_view_module_version": "1.5.0",
       "_view_name": "HBoxView",
       "box_style": "",
       "children": [
        "IPY_MODEL_c157269e4c5840c29d139d3603ec53fe",
        "IPY_MODEL_caecbb64dc414f21b17b15554e764d77",
        "IPY_MODEL_ca6be8ed12d44ffaa3e1d87ecf4b9f76"
       ],
       "layout": "IPY_MODEL_ac55adfe3b6b4036aaf20badf846b83f"
      }
     },
     "9decbb3faca744e7a6b65950e7ca8bf1": {
      "model_module": "@jupyter-widgets/controls",
      "model_module_version": "1.5.0",
      "model_name": "HTMLModel",
      "state": {
       "_dom_classes": [],
       "_model_module": "@jupyter-widgets/controls",
       "_model_module_version": "1.5.0",
       "_model_name": "HTMLModel",
       "_view_count": null,
       "_view_module": "@jupyter-widgets/controls",
       "_view_module_version": "1.5.0",
       "_view_name": "HTMLView",
       "description": "",
       "description_tooltip": null,
       "layout": "IPY_MODEL_340c7a355bbe486ebc452c0d18b23194",
       "placeholder": "​",
       "style": "IPY_MODEL_31c7e7f9c8da4c069251e8ea5723df0a",
       "value": " 5.65M/5.65M [00:00&lt;00:00, 27.0MB/s]"
      }
     },
     "9ded327905914c02ba62691bf91ce772": {
      "model_module": "@jupyter-widgets/base",
      "model_module_version": "1.2.0",
      "model_name": "LayoutModel",
      "state": {
       "_model_module": "@jupyter-widgets/base",
       "_model_module_version": "1.2.0",
       "_model_name": "LayoutModel",
       "_view_count": null,
       "_view_module": "@jupyter-widgets/base",
       "_view_module_version": "1.2.0",
       "_view_name": "LayoutView",
       "align_content": null,
       "align_items": null,
       "align_self": null,
       "border": null,
       "bottom": null,
       "display": null,
       "flex": null,
       "flex_flow": null,
       "grid_area": null,
       "grid_auto_columns": null,
       "grid_auto_flow": null,
       "grid_auto_rows": null,
       "grid_column": null,
       "grid_gap": null,
       "grid_row": null,
       "grid_template_areas": null,
       "grid_template_columns": null,
       "grid_template_rows": null,
       "height": null,
       "justify_content": null,
       "justify_items": null,
       "left": null,
       "margin": null,
       "max_height": null,
       "max_width": null,
       "min_height": null,
       "min_width": null,
       "object_fit": null,
       "object_position": null,
       "order": null,
       "overflow": null,
       "overflow_x": null,
       "overflow_y": null,
       "padding": null,
       "right": null,
       "top": null,
       "visibility": null,
       "width": null
      }
     },
     "a4feaccc06d3408eb09c33824e7bd309": {
      "model_module": "@jupyter-widgets/base",
      "model_module_version": "1.2.0",
      "model_name": "LayoutModel",
      "state": {
       "_model_module": "@jupyter-widgets/base",
       "_model_module_version": "1.2.0",
       "_model_name": "LayoutModel",
       "_view_count": null,
       "_view_module": "@jupyter-widgets/base",
       "_view_module_version": "1.2.0",
       "_view_name": "LayoutView",
       "align_content": null,
       "align_items": null,
       "align_self": null,
       "border": null,
       "bottom": null,
       "display": null,
       "flex": null,
       "flex_flow": null,
       "grid_area": null,
       "grid_auto_columns": null,
       "grid_auto_flow": null,
       "grid_auto_rows": null,
       "grid_column": null,
       "grid_gap": null,
       "grid_row": null,
       "grid_template_areas": null,
       "grid_template_columns": null,
       "grid_template_rows": null,
       "height": null,
       "justify_content": null,
       "justify_items": null,
       "left": null,
       "margin": null,
       "max_height": null,
       "max_width": null,
       "min_height": null,
       "min_width": null,
       "object_fit": null,
       "object_position": null,
       "order": null,
       "overflow": null,
       "overflow_x": null,
       "overflow_y": null,
       "padding": null,
       "right": null,
       "top": null,
       "visibility": null,
       "width": null
      }
     },
     "a66eec3f02af4b46b24faedd5585c8fb": {
      "model_module": "@jupyter-widgets/controls",
      "model_module_version": "1.5.0",
      "model_name": "HTMLModel",
      "state": {
       "_dom_classes": [],
       "_model_module": "@jupyter-widgets/controls",
       "_model_module_version": "1.5.0",
       "_model_name": "HTMLModel",
       "_view_count": null,
       "_view_module": "@jupyter-widgets/controls",
       "_view_module_version": "1.5.0",
       "_view_name": "HTMLView",
       "description": "",
       "description_tooltip": null,
       "layout": "IPY_MODEL_bf444a345f674723829a78686efd3ac2",
       "placeholder": "​",
       "style": "IPY_MODEL_c53be7f7d6c1465a8a35ca67d3550ffd",
       "value": " 7684/7684 [00:01&lt;00:00, 5794.40 examples/s]"
      }
     },
     "a68f13b25dd94122941555b9a14987f4": {
      "model_module": "@jupyter-widgets/controls",
      "model_module_version": "1.5.0",
      "model_name": "HBoxModel",
      "state": {
       "_dom_classes": [],
       "_model_module": "@jupyter-widgets/controls",
       "_model_module_version": "1.5.0",
       "_model_name": "HBoxModel",
       "_view_count": null,
       "_view_module": "@jupyter-widgets/controls",
       "_view_module_version": "1.5.0",
       "_view_name": "HBoxView",
       "box_style": "",
       "children": [
        "IPY_MODEL_1cd257e2d39d4125bf1001868768127c",
        "IPY_MODEL_db6f4db7a33f4656980e4c49ff21db94",
        "IPY_MODEL_9decbb3faca744e7a6b65950e7ca8bf1"
       ],
       "layout": "IPY_MODEL_3b387a00ec27463cb4f15dd6fd47503b"
      }
     },
     "ac55adfe3b6b4036aaf20badf846b83f": {
      "model_module": "@jupyter-widgets/base",
      "model_module_version": "1.2.0",
      "model_name": "LayoutModel",
      "state": {
       "_model_module": "@jupyter-widgets/base",
       "_model_module_version": "1.2.0",
       "_model_name": "LayoutModel",
       "_view_count": null,
       "_view_module": "@jupyter-widgets/base",
       "_view_module_version": "1.2.0",
       "_view_name": "LayoutView",
       "align_content": null,
       "align_items": null,
       "align_self": null,
       "border": null,
       "bottom": null,
       "display": null,
       "flex": null,
       "flex_flow": null,
       "grid_area": null,
       "grid_auto_columns": null,
       "grid_auto_flow": null,
       "grid_auto_rows": null,
       "grid_column": null,
       "grid_gap": null,
       "grid_row": null,
       "grid_template_areas": null,
       "grid_template_columns": null,
       "grid_template_rows": null,
       "height": null,
       "justify_content": null,
       "justify_items": null,
       "left": null,
       "margin": null,
       "max_height": null,
       "max_width": null,
       "min_height": null,
       "min_width": null,
       "object_fit": null,
       "object_position": null,
       "order": null,
       "overflow": null,
       "overflow_x": null,
       "overflow_y": null,
       "padding": null,
       "right": null,
       "top": null,
       "visibility": null,
       "width": null
      }
     },
     "ad80e40ebb9a43d084724fbe0d934447": {
      "model_module": "@jupyter-widgets/base",
      "model_module_version": "1.2.0",
      "model_name": "LayoutModel",
      "state": {
       "_model_module": "@jupyter-widgets/base",
       "_model_module_version": "1.2.0",
       "_model_name": "LayoutModel",
       "_view_count": null,
       "_view_module": "@jupyter-widgets/base",
       "_view_module_version": "1.2.0",
       "_view_name": "LayoutView",
       "align_content": null,
       "align_items": null,
       "align_self": null,
       "border": null,
       "bottom": null,
       "display": null,
       "flex": null,
       "flex_flow": null,
       "grid_area": null,
       "grid_auto_columns": null,
       "grid_auto_flow": null,
       "grid_auto_rows": null,
       "grid_column": null,
       "grid_gap": null,
       "grid_row": null,
       "grid_template_areas": null,
       "grid_template_columns": null,
       "grid_template_rows": null,
       "height": null,
       "justify_content": null,
       "justify_items": null,
       "left": null,
       "margin": null,
       "max_height": null,
       "max_width": null,
       "min_height": null,
       "min_width": null,
       "object_fit": null,
       "object_position": null,
       "order": null,
       "overflow": null,
       "overflow_x": null,
       "overflow_y": null,
       "padding": null,
       "right": null,
       "top": null,
       "visibility": null,
       "width": null
      }
     },
     "b1e93e99437f439b972fab897ea25851": {
      "model_module": "@jupyter-widgets/controls",
      "model_module_version": "1.5.0",
      "model_name": "HTMLModel",
      "state": {
       "_dom_classes": [],
       "_model_module": "@jupyter-widgets/controls",
       "_model_module_version": "1.5.0",
       "_model_name": "HTMLModel",
       "_view_count": null,
       "_view_module": "@jupyter-widgets/controls",
       "_view_module_version": "1.5.0",
       "_view_name": "HTMLView",
       "description": "",
       "description_tooltip": null,
       "layout": "IPY_MODEL_f3ce742e252145969b21743c6a443b1f",
       "placeholder": "​",
       "style": "IPY_MODEL_4706742be2704723a9e8101737b6dc95",
       "value": "config.json: 100%"
      }
     },
     "b24787e4315f4f7aa35872f334e0d5ab": {
      "model_module": "@jupyter-widgets/controls",
      "model_module_version": "1.5.0",
      "model_name": "DescriptionStyleModel",
      "state": {
       "_model_module": "@jupyter-widgets/controls",
       "_model_module_version": "1.5.0",
       "_model_name": "DescriptionStyleModel",
       "_view_count": null,
       "_view_module": "@jupyter-widgets/base",
       "_view_module_version": "1.2.0",
       "_view_name": "StyleView",
       "description_width": ""
      }
     },
     "b3334fabe6ba4ee0a7e2703685950cbe": {
      "model_module": "@jupyter-widgets/base",
      "model_module_version": "1.2.0",
      "model_name": "LayoutModel",
      "state": {
       "_model_module": "@jupyter-widgets/base",
       "_model_module_version": "1.2.0",
       "_model_name": "LayoutModel",
       "_view_count": null,
       "_view_module": "@jupyter-widgets/base",
       "_view_module_version": "1.2.0",
       "_view_name": "LayoutView",
       "align_content": null,
       "align_items": null,
       "align_self": null,
       "border": null,
       "bottom": null,
       "display": null,
       "flex": null,
       "flex_flow": null,
       "grid_area": null,
       "grid_auto_columns": null,
       "grid_auto_flow": null,
       "grid_auto_rows": null,
       "grid_column": null,
       "grid_gap": null,
       "grid_row": null,
       "grid_template_areas": null,
       "grid_template_columns": null,
       "grid_template_rows": null,
       "height": null,
       "justify_content": null,
       "justify_items": null,
       "left": null,
       "margin": null,
       "max_height": null,
       "max_width": null,
       "min_height": null,
       "min_width": null,
       "object_fit": null,
       "object_position": null,
       "order": null,
       "overflow": null,
       "overflow_x": null,
       "overflow_y": null,
       "padding": null,
       "right": null,
       "top": null,
       "visibility": null,
       "width": null
      }
     },
     "b5f13623507c4db2a808ffd08b3ee0a0": {
      "model_module": "@jupyter-widgets/controls",
      "model_module_version": "1.5.0",
      "model_name": "HTMLModel",
      "state": {
       "_dom_classes": [],
       "_model_module": "@jupyter-widgets/controls",
       "_model_module_version": "1.5.0",
       "_model_name": "HTMLModel",
       "_view_count": null,
       "_view_module": "@jupyter-widgets/controls",
       "_view_module_version": "1.5.0",
       "_view_name": "HTMLView",
       "description": "",
       "description_tooltip": null,
       "layout": "IPY_MODEL_b3334fabe6ba4ee0a7e2703685950cbe",
       "placeholder": "​",
       "style": "IPY_MODEL_4f694d65ed2c476a880ca0acde94e3d6",
       "value": " 507/507 [00:00&lt;00:00, 40.9kB/s]"
      }
     },
     "b65a0b573276405e8c5251ed3b1ca056": {
      "model_module": "@jupyter-widgets/controls",
      "model_module_version": "1.5.0",
      "model_name": "HBoxModel",
      "state": {
       "_dom_classes": [],
       "_model_module": "@jupyter-widgets/controls",
       "_model_module_version": "1.5.0",
       "_model_name": "HBoxModel",
       "_view_count": null,
       "_view_module": "@jupyter-widgets/controls",
       "_view_module_version": "1.5.0",
       "_view_name": "HBoxView",
       "box_style": "",
       "children": [
        "IPY_MODEL_eba0772ef876487a8bf4dccbf03459b5",
        "IPY_MODEL_c9b500ce5424453ab7c90c958a634398",
        "IPY_MODEL_a66eec3f02af4b46b24faedd5585c8fb"
       ],
       "layout": "IPY_MODEL_9ded327905914c02ba62691bf91ce772"
      }
     },
     "b68b574bbad1430d98a63422d517bc1e": {
      "model_module": "@jupyter-widgets/base",
      "model_module_version": "1.2.0",
      "model_name": "LayoutModel",
      "state": {
       "_model_module": "@jupyter-widgets/base",
       "_model_module_version": "1.2.0",
       "_model_name": "LayoutModel",
       "_view_count": null,
       "_view_module": "@jupyter-widgets/base",
       "_view_module_version": "1.2.0",
       "_view_name": "LayoutView",
       "align_content": null,
       "align_items": null,
       "align_self": null,
       "border": null,
       "bottom": null,
       "display": null,
       "flex": null,
       "flex_flow": null,
       "grid_area": null,
       "grid_auto_columns": null,
       "grid_auto_flow": null,
       "grid_auto_rows": null,
       "grid_column": null,
       "grid_gap": null,
       "grid_row": null,
       "grid_template_areas": null,
       "grid_template_columns": null,
       "grid_template_rows": null,
       "height": null,
       "justify_content": null,
       "justify_items": null,
       "left": null,
       "margin": null,
       "max_height": null,
       "max_width": null,
       "min_height": null,
       "min_width": null,
       "object_fit": null,
       "object_position": null,
       "order": null,
       "overflow": null,
       "overflow_x": null,
       "overflow_y": null,
       "padding": null,
       "right": null,
       "top": null,
       "visibility": null,
       "width": null
      }
     },
     "b89d56678d1046d9ab265acbe0a3d970": {
      "model_module": "@jupyter-widgets/base",
      "model_module_version": "1.2.0",
      "model_name": "LayoutModel",
      "state": {
       "_model_module": "@jupyter-widgets/base",
       "_model_module_version": "1.2.0",
       "_model_name": "LayoutModel",
       "_view_count": null,
       "_view_module": "@jupyter-widgets/base",
       "_view_module_version": "1.2.0",
       "_view_name": "LayoutView",
       "align_content": null,
       "align_items": null,
       "align_self": null,
       "border": null,
       "bottom": null,
       "display": null,
       "flex": null,
       "flex_flow": null,
       "grid_area": null,
       "grid_auto_columns": null,
       "grid_auto_flow": null,
       "grid_auto_rows": null,
       "grid_column": null,
       "grid_gap": null,
       "grid_row": null,
       "grid_template_areas": null,
       "grid_template_columns": null,
       "grid_template_rows": null,
       "height": null,
       "justify_content": null,
       "justify_items": null,
       "left": null,
       "margin": null,
       "max_height": null,
       "max_width": null,
       "min_height": null,
       "min_width": null,
       "object_fit": null,
       "object_position": null,
       "order": null,
       "overflow": null,
       "overflow_x": null,
       "overflow_y": null,
       "padding": null,
       "right": null,
       "top": null,
       "visibility": null,
       "width": null
      }
     },
     "ba360416c4bf41e8bfa70f7061b454e5": {
      "model_module": "@jupyter-widgets/base",
      "model_module_version": "1.2.0",
      "model_name": "LayoutModel",
      "state": {
       "_model_module": "@jupyter-widgets/base",
       "_model_module_version": "1.2.0",
       "_model_name": "LayoutModel",
       "_view_count": null,
       "_view_module": "@jupyter-widgets/base",
       "_view_module_version": "1.2.0",
       "_view_name": "LayoutView",
       "align_content": null,
       "align_items": null,
       "align_self": null,
       "border": null,
       "bottom": null,
       "display": null,
       "flex": null,
       "flex_flow": null,
       "grid_area": null,
       "grid_auto_columns": null,
       "grid_auto_flow": null,
       "grid_auto_rows": null,
       "grid_column": null,
       "grid_gap": null,
       "grid_row": null,
       "grid_template_areas": null,
       "grid_template_columns": null,
       "grid_template_rows": null,
       "height": null,
       "justify_content": null,
       "justify_items": null,
       "left": null,
       "margin": null,
       "max_height": null,
       "max_width": null,
       "min_height": null,
       "min_width": null,
       "object_fit": null,
       "object_position": null,
       "order": null,
       "overflow": null,
       "overflow_x": null,
       "overflow_y": null,
       "padding": null,
       "right": null,
       "top": null,
       "visibility": null,
       "width": null
      }
     },
     "bd85523d232e4b46a43ca784dc85a866": {
      "model_module": "@jupyter-widgets/base",
      "model_module_version": "1.2.0",
      "model_name": "LayoutModel",
      "state": {
       "_model_module": "@jupyter-widgets/base",
       "_model_module_version": "1.2.0",
       "_model_name": "LayoutModel",
       "_view_count": null,
       "_view_module": "@jupyter-widgets/base",
       "_view_module_version": "1.2.0",
       "_view_name": "LayoutView",
       "align_content": null,
       "align_items": null,
       "align_self": null,
       "border": null,
       "bottom": null,
       "display": null,
       "flex": null,
       "flex_flow": null,
       "grid_area": null,
       "grid_auto_columns": null,
       "grid_auto_flow": null,
       "grid_auto_rows": null,
       "grid_column": null,
       "grid_gap": null,
       "grid_row": null,
       "grid_template_areas": null,
       "grid_template_columns": null,
       "grid_template_rows": null,
       "height": null,
       "justify_content": null,
       "justify_items": null,
       "left": null,
       "margin": null,
       "max_height": null,
       "max_width": null,
       "min_height": null,
       "min_width": null,
       "object_fit": null,
       "object_position": null,
       "order": null,
       "overflow": null,
       "overflow_x": null,
       "overflow_y": null,
       "padding": null,
       "right": null,
       "top": null,
       "visibility": null,
       "width": null
      }
     },
     "bf444a345f674723829a78686efd3ac2": {
      "model_module": "@jupyter-widgets/base",
      "model_module_version": "1.2.0",
      "model_name": "LayoutModel",
      "state": {
       "_model_module": "@jupyter-widgets/base",
       "_model_module_version": "1.2.0",
       "_model_name": "LayoutModel",
       "_view_count": null,
       "_view_module": "@jupyter-widgets/base",
       "_view_module_version": "1.2.0",
       "_view_name": "LayoutView",
       "align_content": null,
       "align_items": null,
       "align_self": null,
       "border": null,
       "bottom": null,
       "display": null,
       "flex": null,
       "flex_flow": null,
       "grid_area": null,
       "grid_auto_columns": null,
       "grid_auto_flow": null,
       "grid_auto_rows": null,
       "grid_column": null,
       "grid_gap": null,
       "grid_row": null,
       "grid_template_areas": null,
       "grid_template_columns": null,
       "grid_template_rows": null,
       "height": null,
       "justify_content": null,
       "justify_items": null,
       "left": null,
       "margin": null,
       "max_height": null,
       "max_width": null,
       "min_height": null,
       "min_width": null,
       "object_fit": null,
       "object_position": null,
       "order": null,
       "overflow": null,
       "overflow_x": null,
       "overflow_y": null,
       "padding": null,
       "right": null,
       "top": null,
       "visibility": null,
       "width": null
      }
     },
     "c08692bf763047d3af15d29d291eb12d": {
      "model_module": "@jupyter-widgets/controls",
      "model_module_version": "1.5.0",
      "model_name": "DescriptionStyleModel",
      "state": {
       "_model_module": "@jupyter-widgets/controls",
       "_model_module_version": "1.5.0",
       "_model_name": "DescriptionStyleModel",
       "_view_count": null,
       "_view_module": "@jupyter-widgets/base",
       "_view_module_version": "1.2.0",
       "_view_name": "StyleView",
       "description_width": ""
      }
     },
     "c157269e4c5840c29d139d3603ec53fe": {
      "model_module": "@jupyter-widgets/controls",
      "model_module_version": "1.5.0",
      "model_name": "HTMLModel",
      "state": {
       "_dom_classes": [],
       "_model_module": "@jupyter-widgets/controls",
       "_model_module_version": "1.5.0",
       "_model_name": "HTMLModel",
       "_view_count": null,
       "_view_module": "@jupyter-widgets/controls",
       "_view_module_version": "1.5.0",
       "_view_name": "HTMLView",
       "description": "",
       "description_tooltip": null,
       "layout": "IPY_MODEL_c1bcc98fe8cf49d2b835f1f2cc2f13eb",
       "placeholder": "​",
       "style": "IPY_MODEL_86266ccc32d24ec6847a384db3bad18a",
       "value": "Map: 100%"
      }
     },
     "c1bcc98fe8cf49d2b835f1f2cc2f13eb": {
      "model_module": "@jupyter-widgets/base",
      "model_module_version": "1.2.0",
      "model_name": "LayoutModel",
      "state": {
       "_model_module": "@jupyter-widgets/base",
       "_model_module_version": "1.2.0",
       "_model_name": "LayoutModel",
       "_view_count": null,
       "_view_module": "@jupyter-widgets/base",
       "_view_module_version": "1.2.0",
       "_view_name": "LayoutView",
       "align_content": null,
       "align_items": null,
       "align_self": null,
       "border": null,
       "bottom": null,
       "display": null,
       "flex": null,
       "flex_flow": null,
       "grid_area": null,
       "grid_auto_columns": null,
       "grid_auto_flow": null,
       "grid_auto_rows": null,
       "grid_column": null,
       "grid_gap": null,
       "grid_row": null,
       "grid_template_areas": null,
       "grid_template_columns": null,
       "grid_template_rows": null,
       "height": null,
       "justify_content": null,
       "justify_items": null,
       "left": null,
       "margin": null,
       "max_height": null,
       "max_width": null,
       "min_height": null,
       "min_width": null,
       "object_fit": null,
       "object_position": null,
       "order": null,
       "overflow": null,
       "overflow_x": null,
       "overflow_y": null,
       "padding": null,
       "right": null,
       "top": null,
       "visibility": null,
       "width": null
      }
     },
     "c276c197af69478c9248f75eda3e4f5d": {
      "model_module": "@jupyter-widgets/controls",
      "model_module_version": "1.5.0",
      "model_name": "DescriptionStyleModel",
      "state": {
       "_model_module": "@jupyter-widgets/controls",
       "_model_module_version": "1.5.0",
       "_model_name": "DescriptionStyleModel",
       "_view_count": null,
       "_view_module": "@jupyter-widgets/base",
       "_view_module_version": "1.2.0",
       "_view_name": "StyleView",
       "description_width": ""
      }
     },
     "c53be7f7d6c1465a8a35ca67d3550ffd": {
      "model_module": "@jupyter-widgets/controls",
      "model_module_version": "1.5.0",
      "model_name": "DescriptionStyleModel",
      "state": {
       "_model_module": "@jupyter-widgets/controls",
       "_model_module_version": "1.5.0",
       "_model_name": "DescriptionStyleModel",
       "_view_count": null,
       "_view_module": "@jupyter-widgets/base",
       "_view_module_version": "1.2.0",
       "_view_name": "StyleView",
       "description_width": ""
      }
     },
     "c9b500ce5424453ab7c90c958a634398": {
      "model_module": "@jupyter-widgets/controls",
      "model_module_version": "1.5.0",
      "model_name": "FloatProgressModel",
      "state": {
       "_dom_classes": [],
       "_model_module": "@jupyter-widgets/controls",
       "_model_module_version": "1.5.0",
       "_model_name": "FloatProgressModel",
       "_view_count": null,
       "_view_module": "@jupyter-widgets/controls",
       "_view_module_version": "1.5.0",
       "_view_name": "ProgressView",
       "bar_style": "success",
       "description": "",
       "description_tooltip": null,
       "layout": "IPY_MODEL_b68b574bbad1430d98a63422d517bc1e",
       "max": 7684.0,
       "min": 0.0,
       "orientation": "horizontal",
       "style": "IPY_MODEL_3131589e83584c429d380bca613a820f",
       "value": 7684.0
      }
     },
     "ca6be8ed12d44ffaa3e1d87ecf4b9f76": {
      "model_module": "@jupyter-widgets/controls",
      "model_module_version": "1.5.0",
      "model_name": "HTMLModel",
      "state": {
       "_dom_classes": [],
       "_model_module": "@jupyter-widgets/controls",
       "_model_module_version": "1.5.0",
       "_model_name": "HTMLModel",
       "_view_count": null,
       "_view_module": "@jupyter-widgets/controls",
       "_view_module_version": "1.5.0",
       "_view_name": "HTMLView",
       "description": "",
       "description_tooltip": null,
       "layout": "IPY_MODEL_f13e29cab90446f08e59bc054c961fdb",
       "placeholder": "​",
       "style": "IPY_MODEL_c276c197af69478c9248f75eda3e4f5d",
       "value": " 69153/69153 [00:04&lt;00:00, 15553.57 examples/s]"
      }
     },
     "caecbb64dc414f21b17b15554e764d77": {
      "model_module": "@jupyter-widgets/controls",
      "model_module_version": "1.5.0",
      "model_name": "FloatProgressModel",
      "state": {
       "_dom_classes": [],
       "_model_module": "@jupyter-widgets/controls",
       "_model_module_version": "1.5.0",
       "_model_name": "FloatProgressModel",
       "_view_count": null,
       "_view_module": "@jupyter-widgets/controls",
       "_view_module_version": "1.5.0",
       "_view_name": "ProgressView",
       "bar_style": "success",
       "description": "",
       "description_tooltip": null,
       "layout": "IPY_MODEL_34fac769c1ee4aca9e77c54ba3497bf5",
       "max": 69153.0,
       "min": 0.0,
       "orientation": "horizontal",
       "style": "IPY_MODEL_1a05854677cf43dd8b115ef949511a84",
       "value": 69153.0
      }
     },
     "d4c1ab2b5ea04f9cbd70e3dc5c3f648f": {
      "model_module": "@jupyter-widgets/controls",
      "model_module_version": "1.5.0",
      "model_name": "FloatProgressModel",
      "state": {
       "_dom_classes": [],
       "_model_module": "@jupyter-widgets/controls",
       "_model_module_version": "1.5.0",
       "_model_name": "FloatProgressModel",
       "_view_count": null,
       "_view_module": "@jupyter-widgets/controls",
       "_view_module_version": "1.5.0",
       "_view_name": "ProgressView",
       "bar_style": "success",
       "description": "",
       "description_tooltip": null,
       "layout": "IPY_MODEL_ad80e40ebb9a43d084724fbe0d934447",
       "max": 27065.0,
       "min": 0.0,
       "orientation": "horizontal",
       "style": "IPY_MODEL_947c6a09981c40afa6733c3c86fa8d28",
       "value": 27065.0
      }
     },
     "d5c0ef57c42640bbade0ebb0910235b7": {
      "model_module": "@jupyter-widgets/controls",
      "model_module_version": "1.5.0",
      "model_name": "ProgressStyleModel",
      "state": {
       "_model_module": "@jupyter-widgets/controls",
       "_model_module_version": "1.5.0",
       "_model_name": "ProgressStyleModel",
       "_view_count": null,
       "_view_module": "@jupyter-widgets/base",
       "_view_module_version": "1.2.0",
       "_view_name": "StyleView",
       "bar_color": null,
       "description_width": ""
      }
     },
     "d6307af7b39c4a43944129d04e9668c4": {
      "model_module": "@jupyter-widgets/controls",
      "model_module_version": "1.5.0",
      "model_name": "HTMLModel",
      "state": {
       "_dom_classes": [],
       "_model_module": "@jupyter-widgets/controls",
       "_model_module_version": "1.5.0",
       "_model_name": "HTMLModel",
       "_view_count": null,
       "_view_module": "@jupyter-widgets/controls",
       "_view_module_version": "1.5.0",
       "_view_name": "HTMLView",
       "description": "",
       "description_tooltip": null,
       "layout": "IPY_MODEL_57fbad599aa1427483bff27202a8a39d",
       "placeholder": "​",
       "style": "IPY_MODEL_6f1e64891ebf4f27ad856eda76171421",
       "value": " 135M/135M [00:00&lt;00:00, 232MB/s]"
      }
     },
     "d862262d1fff423ea9cb0b1249bbf746": {
      "model_module": "@jupyter-widgets/controls",
      "model_module_version": "1.5.0",
      "model_name": "HBoxModel",
      "state": {
       "_dom_classes": [],
       "_model_module": "@jupyter-widgets/controls",
       "_model_module_version": "1.5.0",
       "_model_name": "HBoxModel",
       "_view_count": null,
       "_view_module": "@jupyter-widgets/controls",
       "_view_module_version": "1.5.0",
       "_view_name": "HBoxView",
       "box_style": "",
       "children": [
        "IPY_MODEL_633cb11c40ca4b748ab96961a8c56288",
        "IPY_MODEL_97d5bfeba4144b7aaf8355b34b884806",
        "IPY_MODEL_d6307af7b39c4a43944129d04e9668c4"
       ],
       "layout": "IPY_MODEL_b89d56678d1046d9ab265acbe0a3d970"
      }
     },
     "db39b928b4674445aadd1cdb3b2f0a03": {
      "model_module": "@jupyter-widgets/controls",
      "model_module_version": "1.5.0",
      "model_name": "FloatProgressModel",
      "state": {
       "_dom_classes": [],
       "_model_module": "@jupyter-widgets/controls",
       "_model_module_version": "1.5.0",
       "_model_name": "FloatProgressModel",
       "_view_count": null,
       "_view_module": "@jupyter-widgets/controls",
       "_view_module_version": "1.5.0",
       "_view_name": "ProgressView",
       "bar_style": "success",
       "description": "",
       "description_tooltip": null,
       "layout": "IPY_MODEL_0291c456d89c46b3ba0239455b241d72",
       "max": 507.0,
       "min": 0.0,
       "orientation": "horizontal",
       "style": "IPY_MODEL_6de70b56f2e64e03888928dd27c98100",
       "value": 507.0
      }
     },
     "db6f4db7a33f4656980e4c49ff21db94": {
      "model_module": "@jupyter-widgets/controls",
      "model_module_version": "1.5.0",
      "model_name": "FloatProgressModel",
      "state": {
       "_dom_classes": [],
       "_model_module": "@jupyter-widgets/controls",
       "_model_module_version": "1.5.0",
       "_model_name": "FloatProgressModel",
       "_view_count": null,
       "_view_module": "@jupyter-widgets/controls",
       "_view_module_version": "1.5.0",
       "_view_name": "ProgressView",
       "bar_style": "success",
       "description": "",
       "description_tooltip": null,
       "layout": "IPY_MODEL_e658750af5bf4551bd3d3cac69346b33",
       "max": 5646064.0,
       "min": 0.0,
       "orientation": "horizontal",
       "style": "IPY_MODEL_d5c0ef57c42640bbade0ebb0910235b7",
       "value": 5646064.0
      }
     },
     "dbfc8bf17126456da09bbddf860dc6bb": {
      "model_module": "@jupyter-widgets/base",
      "model_module_version": "1.2.0",
      "model_name": "LayoutModel",
      "state": {
       "_model_module": "@jupyter-widgets/base",
       "_model_module_version": "1.2.0",
       "_model_name": "LayoutModel",
       "_view_count": null,
       "_view_module": "@jupyter-widgets/base",
       "_view_module_version": "1.2.0",
       "_view_name": "LayoutView",
       "align_content": null,
       "align_items": null,
       "align_self": null,
       "border": null,
       "bottom": null,
       "display": null,
       "flex": null,
       "flex_flow": null,
       "grid_area": null,
       "grid_auto_columns": null,
       "grid_auto_flow": null,
       "grid_auto_rows": null,
       "grid_column": null,
       "grid_gap": null,
       "grid_row": null,
       "grid_template_areas": null,
       "grid_template_columns": null,
       "grid_template_rows": null,
       "height": null,
       "justify_content": null,
       "justify_items": null,
       "left": null,
       "margin": null,
       "max_height": null,
       "max_width": null,
       "min_height": null,
       "min_width": null,
       "object_fit": null,
       "object_position": null,
       "order": null,
       "overflow": null,
       "overflow_x": null,
       "overflow_y": null,
       "padding": null,
       "right": null,
       "top": null,
       "visibility": null,
       "width": null
      }
     },
     "ddbe671b32a94ba0b4b7e95a7b894566": {
      "model_module": "@jupyter-widgets/controls",
      "model_module_version": "1.5.0",
      "model_name": "HTMLModel",
      "state": {
       "_dom_classes": [],
       "_model_module": "@jupyter-widgets/controls",
       "_model_module_version": "1.5.0",
       "_model_name": "HTMLModel",
       "_view_count": null,
       "_view_module": "@jupyter-widgets/controls",
       "_view_module_version": "1.5.0",
       "_view_name": "HTMLView",
       "description": "",
       "description_tooltip": null,
       "layout": "IPY_MODEL_10de7b722fa04c7bbff1722febc65326",
       "placeholder": "​",
       "style": "IPY_MODEL_55f9248d588d4c64a59ad32882ac7854",
       "value": "Map: 100%"
      }
     },
     "e650913af9594427b359d20c41e2cf76": {
      "model_module": "@jupyter-widgets/base",
      "model_module_version": "1.2.0",
      "model_name": "LayoutModel",
      "state": {
       "_model_module": "@jupyter-widgets/base",
       "_model_module_version": "1.2.0",
       "_model_name": "LayoutModel",
       "_view_count": null,
       "_view_module": "@jupyter-widgets/base",
       "_view_module_version": "1.2.0",
       "_view_name": "LayoutView",
       "align_content": null,
       "align_items": null,
       "align_self": null,
       "border": null,
       "bottom": null,
       "display": null,
       "flex": null,
       "flex_flow": null,
       "grid_area": null,
       "grid_auto_columns": null,
       "grid_auto_flow": null,
       "grid_auto_rows": null,
       "grid_column": null,
       "grid_gap": null,
       "grid_row": null,
       "grid_template_areas": null,
       "grid_template_columns": null,
       "grid_template_rows": null,
       "height": null,
       "justify_content": null,
       "justify_items": null,
       "left": null,
       "margin": null,
       "max_height": null,
       "max_width": null,
       "min_height": null,
       "min_width": null,
       "object_fit": null,
       "object_position": null,
       "order": null,
       "overflow": null,
       "overflow_x": null,
       "overflow_y": null,
       "padding": null,
       "right": null,
       "top": null,
       "visibility": null,
       "width": null
      }
     },
     "e658750af5bf4551bd3d3cac69346b33": {
      "model_module": "@jupyter-widgets/base",
      "model_module_version": "1.2.0",
      "model_name": "LayoutModel",
      "state": {
       "_model_module": "@jupyter-widgets/base",
       "_model_module_version": "1.2.0",
       "_model_name": "LayoutModel",
       "_view_count": null,
       "_view_module": "@jupyter-widgets/base",
       "_view_module_version": "1.2.0",
       "_view_name": "LayoutView",
       "align_content": null,
       "align_items": null,
       "align_self": null,
       "border": null,
       "bottom": null,
       "display": null,
       "flex": null,
       "flex_flow": null,
       "grid_area": null,
       "grid_auto_columns": null,
       "grid_auto_flow": null,
       "grid_auto_rows": null,
       "grid_column": null,
       "grid_gap": null,
       "grid_row": null,
       "grid_template_areas": null,
       "grid_template_columns": null,
       "grid_template_rows": null,
       "height": null,
       "justify_content": null,
       "justify_items": null,
       "left": null,
       "margin": null,
       "max_height": null,
       "max_width": null,
       "min_height": null,
       "min_width": null,
       "object_fit": null,
       "object_position": null,
       "order": null,
       "overflow": null,
       "overflow_x": null,
       "overflow_y": null,
       "padding": null,
       "right": null,
       "top": null,
       "visibility": null,
       "width": null
      }
     },
     "e7d016d049dc42b387df02997e03cc0d": {
      "model_module": "@jupyter-widgets/base",
      "model_module_version": "1.2.0",
      "model_name": "LayoutModel",
      "state": {
       "_model_module": "@jupyter-widgets/base",
       "_model_module_version": "1.2.0",
       "_model_name": "LayoutModel",
       "_view_count": null,
       "_view_module": "@jupyter-widgets/base",
       "_view_module_version": "1.2.0",
       "_view_name": "LayoutView",
       "align_content": null,
       "align_items": null,
       "align_self": null,
       "border": null,
       "bottom": null,
       "display": null,
       "flex": null,
       "flex_flow": null,
       "grid_area": null,
       "grid_auto_columns": null,
       "grid_auto_flow": null,
       "grid_auto_rows": null,
       "grid_column": null,
       "grid_gap": null,
       "grid_row": null,
       "grid_template_areas": null,
       "grid_template_columns": null,
       "grid_template_rows": null,
       "height": null,
       "justify_content": null,
       "justify_items": null,
       "left": null,
       "margin": null,
       "max_height": null,
       "max_width": null,
       "min_height": null,
       "min_width": null,
       "object_fit": null,
       "object_position": null,
       "order": null,
       "overflow": null,
       "overflow_x": null,
       "overflow_y": null,
       "padding": null,
       "right": null,
       "top": null,
       "visibility": null,
       "width": null
      }
     },
     "e7f8c17da037428aafacd437eba895dc": {
      "model_module": "@jupyter-widgets/base",
      "model_module_version": "1.2.0",
      "model_name": "LayoutModel",
      "state": {
       "_model_module": "@jupyter-widgets/base",
       "_model_module_version": "1.2.0",
       "_model_name": "LayoutModel",
       "_view_count": null,
       "_view_module": "@jupyter-widgets/base",
       "_view_module_version": "1.2.0",
       "_view_name": "LayoutView",
       "align_content": null,
       "align_items": null,
       "align_self": null,
       "border": null,
       "bottom": null,
       "display": null,
       "flex": null,
       "flex_flow": null,
       "grid_area": null,
       "grid_auto_columns": null,
       "grid_auto_flow": null,
       "grid_auto_rows": null,
       "grid_column": null,
       "grid_gap": null,
       "grid_row": null,
       "grid_template_areas": null,
       "grid_template_columns": null,
       "grid_template_rows": null,
       "height": null,
       "justify_content": null,
       "justify_items": null,
       "left": null,
       "margin": null,
       "max_height": null,
       "max_width": null,
       "min_height": null,
       "min_width": null,
       "object_fit": null,
       "object_position": null,
       "order": null,
       "overflow": null,
       "overflow_x": null,
       "overflow_y": null,
       "padding": null,
       "right": null,
       "top": null,
       "visibility": null,
       "width": null
      }
     },
     "eba0772ef876487a8bf4dccbf03459b5": {
      "model_module": "@jupyter-widgets/controls",
      "model_module_version": "1.5.0",
      "model_name": "HTMLModel",
      "state": {
       "_dom_classes": [],
       "_model_module": "@jupyter-widgets/controls",
       "_model_module_version": "1.5.0",
       "_model_name": "HTMLModel",
       "_view_count": null,
       "_view_module": "@jupyter-widgets/controls",
       "_view_module_version": "1.5.0",
       "_view_name": "HTMLView",
       "description": "",
       "description_tooltip": null,
       "layout": "IPY_MODEL_e7d016d049dc42b387df02997e03cc0d",
       "placeholder": "​",
       "style": "IPY_MODEL_f1e695c267a5403c97c7057488ec17d5",
       "value": "Map: 100%"
      }
     },
     "f13e29cab90446f08e59bc054c961fdb": {
      "model_module": "@jupyter-widgets/base",
      "model_module_version": "1.2.0",
      "model_name": "LayoutModel",
      "state": {
       "_model_module": "@jupyter-widgets/base",
       "_model_module_version": "1.2.0",
       "_model_name": "LayoutModel",
       "_view_count": null,
       "_view_module": "@jupyter-widgets/base",
       "_view_module_version": "1.2.0",
       "_view_name": "LayoutView",
       "align_content": null,
       "align_items": null,
       "align_self": null,
       "border": null,
       "bottom": null,
       "display": null,
       "flex": null,
       "flex_flow": null,
       "grid_area": null,
       "grid_auto_columns": null,
       "grid_auto_flow": null,
       "grid_auto_rows": null,
       "grid_column": null,
       "grid_gap": null,
       "grid_row": null,
       "grid_template_areas": null,
       "grid_template_columns": null,
       "grid_template_rows": null,
       "height": null,
       "justify_content": null,
       "justify_items": null,
       "left": null,
       "margin": null,
       "max_height": null,
       "max_width": null,
       "min_height": null,
       "min_width": null,
       "object_fit": null,
       "object_position": null,
       "order": null,
       "overflow": null,
       "overflow_x": null,
       "overflow_y": null,
       "padding": null,
       "right": null,
       "top": null,
       "visibility": null,
       "width": null
      }
     },
     "f1e695c267a5403c97c7057488ec17d5": {
      "model_module": "@jupyter-widgets/controls",
      "model_module_version": "1.5.0",
      "model_name": "DescriptionStyleModel",
      "state": {
       "_model_module": "@jupyter-widgets/controls",
       "_model_module_version": "1.5.0",
       "_model_name": "DescriptionStyleModel",
       "_view_count": null,
       "_view_module": "@jupyter-widgets/base",
       "_view_module_version": "1.2.0",
       "_view_name": "StyleView",
       "description_width": ""
      }
     },
     "f3ce742e252145969b21743c6a443b1f": {
      "model_module": "@jupyter-widgets/base",
      "model_module_version": "1.2.0",
      "model_name": "LayoutModel",
      "state": {
       "_model_module": "@jupyter-widgets/base",
       "_model_module_version": "1.2.0",
       "_model_name": "LayoutModel",
       "_view_count": null,
       "_view_module": "@jupyter-widgets/base",
       "_view_module_version": "1.2.0",
       "_view_name": "LayoutView",
       "align_content": null,
       "align_items": null,
       "align_self": null,
       "border": null,
       "bottom": null,
       "display": null,
       "flex": null,
       "flex_flow": null,
       "grid_area": null,
       "grid_auto_columns": null,
       "grid_auto_flow": null,
       "grid_auto_rows": null,
       "grid_column": null,
       "grid_gap": null,
       "grid_row": null,
       "grid_template_areas": null,
       "grid_template_columns": null,
       "grid_template_rows": null,
       "height": null,
       "justify_content": null,
       "justify_items": null,
       "left": null,
       "margin": null,
       "max_height": null,
       "max_width": null,
       "min_height": null,
       "min_width": null,
       "object_fit": null,
       "object_position": null,
       "order": null,
       "overflow": null,
       "overflow_x": null,
       "overflow_y": null,
       "padding": null,
       "right": null,
       "top": null,
       "visibility": null,
       "width": null
      }
     },
     "f69111b6818f40429aa83a3e8597abb2": {
      "model_module": "@jupyter-widgets/base",
      "model_module_version": "1.2.0",
      "model_name": "LayoutModel",
      "state": {
       "_model_module": "@jupyter-widgets/base",
       "_model_module_version": "1.2.0",
       "_model_name": "LayoutModel",
       "_view_count": null,
       "_view_module": "@jupyter-widgets/base",
       "_view_module_version": "1.2.0",
       "_view_name": "LayoutView",
       "align_content": null,
       "align_items": null,
       "align_self": null,
       "border": null,
       "bottom": null,
       "display": null,
       "flex": null,
       "flex_flow": null,
       "grid_area": null,
       "grid_auto_columns": null,
       "grid_auto_flow": null,
       "grid_auto_rows": null,
       "grid_column": null,
       "grid_gap": null,
       "grid_row": null,
       "grid_template_areas": null,
       "grid_template_columns": null,
       "grid_template_rows": null,
       "height": null,
       "justify_content": null,
       "justify_items": null,
       "left": null,
       "margin": null,
       "max_height": null,
       "max_width": null,
       "min_height": null,
       "min_width": null,
       "object_fit": null,
       "object_position": null,
       "order": null,
       "overflow": null,
       "overflow_x": null,
       "overflow_y": null,
       "padding": null,
       "right": null,
       "top": null,
       "visibility": null,
       "width": null
      }
     },
     "f7e8b65acb4c422f8aa6d8763d3f401b": {
      "model_module": "@jupyter-widgets/base",
      "model_module_version": "1.2.0",
      "model_name": "LayoutModel",
      "state": {
       "_model_module": "@jupyter-widgets/base",
       "_model_module_version": "1.2.0",
       "_model_name": "LayoutModel",
       "_view_count": null,
       "_view_module": "@jupyter-widgets/base",
       "_view_module_version": "1.2.0",
       "_view_name": "LayoutView",
       "align_content": null,
       "align_items": null,
       "align_self": null,
       "border": null,
       "bottom": null,
       "display": null,
       "flex": null,
       "flex_flow": null,
       "grid_area": null,
       "grid_auto_columns": null,
       "grid_auto_flow": null,
       "grid_auto_rows": null,
       "grid_column": null,
       "grid_gap": null,
       "grid_row": null,
       "grid_template_areas": null,
       "grid_template_columns": null,
       "grid_template_rows": null,
       "height": null,
       "justify_content": null,
       "justify_items": null,
       "left": null,
       "margin": null,
       "max_height": null,
       "max_width": null,
       "min_height": null,
       "min_width": null,
       "object_fit": null,
       "object_position": null,
       "order": null,
       "overflow": null,
       "overflow_x": null,
       "overflow_y": null,
       "padding": null,
       "right": null,
       "top": null,
       "visibility": null,
       "width": null
      }
     },
     "fb4b1ba4c5e64de1a43bb073c7e12e60": {
      "model_module": "@jupyter-widgets/base",
      "model_module_version": "1.2.0",
      "model_name": "LayoutModel",
      "state": {
       "_model_module": "@jupyter-widgets/base",
       "_model_module_version": "1.2.0",
       "_model_name": "LayoutModel",
       "_view_count": null,
       "_view_module": "@jupyter-widgets/base",
       "_view_module_version": "1.2.0",
       "_view_name": "LayoutView",
       "align_content": null,
       "align_items": null,
       "align_self": null,
       "border": null,
       "bottom": null,
       "display": null,
       "flex": null,
       "flex_flow": null,
       "grid_area": null,
       "grid_auto_columns": null,
       "grid_auto_flow": null,
       "grid_auto_rows": null,
       "grid_column": null,
       "grid_gap": null,
       "grid_row": null,
       "grid_template_areas": null,
       "grid_template_columns": null,
       "grid_template_rows": null,
       "height": null,
       "justify_content": null,
       "justify_items": null,
       "left": null,
       "margin": null,
       "max_height": null,
       "max_width": null,
       "min_height": null,
       "min_width": null,
       "object_fit": null,
       "object_position": null,
       "order": null,
       "overflow": null,
       "overflow_x": null,
       "overflow_y": null,
       "padding": null,
       "right": null,
       "top": null,
       "visibility": null,
       "width": null
      }
     }
    },
    "version_major": 2,
    "version_minor": 0
   }
  }
 },
 "nbformat": 4,
 "nbformat_minor": 5
}
